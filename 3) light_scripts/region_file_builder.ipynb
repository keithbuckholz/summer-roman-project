{
 "cells": [
  {
   "cell_type": "code",
   "execution_count": 1,
   "metadata": {},
   "outputs": [],
   "source": [
    "import numpy as np\n",
    "from astropy.table import Table\n",
    "\n",
    "hlss_tbl = Table.read(\"/Users/keith/astr/research_astr/FOV0/catalogs/MOT_SCA1_roll_0_dither_0x_0y_cut_zcut.txt\",\n",
    "                      format='ascii')\n",
    "hlss_tbl = hlss_tbl.group_by(\"MODIMAGE\")\n",
    "hlss_tbl.groups[0].sort(\"MAG_F1500W\", reverse=True)\n",
    "hlss_tbl.groups[1].sort(\"MAG_F1500W\", reverse=True)"
   ]
  },
  {
   "cell_type": "code",
   "execution_count": 2,
   "metadata": {},
   "outputs": [
    {
     "data": {
      "text/plain": [
       "198"
      ]
     },
     "execution_count": 2,
     "metadata": {},
     "output_type": "execute_result"
    }
   ],
   "source": [
    "reg_file = open(\"ds9_hlss_tbl.reg\", \"w\")\n",
    "galaxy_reg_file = open(\"ds9_hlss_galaxies.reg\", \"w\")\n",
    "star_reg_file = open(\"ds9_hlss_star.reg\", \"w\")\n",
    "\n",
    "reg_hdr = \"\"\"\n",
    "# Region file format: DS9 version 4.1\n",
    "global color=green dashlist=8 3 width=1 font=\"helvetica 10 normal roman\" select=1 highlite=1 dash=0 fixed=0 edit=1 move=1 delete=1 include=1 source=1\n",
    "detector\n",
    "\"\"\"\n",
    "\n",
    "reg_file.write(reg_hdr)"
   ]
  },
  {
   "cell_type": "code",
   "execution_count": 3,
   "metadata": {},
   "outputs": [],
   "source": [
    "galaxy_reg_hdr = \"\"\"\n",
    "# Region file format: DS9 version 4.1\n",
    "global color=cyan dashlist=8 3 width=1 font=\"helvetica 10 normal roman\" select=1 highlite=1 dash=0 fixed=0 edit=1 move=1 delete=1 include=1 source=1\n",
    "detector\n",
    "\"\"\"\n",
    "\n",
    "galaxy_reg_file.write(galaxy_reg_hdr)\n",
    "for galaxy in hlss_tbl.groups[0]:\n",
    "    x = galaxy[\"X_IMAGE\"]\n",
    "    y = galaxy[\"Y_IMAGE\"]\n",
    "    a = galaxy[\"A_IMAGE\"]\n",
    "    b = galaxy[\"B_IMAGE\"]\n",
    "    a_3 = a * 3\n",
    "    b_3 = b * 3\n",
    "    theta = galaxy[\"THETA_IMAGE\"]\n",
    "\n",
    "    # Write to full_region file (shapes given by catalog)\n",
    "    reg_line = f'ellipse({x},{y},{b},{a},{theta}) # color=cyan tag=\"{{galaxy}}\"\\n'\n",
    "    reg_file.write(reg_line)\n",
    "\n",
    "    # Write to galaxy-only region file (shapes used for seg map)\n",
    "    gal_line = f'ellipse({x},{y},{b_3},{a_3},{theta}) # color=blue tag=\"{{galaxy}}\" \\n'\n",
    "    galaxy_reg_file.write(gal_line)\n",
    "\n",
    "\n",
    "galaxy_reg_file.close()"
   ]
  },
  {
   "cell_type": "code",
   "execution_count": 4,
   "metadata": {},
   "outputs": [],
   "source": [
    "star_reg_hdr = \"\"\"\n",
    "# Region file format: DS9 version 4.1\n",
    "global color=red dashlist=8 3 width=1 font=\"helvetica 10 normal roman\" select=1 highlite=1 dash=0 fixed=0 edit=1 move=1 delete=1 include=1 source=1\n",
    "detector\n",
    "\"\"\"\n",
    "\n",
    "star_reg_file.write(star_reg_hdr)\n",
    "\n",
    "for star in hlss_tbl.groups[1]:\n",
    "    x = star[\"X_IMAGE\"]\n",
    "    y = star[\"Y_IMAGE\"]\n",
    "\n",
    "    # Write to full_region file (shape given by catalog)\n",
    "    reg_line = f'circle({x},{y},8) # color=magenta tag=\"{{star}}\"\\n'\n",
    "    reg_file.write(reg_line)\n",
    "\n",
    "    # Write to star-only region file (shape approx psf used to seg map)\n",
    "    star_line = f'circle({x},{y},40) # color=red tag=\"{{star}}\"\\n'\n",
    "    star_reg_file.write(star_line)\n",
    "\n",
    "star_reg_file.close()\n",
    "reg_file.close()"
   ]
  }
 ],
 "metadata": {
  "kernelspec": {
   "display_name": "grizli-env",
   "language": "python",
   "name": "python3"
  },
  "language_info": {
   "codemirror_mode": {
    "name": "ipython",
    "version": 3
   },
   "file_extension": ".py",
   "mimetype": "text/x-python",
   "name": "python",
   "nbconvert_exporter": "python",
   "pygments_lexer": "ipython3",
   "version": "3.12.3"
  }
 },
 "nbformat": 4,
 "nbformat_minor": 2
}
