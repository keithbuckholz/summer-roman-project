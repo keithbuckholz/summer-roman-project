{
 "cells": [
  {
   "cell_type": "code",
   "execution_count": 6,
   "metadata": {},
   "outputs": [],
   "source": [
    "from roman_fits_utils import modify_hdr, rotate_img\n",
    "from astropy.io import fits\n",
    "\n",
    "import os\n",
    "os.chdir(\"/Users/keith/astr/research_astr/summer-roman-project/predictable_extract/fits\") # path to fits directory"
   ]
  },
  {
   "cell_type": "code",
   "execution_count": 7,
   "metadata": {},
   "outputs": [],
   "source": [
    "filename = \"GRS_FOV0_roll0_dx0_dy0_SCA1_direct_final.fits\"\n",
    "modified_file  =  \"modified_{0}\".format(filename)\n",
    "ready_file     =  \"ready_direct_{0}\".format(filename)\n",
    "\n",
    "hdr_dict = {\"INSTRUME\": \"0;ROMAN\",\n",
    "            \"FILTER\":   \"0;d1_\",\n",
    "            \"CONFFILE\": \"1;/Users/keith/astr/research_astr/summer-roman-project/toy_configs/Roman.det1.07242020.conf\"}"
   ]
  },
  {
   "cell_type": "code",
   "execution_count": 8,
   "metadata": {},
   "outputs": [
    {
     "data": {
      "text/plain": [
       "0"
      ]
     },
     "execution_count": 8,
     "metadata": {},
     "output_type": "execute_result"
    }
   ],
   "source": [
    "modify_hdr(ready_file, ready_file, hdr_dict)\n",
    "# rotate_img(ready_file, ready_file)"
   ]
  }
 ],
 "metadata": {
  "kernelspec": {
   "display_name": "grizli_env",
   "language": "python",
   "name": "python3"
  },
  "language_info": {
   "codemirror_mode": {
    "name": "ipython",
    "version": 3
   },
   "file_extension": ".py",
   "mimetype": "text/x-python",
   "name": "python",
   "nbconvert_exporter": "python",
   "pygments_lexer": "ipython3",
   "version": "3.12.3"
  }
 },
 "nbformat": 4,
 "nbformat_minor": 2
}
