{
 "cells": [
  {
   "cell_type": "code",
   "execution_count": 1,
   "metadata": {},
   "outputs": [],
   "source": [
    "from roman_fits_utils import modify_hdr, rotate_img\n",
    "from astropy.io import fits\n",
    "\n",
    "import os\n",
    "os.chdir(\"/Users/keith/astr/research_astr/summer-roman-project/FOV0_extraction/fits\") # path to fits directory"
   ]
  },
  {
   "cell_type": "code",
   "execution_count": 2,
   "metadata": {},
   "outputs": [],
   "source": [
    "filename = \"filename.fits\"\n",
    "modified_file = \"modified_{0}\".format(filename)\n",
    "ready_file = \"ready_direct_{0}\".format(filename)\n",
    "\n",
    "hdr_dict = {\"INSTRUME\": \"0;ROMAN\",\n",
    "            \"FILTER\": \"0;d1_\",\n",
    "            \"CONFFILE\": \"1;/Users/keith/astr/research_astr/roman_configs/Roman.det1.07242020.conf\"}"
   ]
  },
  {
   "cell_type": "code",
   "execution_count": 3,
   "metadata": {},
   "outputs": [
    {
     "data": {
      "text/plain": [
       "0"
      ]
     },
     "execution_count": 3,
     "metadata": {},
     "output_type": "execute_result"
    }
   ],
   "source": [
    "filename = \"GRS_FOV0_roll0_dx0_dy0_SCA1_direct_final.fits\"\n",
    "modify_hdr(filename, filename, hdr_dict)\n",
    "rotate_img(filename, \"ready_direct_{0}\".format(filename))"
   ]
  }
 ],
 "metadata": {
  "kernelspec": {
   "display_name": "grizli_env",
   "language": "python",
   "name": "python3"
  },
  "language_info": {
   "codemirror_mode": {
    "name": "ipython",
    "version": 3
   },
   "file_extension": ".py",
   "mimetype": "text/x-python",
   "name": "python",
   "nbconvert_exporter": "python",
   "pygments_lexer": "ipython3",
   "version": "3.12.3"
  }
 },
 "nbformat": 4,
 "nbformat_minor": 2
}
