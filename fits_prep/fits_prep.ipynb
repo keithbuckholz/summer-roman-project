{
 "cells": [
  {
   "cell_type": "code",
   "execution_count": null,
   "metadata": {},
   "outputs": [],
   "source": [
    "from roman_fits_utils import modify_hdr, rotate_img\n",
    "\n",
    "import os\n",
    "# os.chdir(\"\") # path to fits directory"
   ]
  },
  {
   "cell_type": "code",
   "execution_count": null,
   "metadata": {},
   "outputs": [],
   "source": [
    "filename = \"filename.fits\"\n",
    "modified_file = \"modified_{0}\".format(filename)\n",
    "ready_file = \"ready_direct_{0}\".format(filename)\n",
    "\n",
    "hdr_dict = {\"INSTRUME\": \"0;ROMAN\",\n",
    "            \"FILTER\": \"0;det1\",\n",
    "            \"CONFFILE\": \"1;/Users/keith/astr/research_astr/roman_configs/Roman.det1.07242020.conf\"}"
   ]
  }
 ],
 "metadata": {
  "language_info": {
   "name": "python"
  }
 },
 "nbformat": 4,
 "nbformat_minor": 2
}
