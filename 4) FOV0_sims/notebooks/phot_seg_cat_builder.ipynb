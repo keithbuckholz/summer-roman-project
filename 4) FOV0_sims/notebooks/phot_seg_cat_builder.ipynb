{
 "cells": [
  {
   "cell_type": "markdown",
   "metadata": {},
   "source": [
    "# Builds the Seg Map and Catalog; Then, matches catalogs to get SEDs"
   ]
  },
  {
   "cell_type": "code",
   "execution_count": 10,
   "metadata": {},
   "outputs": [],
   "source": [
    "# General imports\n",
    "import os\n",
    "import numpy as np\n",
    "import matplotlib.pyplot as plt\n",
    "\n",
    "# Segmentation\n",
    "from astropy.io import fits\n",
    "from photutils.segmentation import SourceFinder, make_2dgaussian_kernel, SourceCatalog\n",
    "from photutils.background import Background2D, MedianBackground\n",
    "from astropy.convolution import convolve\n",
    "\n",
    "# Catalog Writing\n",
    "from astropy.table import Table, Column\n",
    "\n",
    "os.chdir(\"/Users/keith/astr/research_astr/summer-roman-project/4) FOV0_sims/fits\")\n",
    "root = \"GRS_FOV0_roll0_dx0_dy0_SCA1_direct_final.fits\" # Change filename with this variable\n",
    "direct_file = root\n",
    "seg_file = \"seg_{0}\".format(root)\n",
    "cat_file = \"cat_{0}.detect.cat\".format(root)"
   ]
  },
  {
   "cell_type": "code",
   "execution_count": 11,
   "metadata": {},
   "outputs": [
    {
     "data": {
      "application/vnd.jupyter.widget-view+json": {
       "model_id": "26e0c0938a54439ea9a60825912594ac",
       "version_major": 2,
       "version_minor": 0
      },
      "text/plain": [
       "Deblending:   0%|          | 0/6976 [00:00<?, ?it/s]"
      ]
     },
     "metadata": {},
     "output_type": "display_data"
    }
   ],
   "source": [
    "# Process direct image and produce segmentation map\n",
    "\n",
    "# Open image\n",
    "direct_fits = fits.open(direct_file)\n",
    "data, header = (direct_fits[1].data, direct_fits[1].header)\n",
    "direct_fits.close()\n",
    "\n",
    "# Subtract background\n",
    "bkg_estimator = MedianBackground()\n",
    "bkg = Background2D(data, (511,511), filter_size=(7,7), bkg_estimator=bkg_estimator)\n",
    "data -= bkg.background\n",
    "\n",
    "# Convolve image\n",
    "kernel = make_2dgaussian_kernel(3.0, 5)\n",
    "convolved_data = convolve(data, kernel)\n",
    "\n",
    "# Instantiate the SourceFinder and set threshold\n",
    "finder = SourceFinder(npixels=7, nlevels=32, contrast=0.01)\n",
    "threshold = 1.5 * bkg.background_rms\n",
    "\n",
    "seg_map = finder(convolved_data, threshold)\n",
    "\n",
    "# Save seg_map as fits\n",
    "# fits.writeto(seg_file, np.rot90(seg_map, k=3), header=header,overwrite=True)"
   ]
  },
  {
   "cell_type": "code",
   "execution_count": 12,
   "metadata": {},
   "outputs": [],
   "source": [
    "# Create Catalog\n",
    "cat = SourceCatalog(data, seg_map, convolved_data=convolved_data)\n",
    "\n",
    "# Grizli Expects these later\n",
    "cat.add_extra_property('id', np.cast[int](cat.label), overwrite=True)\n",
    "cat.add_extra_property('x_flt', cat.xcentroid, overwrite=True)\n",
    "cat.add_extra_property('y_flt', cat.ycentroid, overwrite=True)\n",
    "\n",
    "# Calculate flux using a reference object (reference object info hardcoded)\n",
    "mag = -2.5 * np.log10(cat.segment_flux/206.04939338564867) + 25.88\n",
    "cat.add_extra_property('mag_approx', mag, overwrite=True)\n",
    "\n",
    "# Convert cumbersome catalog into usable table\n",
    "columns = ['id', 'x_flt', 'y_flt', 'mag_approx', 'segment_flux']\n",
    "tbl = cat.to_table(columns)"
   ]
  },
  {
   "cell_type": "code",
   "execution_count": 13,
   "metadata": {},
   "outputs": [
    {
     "data": {
      "text/html": [
       "<div><i>Table length=10763</i>\n",
       "<table id=\"table15312588960\" class=\"table-striped table-bordered table-condensed\">\n",
       "<thead><tr><th>NUMBER</th><th>X_IMAGE</th><th>Y_IMAGE</th><th>A_IMAGE</th><th>B_IMAGE</th><th>THETA_IMAGE</th><th>MAG_F1500W</th><th>SPECTEMP</th><th>Z</th><th>MODIMAGE</th><th>MODIMAGE_1</th><th>MODIMAGE_2</th></tr></thead>\n",
       "<thead><tr><th>int64</th><th>float64</th><th>float64</th><th>float64</th><th>float64</th><th>float64</th><th>float64</th><th>int64</th><th>float64</th><th>int64</th><th>float64</th><th>float64</th></tr></thead>\n",
       "<tr><td>4</td><td>2965.4511</td><td>4056.978</td><td>0.6203</td><td>0.388</td><td>21.95</td><td>26.21</td><td>4</td><td>1.374447</td><td>0</td><td>9.4302282</td><td>-0.6739474</td></tr>\n",
       "<tr><td>46</td><td>340.3526</td><td>908.0579</td><td>1.8571</td><td>0.4785</td><td>243.59</td><td>21.64</td><td>46</td><td>0.958482</td><td>0</td><td>9.5106588</td><td>-0.7718471</td></tr>\n",
       "<tr><td>47</td><td>313.286</td><td>837.3047</td><td>1.814</td><td>0.8653</td><td>125.64</td><td>23.96</td><td>47</td><td>0.958811</td><td>0</td><td>9.5114989</td><td>-0.7740602</td></tr>\n",
       "<tr><td>48</td><td>453.5686</td><td>848.8077</td><td>4.4273</td><td>4.1741</td><td>98.6</td><td>22.18</td><td>48</td><td>0.958589</td><td>0</td><td>9.5072026</td><td>-0.7736788</td></tr>\n",
       "<tr><td>52</td><td>3854.294</td><td>3623.7213</td><td>1.5177</td><td>0.9869</td><td>110.22</td><td>23.03</td><td>52</td><td>2.654787</td><td>0</td><td>9.4031738</td><td>-0.6872854</td></tr>\n",
       "<tr><td>53</td><td>3904.9373</td><td>3694.7973</td><td>2.0546</td><td>1.1478</td><td>264.9</td><td>24.07</td><td>53</td><td>2.654781</td><td>0</td><td>9.4016304</td><td>-0.6850911</td></tr>\n",
       "<tr><td>54</td><td>3719.5634</td><td>3484.9821</td><td>2.2213</td><td>2.1337</td><td>32.39</td><td>22.65</td><td>54</td><td>2.654636</td><td>0</td><td>9.40728</td><td>-0.6915712</td></tr>\n",
       "<tr><td>55</td><td>3822.519</td><td>3453.6168</td><td>1.67</td><td>1.5368</td><td>323.4</td><td>24.01</td><td>55</td><td>2.655306</td><td>0</td><td>9.4041444</td><td>-0.6925379</td></tr>\n",
       "<tr><td>56</td><td>3854.3317</td><td>3388.7815</td><td>1.5708</td><td>1.1978</td><td>246.17</td><td>26.67</td><td>56</td><td>2.655155</td><td>0</td><td>9.4031764</td><td>-0.69454</td></tr>\n",
       "<tr><td>57</td><td>3769.4532</td><td>3262.8431</td><td>1.0997</td><td>0.4871</td><td>272.33</td><td>25.62</td><td>57</td><td>2.654981</td><td>0</td><td>9.4057645</td><td>-0.6984328</td></tr>\n",
       "<tr><td>...</td><td>...</td><td>...</td><td>...</td><td>...</td><td>...</td><td>...</td><td>...</td><td>...</td><td>...</td><td>...</td><td>...</td></tr>\n",
       "<tr><td>210197</td><td>1098.3678</td><td>1652.4935</td><td>8.0</td><td>8.0</td><td>0.0</td><td>27.5</td><td>197363</td><td>0.0</td><td>1</td><td>-1000.0</td><td>-1000.0</td></tr>\n",
       "<tr><td>210202</td><td>2498.2765</td><td>704.2314</td><td>8.0</td><td>8.0</td><td>0.0</td><td>27.5</td><td>197363</td><td>0.0</td><td>1</td><td>-1000.0</td><td>-1000.0</td></tr>\n",
       "<tr><td>210221</td><td>973.3105</td><td>2361.8806</td><td>8.0</td><td>8.0</td><td>0.0</td><td>27.5</td><td>197363</td><td>0.0</td><td>1</td><td>-1000.0</td><td>-1000.0</td></tr>\n",
       "<tr><td>210272</td><td>502.5144</td><td>2133.2333</td><td>8.0</td><td>8.0</td><td>0.0</td><td>27.5</td><td>197363</td><td>0.0</td><td>1</td><td>-1000.0</td><td>-1000.0</td></tr>\n",
       "<tr><td>210281</td><td>4018.746</td><td>998.9785</td><td>8.0</td><td>8.0</td><td>0.0</td><td>27.5</td><td>197363</td><td>0.0</td><td>1</td><td>-1000.0</td><td>-1000.0</td></tr>\n",
       "<tr><td>210318</td><td>2213.0775</td><td>3388.105</td><td>8.0</td><td>8.0</td><td>0.0</td><td>27.5</td><td>197363</td><td>0.0</td><td>1</td><td>-1000.0</td><td>-1000.0</td></tr>\n",
       "<tr><td>210343</td><td>587.4775</td><td>3637.134</td><td>8.0</td><td>8.0</td><td>0.0</td><td>27.5</td><td>197363</td><td>0.0</td><td>1</td><td>-1000.0</td><td>-1000.0</td></tr>\n",
       "<tr><td>210390</td><td>1398.2069</td><td>580.3346</td><td>8.0</td><td>8.0</td><td>0.0</td><td>27.5</td><td>197363</td><td>0.0</td><td>1</td><td>-1000.0</td><td>-1000.0</td></tr>\n",
       "<tr><td>210430</td><td>716.5325</td><td>3734.4632</td><td>8.0</td><td>8.0</td><td>0.0</td><td>27.5</td><td>197363</td><td>0.0</td><td>1</td><td>-1000.0</td><td>-1000.0</td></tr>\n",
       "<tr><td>210433</td><td>3299.9395</td><td>3893.7005</td><td>8.0</td><td>8.0</td><td>0.0</td><td>27.5</td><td>197363</td><td>0.0</td><td>1</td><td>-1000.0</td><td>-1000.0</td></tr>\n",
       "</table></div>"
      ],
      "text/plain": [
       "<Table length=10763>\n",
       "NUMBER  X_IMAGE   Y_IMAGE  A_IMAGE ...    Z     MODIMAGE MODIMAGE_1 MODIMAGE_2\n",
       "int64   float64   float64  float64 ... float64   int64    float64    float64  \n",
       "------ --------- --------- ------- ... -------- -------- ---------- ----------\n",
       "     4 2965.4511  4056.978  0.6203 ... 1.374447        0  9.4302282 -0.6739474\n",
       "    46  340.3526  908.0579  1.8571 ... 0.958482        0  9.5106588 -0.7718471\n",
       "    47   313.286  837.3047   1.814 ... 0.958811        0  9.5114989 -0.7740602\n",
       "    48  453.5686  848.8077  4.4273 ... 0.958589        0  9.5072026 -0.7736788\n",
       "    52  3854.294 3623.7213  1.5177 ... 2.654787        0  9.4031738 -0.6872854\n",
       "    53 3904.9373 3694.7973  2.0546 ... 2.654781        0  9.4016304 -0.6850911\n",
       "    54 3719.5634 3484.9821  2.2213 ... 2.654636        0    9.40728 -0.6915712\n",
       "    55  3822.519 3453.6168    1.67 ... 2.655306        0  9.4041444 -0.6925379\n",
       "    56 3854.3317 3388.7815  1.5708 ... 2.655155        0  9.4031764   -0.69454\n",
       "    57 3769.4532 3262.8431  1.0997 ... 2.654981        0  9.4057645 -0.6984328\n",
       "   ...       ...       ...     ... ...      ...      ...        ...        ...\n",
       "210197 1098.3678 1652.4935     8.0 ...      0.0        1    -1000.0    -1000.0\n",
       "210202 2498.2765  704.2314     8.0 ...      0.0        1    -1000.0    -1000.0\n",
       "210221  973.3105 2361.8806     8.0 ...      0.0        1    -1000.0    -1000.0\n",
       "210272  502.5144 2133.2333     8.0 ...      0.0        1    -1000.0    -1000.0\n",
       "210281  4018.746  998.9785     8.0 ...      0.0        1    -1000.0    -1000.0\n",
       "210318 2213.0775  3388.105     8.0 ...      0.0        1    -1000.0    -1000.0\n",
       "210343  587.4775  3637.134     8.0 ...      0.0        1    -1000.0    -1000.0\n",
       "210390 1398.2069  580.3346     8.0 ...      0.0        1    -1000.0    -1000.0\n",
       "210430  716.5325 3734.4632     8.0 ...      0.0        1    -1000.0    -1000.0\n",
       "210433 3299.9395 3893.7005     8.0 ...      0.0        1    -1000.0    -1000.0"
      ]
     },
     "execution_count": 13,
     "metadata": {},
     "output_type": "execute_result"
    }
   ],
   "source": [
    "hlss_tbl = Table.read(\"/Users/keith/astr/research_astr/FOV0/catalogs/MOT_SCA1_roll_0_dither_0x_0y_cut_zcut.txt\",\n",
    "                      format='ascii')"
   ]
  },
  {
   "cell_type": "code",
   "execution_count": 14,
   "metadata": {},
   "outputs": [],
   "source": [
    "hlss_tbl = Table.read(\"/Users/keith/astr/research_astr/FOV0/catalogs/MOT_SCA1_roll_0_dither_0x_0y_cut_zcut.txt\",\n",
    "                      format='ascii')\n",
    "                    \n",
    "column = Column(name=\"mag\", length=len(tbl), dtype=float)\n",
    "tbl.add_column(column)\n",
    "\n",
    "column = Column(name=\"hlss_id\", length=len(tbl))\n",
    "tbl.add_column(column)             \n",
    "\n",
    "column = Column(name=\"distance\", length=len(tbl))\n",
    "tbl.add_column(column)       \n",
    "\n",
    "column = Column(name=\"z\", length=len(tbl))\n",
    "tbl.add_column(column)   \n",
    "\n",
    "column = Column(name=\"MODIMAGE\", length=len(tbl), dtype=int)\n",
    "tbl.add_column(column) \n",
    "\n",
    "column = Column(data=np.empty(len(tbl)), name=\"SED\", dtype=str)\n",
    "tbl.add_column(column)\n",
    "\n",
    "\n",
    "# Adding this for patches\n",
    "column = Column(name=\"A_IMAGE\", length=len(tbl), dtype=float)\n",
    "tbl.add_column(column) \n",
    "\n",
    "column = Column(name=\"B_IMAGE\", length=len(tbl), dtype=float)\n",
    "tbl.add_column(column) \n",
    "\n",
    "column = Column(name=\"THETA_IMAGE\", length=len(tbl), dtype=float)\n",
    "tbl.add_column(column) \n",
    "\n",
    "\n",
    "del column"
   ]
  },
  {
   "cell_type": "code",
   "execution_count": 15,
   "metadata": {},
   "outputs": [
    {
     "name": "stdout",
     "output_type": "stream",
     "text": [
      "# of matches:  8195\n"
     ]
    }
   ],
   "source": [
    "# Find potential matches\n",
    "for ii, object in enumerate(tbl):\n",
    "    tbl_x, tbl_y = object[\"x_flt\"], object[\"y_flt\"]\n",
    "    hlss_x, hlss_y = hlss_tbl[\"X_IMAGE\"], hlss_tbl[\"Y_IMAGE\"]\n",
    "\n",
    "    d2d_squared = (tbl_x - hlss_x)**2 + (tbl_y - hlss_y)**2\n",
    "\n",
    "    min_d2d = np.min(d2d_squared)\n",
    "\n",
    "    min_match_dist = 10**2\n",
    "\n",
    "    if min_d2d < min_match_dist:\n",
    "        min_index = np.argmin(d2d_squared)\n",
    "\n",
    "        # Store match\n",
    "        tbl[\"hlss_id\"][ii] = hlss_tbl[\"NUMBER\"][min_index]\n",
    "        tbl[\"distance\"][ii] = min_d2d\n",
    "\n",
    "        # Store match's info from the HLSS catalog\n",
    "        tbl[\"SED\"][ii] = \"SED:rest:gal.{0}.fits\".format(hlss_tbl['SPECTEMP'][min_index])\n",
    "        tbl[\"MODIMAGE\"][ii] = hlss_tbl[\"MODIMAGE\"][min_index]\n",
    "        tbl['z'][ii] = hlss_tbl['Z'][min_index]\n",
    "        tbl[\"mag\"][ii] = hlss_tbl[\"MAG_F1500W\"][min_index]\n",
    "\n",
    "\n",
    "        # Adding this for patches\n",
    "        tbl[\"A_IMAGE\"][ii] = hlss_tbl[\"A_IMAGE\"][min_index]\n",
    "        tbl[\"B_IMAGE\"][ii] = hlss_tbl[\"B_IMAGE\"][min_index]\n",
    "        tbl[\"THETA_IMAGE\"][ii] = hlss_tbl[\"THETA_IMAGE\"][min_index]\n",
    "\n",
    "\n",
    "matches = len(np.where(tbl[\"hlss_id\"] != 0)[0])\n",
    "print(\"# of matches: \", matches)"
   ]
  },
  {
   "cell_type": "code",
   "execution_count": 16,
   "metadata": {},
   "outputs": [
    {
     "name": "stdout",
     "output_type": "stream",
     "text": [
      "# of double matched objects:  18\n",
      "# of matches without doubles:  8368\n"
     ]
    }
   ],
   "source": [
    "from collections import defaultdict\n",
    "\n",
    "D = defaultdict(list)\n",
    "\n",
    "for row_num, hlss_id in enumerate(tbl['hlss_id']):\n",
    "    # if hlss_id == 0:\n",
    "    #     continue\n",
    "    D[hlss_id].append(row_num)\n",
    "D = {k:v for k,v in D.items() if len(v)>1}\n",
    "\n",
    "print(\"# of double matched objects: \", len(D))\n",
    "print(\"# of matches without doubles: \", len(tbl) - len(D))\n",
    "\n",
    "# Identify farthest duplicates; assume those should be removed\n",
    "remove = []\n",
    "for key in D.keys():\n",
    "    row_nums = D[key]\n",
    "    keep = row_nums[np.argmin([tbl[ii][\"distance\"] for ii in row_nums])]\n",
    "    remove.append([ii for ii in row_nums if ii != keep])\n",
    "\n",
    "# Remove Duplicates\n",
    "for row_num in remove:\n",
    "    tbl[\"hlss_id\"][row_num] = str(0.0)\n",
    "    tbl[\"distance\"][row_num] = str(0.0)\n",
    "    tbl[\"SED\"][row_num] = str(0.0)\n",
    "\n",
    "tbl = tbl[np.where(tbl[\"hlss_id\"] != 0.0)]\n",
    "\n",
    "# Save Catalog\n",
    "if os.path.exists(cat_file):\n",
    "            os.remove(cat_file)\n",
    "tbl.write(cat_file, format=\"ascii.ecsv\")"
   ]
  },
  {
   "cell_type": "code",
   "execution_count": 24,
   "metadata": {},
   "outputs": [
    {
     "data": {
      "text/plain": [
       "[<matplotlib.lines.Line2D at 0x39365d310>]"
      ]
     },
     "execution_count": 24,
     "metadata": {},
     "output_type": "execute_result"
    },
    {
     "data": {
      "image/png": "[encoded data removed]",
      "text/plain": [
       "<Figure size 640x480 with 1 Axes>"
      ]
     },
     "metadata": {},
     "output_type": "display_data"
    }
   ],
   "source": [
    "import pysynphot as S\n",
    "\n",
    "bp = S.ArrayBandpass(df[\"WAVELENGTH\"], df[\"THROUGHPUT\"])\n",
    "\n",
    "plt.plot(bp.wave, bp.throughput)"
   ]
  }
 ],
 "metadata": {
  "kernelspec": {
   "display_name": "grizli-env",
   "language": "python",
   "name": "python3"
  },
  "language_info": {
   "codemirror_mode": {
    "name": "ipython",
    "version": 3
   },
   "file_extension": ".py",
   "mimetype": "text/x-python",
   "name": "python",
   "nbconvert_exporter": "python",
   "pygments_lexer": "ipython3",
   "version": "3.12.3"
  }
 },
 "nbformat": 4,
 "nbformat_minor": 2
}
