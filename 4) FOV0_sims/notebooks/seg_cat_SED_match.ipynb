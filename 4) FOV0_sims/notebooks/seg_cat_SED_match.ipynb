{
 "cells": [
  {
   "cell_type": "markdown",
   "metadata": {},
   "source": [
    "# Builds the Seg Map and Catalog; Then, matches catalogs to get SEDs"
   ]
  },
  {
   "cell_type": "code",
   "execution_count": 1,
   "metadata": {},
   "outputs": [],
   "source": [
    "# General imports\n",
    "import os\n",
    "import numpy as np\n",
    "import matplotlib.pyplot as plt\n",
    "\n",
    "# Segmentation\n",
    "from astropy.io import fits\n",
    "from photutils.segmentation import SourceFinder, make_2dgaussian_kernel, SourceCatalog\n",
    "from photutils.background import Background2D, MedianBackground\n",
    "from astropy.convolution import convolve\n",
    "\n",
    "# Catalog Writing\n",
    "from astropy.table import Table, Column\n",
    "\n",
    "os.chdir(\"/Users/keith/astr/research_astr/summer-roman-project/4) FOV0_sims/fits\")\n",
    "root = \"GRS_FOV0_roll0_dx0_dy0_SCA1_direct_final.fits\" # Change filename with this variable\n",
    "direct_file = root\n",
    "seg_file = \"seg_{0}\".format(root)\n",
    "cat_file = \"cat_{0}.detect.cat\".format(root)"
   ]
  },
  {
   "cell_type": "code",
   "execution_count": 2,
   "metadata": {},
   "outputs": [
    {
     "data": {
      "application/vnd.jupyter.widget-view+json": {
       "model_id": "5f60e7f8374646aabc6e8f169ce569c2",
       "version_major": 2,
       "version_minor": 0
      },
      "text/plain": [
       "Deblending:   0%|          | 0/6976 [00:00<?, ?it/s]"
      ]
     },
     "metadata": {},
     "output_type": "display_data"
    }
   ],
   "source": [
    "# Process direct image and produce segmentation map\n",
    "\n",
    "# Open image\n",
    "direct_fits = fits.open(direct_file)\n",
    "data, header = (direct_fits[1].data, direct_fits[1].header)\n",
    "direct_fits.close()\n",
    "\n",
    "# Subtract background\n",
    "bkg_estimator = MedianBackground()\n",
    "bkg = Background2D(data, (511,511), filter_size=(7,7), bkg_estimator=bkg_estimator)\n",
    "data -= bkg.background\n",
    "\n",
    "# Convolve image\n",
    "kernel = make_2dgaussian_kernel(3.0, 5)\n",
    "convolved_data = convolve(data, kernel)\n",
    "\n",
    "# Instantiate the SourceFinder and set threshold\n",
    "finder = SourceFinder(npixels=7, nlevels=32, contrast=0.01)\n",
    "threshold = 1.5 * bkg.background_rms\n",
    "\n",
    "seg_map = finder(convolved_data, threshold)\n",
    "\n",
    "# Save seg_map as fits\n",
    "fits.writeto(seg_file, np.rot90(seg_map, k=3), header=header,overwrite=True)"
   ]
  },
  {
   "cell_type": "code",
   "execution_count": 3,
   "metadata": {},
   "outputs": [],
   "source": [
    "# Create Catalog\n",
    "cat = SourceCatalog(data, seg_map, convolved_data=convolved_data)\n",
    "\n",
    "# Grizli Expects these later\n",
    "cat.add_extra_property('id', np.cast[int](cat.label), overwrite=True)\n",
    "cat.add_extra_property('x_flt', cat.xcentroid, overwrite=True)\n",
    "cat.add_extra_property('y_flt', cat.ycentroid, overwrite=True)\n",
    "\n",
    "# Calculate flux using a reference object (reference object info hardcoded)\n",
    "mag = -2.5 * np.log10(cat.segment_flux/206.04939338564867) + 25.88\n",
    "cat.add_extra_property('mag', mag, overwrite=True)\n",
    "\n",
    "# Convert cumbersome catalog into usable table\n",
    "columns = ['id', 'x_flt', 'y_flt', 'mag']\n",
    "tbl = cat.to_table(columns)"
   ]
  },
  {
   "cell_type": "code",
   "execution_count": 4,
   "metadata": {},
   "outputs": [],
   "source": [
    "hlss_tbl = Table.read(\"/Users/keith/astr/research_astr/FOV0/catalogs/MOT_SCA1_roll_0_dither_0x_0y_cut_zcut.txt\",\n",
    "                      format='ascii')\n",
    "                    \n",
    "\n",
    "column = Column(name=\"hlss_id\", length=len(tbl))\n",
    "tbl.add_column(column)             \n",
    "\n",
    "column = Column(name=\"distance\", length=len(tbl))\n",
    "tbl.add_column(column)       \n",
    "\n",
    "column = Column(name=\"z\", length=len(tbl))\n",
    "tbl.add_column(column)   \n",
    "\n",
    "column = Column(name=\"MODIMAGE\", length=len(tbl), dtype=int)\n",
    "tbl.add_column(column)    \n",
    "\n",
    "column = Column(data=np.empty(len(tbl)), name=\"SED\", dtype=str)\n",
    "tbl.add_column(column)\n",
    "\n",
    "del column"
   ]
  },
  {
   "cell_type": "code",
   "execution_count": 5,
   "metadata": {},
   "outputs": [
    {
     "name": "stdout",
     "output_type": "stream",
     "text": [
      "# of matches:  8195\n"
     ]
    }
   ],
   "source": [
    "# Find potential matches\n",
    "for ii, object in enumerate(tbl):\n",
    "    tbl_x, tbl_y = object[\"x_flt\"], object[\"y_flt\"]\n",
    "    hlss_x, hlss_y = hlss_tbl[\"X_IMAGE\"], hlss_tbl[\"Y_IMAGE\"]\n",
    "\n",
    "    d2d_squared = (tbl_x - hlss_x)**2 + (tbl_y - hlss_y)**2\n",
    "\n",
    "    min_d2d = np.min(d2d_squared)\n",
    "\n",
    "    min_match_dist = 10**2\n",
    "\n",
    "    if min_d2d < min_match_dist:\n",
    "        min_index = np.argmin(d2d_squared)\n",
    "\n",
    "        # Store match\n",
    "        tbl[\"hlss_id\"][ii] = hlss_tbl[\"NUMBER\"][min_index]\n",
    "        tbl[\"distance\"][ii] = min_d2d\n",
    "\n",
    "        # Store match's info from the HLSS catalog\n",
    "        tbl[\"SED\"][ii] = \"SED:rest:gal.{0}.fits\".format(hlss_tbl['SPECTEMP'][min_index])\n",
    "        tbl[\"MODIMAGE\"][ii] = hlss_tbl[\"MODIMAGE\"][min_index]\n",
    "        tbl['z'][ii] = hlss_tbl['Z'][min_index]\n",
    "        tbl[\"mag\"][ii] = hlss_tbl[\"MAG_F1500W\"][min_index]\n",
    "\n",
    "matches = len(np.where(tbl[\"hlss_id\"] != 0)[0])\n",
    "print(\"# of matches: \", matches)"
   ]
  },
  {
   "cell_type": "code",
   "execution_count": 6,
   "metadata": {},
   "outputs": [
    {
     "name": "stdout",
     "output_type": "stream",
     "text": [
      "# of double matched objects:  18\n",
      "# of matches without doubles:  8368\n"
     ]
    }
   ],
   "source": [
    "from collections import defaultdict\n",
    "\n",
    "D = defaultdict(list)\n",
    "\n",
    "for row_num, hlss_id in enumerate(tbl['hlss_id']):\n",
    "    # if hlss_id == 0:\n",
    "    #     continue\n",
    "    D[hlss_id].append(row_num)\n",
    "D = {k:v for k,v in D.items() if len(v)>1}\n",
    "\n",
    "print(\"# of double matched objects: \", len(D))\n",
    "print(\"# of matches without doubles: \", len(tbl) - len(D))\n",
    "\n",
    "# Identify farthest duplicates; assume those should be removed\n",
    "remove = []\n",
    "for key in D.keys():\n",
    "    row_nums = D[key]\n",
    "    keep = row_nums[np.argmin([tbl[ii][\"distance\"] for ii in row_nums])]\n",
    "    remove.append([ii for ii in row_nums if ii != keep])\n",
    "\n",
    "# Remove Duplicates\n",
    "for row_num in remove:\n",
    "    tbl[\"hlss_id\"][row_num] = str(0.0)\n",
    "    tbl[\"distance\"][row_num] = str(0.0)\n",
    "    tbl[\"SED\"][row_num] = str(0.0)\n",
    "\n",
    "tbl = tbl[np.where(tbl[\"hlss_id\"] != 0.0)]\n",
    "\n",
    "# Save Catalog\n",
    "if os.path.exists(cat_file):\n",
    "            os.remove(cat_file)\n",
    "tbl.write(cat_file, format=\"ascii.ecsv\")"
   ]
  },
  {
   "cell_type": "code",
   "execution_count": 9,
   "metadata": {},
   "outputs": [
    {
     "data": {
      "text/plain": [
       "[<matplotlib.lines.Line2D at 0x3914380e0>]"
      ]
     },
     "execution_count": 9,
     "metadata": {},
     "output_type": "execute_result"
    },
    {
     "data": {
      "image/png": "[encoded data removed]",
      "text/plain": [
       "<Figure size 640x480 with 1 Axes>"
      ]
     },
     "metadata": {},
     "output_type": "display_data"
    }
   ],
   "source": [
    "spec = Table.read(\"/Users/keith/astr/research_astr/FOV0/FOV0_SEDs/SED:rest:gal.197363.fits\")\n",
    "\n",
    "z = 10000/np.min(spec['wavelength']) - 1\n",
    "redshift_wave = (z+1) * spec['wavelength']\n",
    "\n",
    "plt.plot(redshift_wave, spec['flux'])"
   ]
  },
  {
   "cell_type": "code",
   "execution_count": 10,
   "metadata": {},
   "outputs": [
    {
     "data": {
      "text/plain": [
       "[<matplotlib.lines.Line2D at 0x3920faa80>]"
      ]
     },
     "execution_count": 10,
     "metadata": {},
     "output_type": "execute_result"
    },
    {
     "data": {
      "image/png": "[encoded data removed]",
      "text/plain": [
       "<Figure size 640x480 with 1 Axes>"
      ]
     },
     "metadata": {},
     "output_type": "display_data"
    }
   ],
   "source": [
    "df = Table.read(\"/Users/keith/astr/research_astr/FOV0/FOV0_SEDs/wfirst_wfi_f158_001_syn.fits\", format='fits')\n",
    "\n",
    "plt.plot(df['WAVELENGTH'], df['THROUGHPUT'])"
   ]
  }
 ],
 "metadata": {
  "kernelspec": {
   "display_name": "grizli-env",
   "language": "python",
   "name": "python3"
  },
  "language_info": {
   "codemirror_mode": {
    "name": "ipython",
    "version": 3
   },
   "file_extension": ".py",
   "mimetype": "text/x-python",
   "name": "python",
   "nbconvert_exporter": "python",
   "pygments_lexer": "ipython3",
   "version": "3.12.3"
  }
 },
 "nbformat": 4,
 "nbformat_minor": 2
}
