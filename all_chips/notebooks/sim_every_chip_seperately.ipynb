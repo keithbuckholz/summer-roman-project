{
 "cells": [
  {
   "cell_type": "markdown",
   "metadata": {},
   "source": [
    "## Investigate asyncio for parallel processing to reduce compute time"
   ]
  },
  {
   "cell_type": "code",
   "execution_count": 1,
   "metadata": {},
   "outputs": [],
   "source": [
    "# General imports\n",
    "import os\n",
    "import numpy as np\n",
    "import matplotlib.pyplot as plt\n",
    "\n",
    "# Segmentation\n",
    "from astropy.io import fits\n",
    "from photutils.segmentation import SourceFinder, make_2dgaussian_kernel, SourceCatalog\n",
    "from photutils.background import Background2D, MedianBackground\n",
    "from astropy.convolution import convolve\n",
    "\n",
    "# grizli\n",
    "from grizli.model import GrismFLT\n",
    "import grizli\n",
    "\n",
    "os.chdir(\"/Users/keith/astr/research_astr/summer-roman-project/all_chips/fits_scripts\")\n",
    "\n",
    "from roman_fits_utils import fix_hdr, rotate_img\n",
    "from roman_seg_map import produce_seg_map\n",
    "\n",
    "\n",
    "os.chdir(\"/Users/keith/astr/research_astr/all_chip_fits\")"
   ]
  },
  {
   "cell_type": "code",
   "execution_count": 2,
   "metadata": {},
   "outputs": [
    {
     "name": "stdout",
     "output_type": "stream",
     "text": [
      "Fits Files Prepared for modelling\n"
     ]
    }
   ],
   "source": [
    "# Function for dynamic filename\n",
    "file = lambda ii: \"GRS_FOV0_roll0_dx0_dy0_SCA%i_direct_final.fits\" %ii\n",
    "\n",
    "for ii in range(1, 19):\n",
    "    filename = file(ii)\n",
    "    fixed_hdr_name = \"fixed_hdr_%i.fits\" %ii\n",
    "    rotated_img_name = \"rotated_img_%i.fits\" %ii\n",
    "\n",
    "    hdr_dict = {\"INSTRUME\": \"0;ROMAN\",\n",
    "                \"FILTER\":   \"0;det%i\" %ii,\n",
    "                \"CONFFILE\": \"1;/Users/keith/astr/research_astr/FOV0/Roman.det%i.07242020.conf\" %ii}\n",
    "\n",
    "    fix_hdr(filename, fixed_hdr_name, hdr_dict)\n",
    "\n",
    "    rotate_img(fixed_hdr_name, rotated_img_name)\n",
    "\n",
    "print(\"Fits Files Prepared for modelling\")"
   ]
  },
  {
   "cell_type": "code",
   "execution_count": 3,
   "metadata": {},
   "outputs": [
    {
     "data": {
      "application/vnd.jupyter.widget-view+json": {
       "model_id": "88b7457ee86644e18ab45ffc99301846",
       "version_major": 2,
       "version_minor": 0
      },
      "text/plain": [
       "Deblending:   0%|          | 0/6390 [00:00<?, ?it/s]"
      ]
     },
     "metadata": {},
     "output_type": "display_data"
    },
    {
     "data": {
      "application/vnd.jupyter.widget-view+json": {
       "model_id": "04c69c7f25ae440fad0f8612d8b19dc8",
       "version_major": 2,
       "version_minor": 0
      },
      "text/plain": [
       "Deblending:   0%|          | 0/5663 [00:00<?, ?it/s]"
      ]
     },
     "metadata": {},
     "output_type": "display_data"
    },
    {
     "data": {
      "application/vnd.jupyter.widget-view+json": {
       "model_id": "eabc62e8b5bd4796a6c1678c9f79c356",
       "version_major": 2,
       "version_minor": 0
      },
      "text/plain": [
       "Deblending:   0%|          | 0/1424 [00:00<?, ?it/s]"
      ]
     },
     "metadata": {},
     "output_type": "display_data"
    },
    {
     "data": {
      "application/vnd.jupyter.widget-view+json": {
       "model_id": "9cf25d86c7b24f229bec40ca056c5a86",
       "version_major": 2,
       "version_minor": 0
      },
      "text/plain": [
       "Deblending:   0%|          | 0/5878 [00:00<?, ?it/s]"
      ]
     },
     "metadata": {},
     "output_type": "display_data"
    },
    {
     "data": {
      "application/vnd.jupyter.widget-view+json": {
       "model_id": "33ef414383f541e99893bbb41558a24b",
       "version_major": 2,
       "version_minor": 0
      },
      "text/plain": [
       "Deblending:   0%|          | 0/6136 [00:00<?, ?it/s]"
      ]
     },
     "metadata": {},
     "output_type": "display_data"
    },
    {
     "data": {
      "application/vnd.jupyter.widget-view+json": {
       "model_id": "1d9fd4afb12b44c2afe4033b92e85db2",
       "version_major": 2,
       "version_minor": 0
      },
      "text/plain": [
       "Deblending:   0%|          | 0/2605 [00:00<?, ?it/s]"
      ]
     },
     "metadata": {},
     "output_type": "display_data"
    },
    {
     "data": {
      "application/vnd.jupyter.widget-view+json": {
       "model_id": "e8908763396e45a6b1a78695514185cb",
       "version_major": 2,
       "version_minor": 0
      },
      "text/plain": [
       "Deblending:   0%|          | 0/5472 [00:00<?, ?it/s]"
      ]
     },
     "metadata": {},
     "output_type": "display_data"
    },
    {
     "data": {
      "application/vnd.jupyter.widget-view+json": {
       "model_id": "1a42e540163f45b78dc3df17cb8a321b",
       "version_major": 2,
       "version_minor": 0
      },
      "text/plain": [
       "Deblending:   0%|          | 0/5369 [00:00<?, ?it/s]"
      ]
     },
     "metadata": {},
     "output_type": "display_data"
    },
    {
     "data": {
      "application/vnd.jupyter.widget-view+json": {
       "model_id": "c9d7131d4d3245338d85731cd2038b34",
       "version_major": 2,
       "version_minor": 0
      },
      "text/plain": [
       "Deblending:   0%|          | 0/4640 [00:00<?, ?it/s]"
      ]
     },
     "metadata": {},
     "output_type": "display_data"
    },
    {
     "data": {
      "application/vnd.jupyter.widget-view+json": {
       "model_id": "d98a10431b4747448c7bff2c643201b9",
       "version_major": 2,
       "version_minor": 0
      },
      "text/plain": [
       "Deblending:   0%|          | 0/5863 [00:00<?, ?it/s]"
      ]
     },
     "metadata": {},
     "output_type": "display_data"
    },
    {
     "data": {
      "application/vnd.jupyter.widget-view+json": {
       "model_id": "e73785f68bd14b80a84dc1893d7db805",
       "version_major": 2,
       "version_minor": 0
      },
      "text/plain": [
       "Deblending:   0%|          | 0/6100 [00:00<?, ?it/s]"
      ]
     },
     "metadata": {},
     "output_type": "display_data"
    },
    {
     "data": {
      "application/vnd.jupyter.widget-view+json": {
       "model_id": "007bcdb76eb743d695e5095bd6ec9e17",
       "version_major": 2,
       "version_minor": 0
      },
      "text/plain": [
       "Deblending:   0%|          | 0/1341 [00:00<?, ?it/s]"
      ]
     },
     "metadata": {},
     "output_type": "display_data"
    },
    {
     "data": {
      "application/vnd.jupyter.widget-view+json": {
       "model_id": "c66598d5657f4b679a0724b544784cce",
       "version_major": 2,
       "version_minor": 0
      },
      "text/plain": [
       "Deblending:   0%|          | 0/5794 [00:00<?, ?it/s]"
      ]
     },
     "metadata": {},
     "output_type": "display_data"
    },
    {
     "data": {
      "application/vnd.jupyter.widget-view+json": {
       "model_id": "392d43723ce3417a86b476aeabc7850e",
       "version_major": 2,
       "version_minor": 0
      },
      "text/plain": [
       "Deblending:   0%|          | 0/6266 [00:00<?, ?it/s]"
      ]
     },
     "metadata": {},
     "output_type": "display_data"
    },
    {
     "data": {
      "application/vnd.jupyter.widget-view+json": {
       "model_id": "02d6eec9d8a84e64b2eb173b7b4d1329",
       "version_major": 2,
       "version_minor": 0
      },
      "text/plain": [
       "Deblending:   0%|          | 0/2784 [00:00<?, ?it/s]"
      ]
     },
     "metadata": {},
     "output_type": "display_data"
    },
    {
     "data": {
      "application/vnd.jupyter.widget-view+json": {
       "model_id": "a5dca051b61d431281864d5244f56cfa",
       "version_major": 2,
       "version_minor": 0
      },
      "text/plain": [
       "Deblending:   0%|          | 0/4795 [00:00<?, ?it/s]"
      ]
     },
     "metadata": {},
     "output_type": "display_data"
    },
    {
     "data": {
      "application/vnd.jupyter.widget-view+json": {
       "model_id": "1dbbd1fd95904a6e88e51aaea2cbfcde",
       "version_major": 2,
       "version_minor": 0
      },
      "text/plain": [
       "Deblending:   0%|          | 0/5437 [00:00<?, ?it/s]"
      ]
     },
     "metadata": {},
     "output_type": "display_data"
    },
    {
     "data": {
      "application/vnd.jupyter.widget-view+json": {
       "model_id": "03ef7ad6ea9547c1998f9d48f97fc444",
       "version_major": 2,
       "version_minor": 0
      },
      "text/plain": [
       "Deblending:   0%|          | 0/4981 [00:00<?, ?it/s]"
      ]
     },
     "metadata": {},
     "output_type": "display_data"
    }
   ],
   "source": [
    "\n",
    "# Altered functions for dynamic filename\n",
    "file = lambda ii: \"rotated_img_%i.fits\" %ii\n",
    "seg_file = lambda ii: \"seg_%i.fits\" %ii\n",
    "\n",
    "for ii in range(1, 19):\n",
    "    filename = file(ii)\n",
    "    seg_filename = seg_file(ii)\n",
    "\n",
    "    produce_seg_map(filename, seg_filename)"
   ]
  },
  {
   "cell_type": "code",
   "execution_count": 4,
   "metadata": {},
   "outputs": [
    {
     "name": "stdout",
     "output_type": "stream",
     "text": [
      "\n",
      "\n",
      "Image cutout: x=slice(0, 4088, None), y=slice(0, 4088, None) [Out of range]\n",
      "rotated_img_1.fits / Pad ref HDU with 264 pixels\n",
      "rotated_img_1.fits / blot segmentation seg_1.fits[0]\n",
      "The following task in the stsci.skypac package can be run with TEAL:\n",
      "                                    skymatch                                    \n",
      "The following tasks in the drizzlepac package can be run with TEAL:\n",
      "    astrodrizzle       config_testbed      imagefindpars           mapreg       \n",
      "       photeq            pixreplace           pixtopix            pixtosky      \n",
      "  refimagefindpars       resetbits          runastrodriz          skytopix      \n",
      "     tweakback            tweakreg           updatenpol\n",
      "Using default C-based coordinate transformation...\n",
      "Using default C-based coordinate transformation...\n",
      "Image cutout: x=slice(0, 4088, None), y=slice(0, 4088, None) [Out of range]\n",
      "rotated_img_2.fits / Pad ref HDU with 264 pixels\n",
      "rotated_img_2.fits / blot segmentation seg_2.fits[0]\n",
      "Using default C-based coordinate transformation...\n",
      "Using default C-based coordinate transformation...\n",
      "Image cutout: x=slice(0, 4088, None), y=slice(0, 4088, None) [Out of range]\n",
      "rotated_img_3.fits / Pad ref HDU with 264 pixels\n",
      "rotated_img_3.fits / blot segmentation seg_3.fits[0]\n",
      "Using default C-based coordinate transformation...\n",
      "Using default C-based coordinate transformation...\n",
      "Image cutout: x=slice(0, 4088, None), y=slice(0, 4088, None) [Out of range]\n",
      "rotated_img_4.fits / Pad ref HDU with 264 pixels\n",
      "rotated_img_4.fits / blot segmentation seg_4.fits[0]\n",
      "Using default C-based coordinate transformation...\n",
      "Using default C-based coordinate transformation...\n",
      "Image cutout: x=slice(0, 4088, None), y=slice(0, 4088, None) [Out of range]\n",
      "rotated_img_5.fits / Pad ref HDU with 264 pixels\n",
      "rotated_img_5.fits / blot segmentation seg_5.fits[0]\n",
      "Using default C-based coordinate transformation...\n",
      "Using default C-based coordinate transformation...\n",
      "Image cutout: x=slice(0, 4088, None), y=slice(0, 4088, None) [Out of range]\n",
      "rotated_img_6.fits / Pad ref HDU with 264 pixels\n",
      "rotated_img_6.fits / blot segmentation seg_6.fits[0]\n",
      "Using default C-based coordinate transformation...\n",
      "Using default C-based coordinate transformation...\n",
      "Image cutout: x=slice(0, 4088, None), y=slice(0, 4088, None) [Out of range]\n",
      "rotated_img_7.fits / Pad ref HDU with 264 pixels\n",
      "rotated_img_7.fits / blot segmentation seg_7.fits[0]\n",
      "Using default C-based coordinate transformation...\n",
      "Using default C-based coordinate transformation...\n",
      "Image cutout: x=slice(0, 4088, None), y=slice(0, 4088, None) [Out of range]\n",
      "rotated_img_8.fits / Pad ref HDU with 264 pixels\n",
      "rotated_img_8.fits / blot segmentation seg_8.fits[0]\n",
      "Using default C-based coordinate transformation...\n",
      "Using default C-based coordinate transformation...\n",
      "Image cutout: x=slice(0, 4088, None), y=slice(0, 4088, None) [Out of range]\n",
      "rotated_img_9.fits / Pad ref HDU with 264 pixels\n",
      "rotated_img_9.fits / blot segmentation seg_9.fits[0]\n",
      "Using default C-based coordinate transformation...\n",
      "Using default C-based coordinate transformation...\n",
      "Image cutout: x=slice(0, 4088, None), y=slice(0, 4088, None) [Out of range]\n",
      "rotated_img_10.fits / Pad ref HDU with 264 pixels\n",
      "rotated_img_10.fits / blot segmentation seg_10.fits[0]\n",
      "Using default C-based coordinate transformation...\n",
      "Using default C-based coordinate transformation...\n",
      "Image cutout: x=slice(0, 4088, None), y=slice(0, 4088, None) [Out of range]\n",
      "rotated_img_11.fits / Pad ref HDU with 264 pixels\n",
      "rotated_img_11.fits / blot segmentation seg_11.fits[0]\n",
      "Using default C-based coordinate transformation...\n",
      "Using default C-based coordinate transformation...\n",
      "Image cutout: x=slice(0, 4088, None), y=slice(0, 4088, None) [Out of range]\n",
      "rotated_img_12.fits / Pad ref HDU with 264 pixels\n",
      "rotated_img_12.fits / blot segmentation seg_12.fits[0]\n",
      "Using default C-based coordinate transformation...\n",
      "Using default C-based coordinate transformation...\n",
      "Image cutout: x=slice(0, 4088, None), y=slice(0, 4088, None) [Out of range]\n",
      "rotated_img_13.fits / Pad ref HDU with 264 pixels\n",
      "rotated_img_13.fits / blot segmentation seg_13.fits[0]\n",
      "Using default C-based coordinate transformation...\n",
      "Using default C-based coordinate transformation...\n",
      "Image cutout: x=slice(0, 4088, None), y=slice(0, 4088, None) [Out of range]\n",
      "rotated_img_14.fits / Pad ref HDU with 264 pixels\n",
      "rotated_img_14.fits / blot segmentation seg_14.fits[0]\n",
      "Using default C-based coordinate transformation...\n",
      "Using default C-based coordinate transformation...\n",
      "Image cutout: x=slice(0, 4088, None), y=slice(0, 4088, None) [Out of range]\n",
      "rotated_img_15.fits / Pad ref HDU with 264 pixels\n",
      "rotated_img_15.fits / blot segmentation seg_15.fits[0]\n",
      "Using default C-based coordinate transformation...\n",
      "Using default C-based coordinate transformation...\n",
      "Image cutout: x=slice(0, 4088, None), y=slice(0, 4088, None) [Out of range]\n",
      "rotated_img_16.fits / Pad ref HDU with 264 pixels\n",
      "rotated_img_16.fits / blot segmentation seg_16.fits[0]\n",
      "Using default C-based coordinate transformation...\n",
      "Using default C-based coordinate transformation...\n",
      "Image cutout: x=slice(0, 4088, None), y=slice(0, 4088, None) [Out of range]\n",
      "rotated_img_17.fits / Pad ref HDU with 264 pixels\n",
      "rotated_img_17.fits / blot segmentation seg_17.fits[0]\n",
      "Using default C-based coordinate transformation...\n",
      "Using default C-based coordinate transformation...\n",
      "Image cutout: x=slice(0, 4088, None), y=slice(0, 4088, None) [Out of range]\n",
      "rotated_img_18.fits / Pad ref HDU with 264 pixels\n",
      "rotated_img_18.fits / blot segmentation seg_18.fits[0]\n",
      "Using default C-based coordinate transformation...\n",
      "Using default C-based coordinate transformation...\n"
     ]
    }
   ],
   "source": [
    "# Instantiate the GrismFLT objects\n",
    "pad = 100\n",
    "sims = {}\n",
    "for ii in range(1, 19):\n",
    "    sims[\"%i_sim\" %ii] = GrismFLT(direct_file=file(ii), seg_file=seg_file(ii), pad=pad)"
   ]
  },
  {
   "cell_type": "code",
   "execution_count": 7,
   "metadata": {},
   "outputs": [
    {
     "data": {
      "text/plain": [
       "dict_keys(['1_sim', '2_sim', '3_sim', '4_sim', '5_sim', '6_sim', '7_sim', '8_sim', '9_sim', '10_sim', '11_sim', '12_sim', '13_sim', '14_sim', '15_sim', '16_sim', '17_sim', '18_sim'])"
      ]
     },
     "execution_count": 7,
     "metadata": {},
     "output_type": "execute_result"
    }
   ],
   "source": [
    "sims.keys()"
   ]
  },
  {
   "cell_type": "code",
   "execution_count": 6,
   "metadata": {},
   "outputs": [
    {
     "ename": "KeyError",
     "evalue": "'0_sim'",
     "output_type": "error",
     "traceback": [
      "\u001b[0;31m---------------------------------------------------------------------------\u001b[0m",
      "\u001b[0;31mKeyError\u001b[0m                                  Traceback (most recent call last)",
      "Cell \u001b[0;32mIn[6], line 27\u001b[0m\n\u001b[1;32m     25\u001b[0m     sims[\u001b[38;5;124m\"\u001b[39m\u001b[38;5;132;01m%i\u001b[39;00m\u001b[38;5;124m_sim\u001b[39m\u001b[38;5;124m\"\u001b[39m \u001b[38;5;241m%\u001b[39mii]\u001b[38;5;241m.\u001b[39mcompute_full_model(mag_limit\u001b[38;5;241m=\u001b[39m\u001b[38;5;241m28\u001b[39m)\n\u001b[1;32m     26\u001b[0m \u001b[38;5;28;01melse\u001b[39;00m:\n\u001b[0;32m---> 27\u001b[0m     \u001b[43msims\u001b[49m\u001b[43m[\u001b[49m\u001b[38;5;124;43m\"\u001b[39;49m\u001b[38;5;132;43;01m%i\u001b[39;49;00m\u001b[38;5;124;43m_sim\u001b[39;49m\u001b[38;5;124;43m\"\u001b[39;49m\u001b[43m \u001b[49m\u001b[38;5;241;43m%\u001b[39;49m\u001b[43mii\u001b[49m\u001b[43m]\u001b[49m\u001b[38;5;241m.\u001b[39mcompute_full_model(mag_limit\u001b[38;5;241m=\u001b[39m\u001b[38;5;241m28\u001b[39m, compute_size\u001b[38;5;241m=\u001b[39m\u001b[38;5;28;01mFalse\u001b[39;00m, size\u001b[38;5;241m=\u001b[39mdet_sizes[detector])\n",
      "\u001b[0;31mKeyError\u001b[0m: '0_sim'"
     ]
    }
   ],
   "source": [
    "# Compute Full Models\n",
    "det_sizes = {\"det1\": 77,\n",
    "            \"det2\": 80,\n",
    "            \"det3\": 88,\n",
    "            \"det4\": 180,\n",
    "            \"det5\": 195,\n",
    "            \"det6\": 209,\n",
    "            \"det7\": 279,\n",
    "            \"det8\": 302,\n",
    "            \"det9\": 328,\n",
    "            \"det10\": 1,\n",
    "            \"det11\": 2,\n",
    "            \"det12\": 6,\n",
    "            \"det13\": 30,\n",
    "            \"det14\": 18,\n",
    "            \"det15\": 2,\n",
    "            \"det16\": 78,\n",
    "            \"det17\": 49,\n",
    "            \"det18\": 22}\n",
    "\n",
    "for ii, detector in enumerate(det_sizes.keys()):\n",
    "\n",
    "\n",
    "    if det_sizes[detector] < 77: # This needs to be checked; For detectors with small max dy, what it a good min_size?\n",
    "        sims[\"%i_sim\" %(ii+1)].compute_full_model(mag_limit=28)\n",
    "    else:\n",
    "        sims[\"%i_sim\" %(ii+1)].compute_full_model(mag_limit=28, compute_size=False, size=det_sizes[detector])"
   ]
  },
  {
   "cell_type": "code",
   "execution_count": null,
   "metadata": {},
   "outputs": [],
   "source": [
    "for ii in range(1, 19):\n",
    "    header = fits.open(file(ii))[0].header\n",
    "    fits.writeto(\"full_model_%i.fits\" %i, sims[\"%i_sim\" %ii].model[pad:-pad, pad:-pad], header=header, overwrite=True)"
   ]
  }
 ],
 "metadata": {
  "kernelspec": {
   "display_name": "seg-prac",
   "language": "python",
   "name": "python3"
  },
  "language_info": {
   "codemirror_mode": {
    "name": "ipython",
    "version": 3
   },
   "file_extension": ".py",
   "mimetype": "text/x-python",
   "name": "python",
   "nbconvert_exporter": "python",
   "pygments_lexer": "ipython3",
   "version": "3.12.3"
  }
 },
 "nbformat": 4,
 "nbformat_minor": 2
}
