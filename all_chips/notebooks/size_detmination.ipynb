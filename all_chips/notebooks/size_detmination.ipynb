{
 "cells": [
  {
   "cell_type": "markdown",
   "metadata": {},
   "source": [
    "# Cutout Size Determination by detector\n",
    "\n",
    "Cutout size varies with max dy, which varies by detector. This notebook can read a conf file and determine the max dy. Specifically, the scipy.optimize function minimize returns the minimum -dy (negative dy) and it's location (the negative of the minimum -dy is the maximum). The absolute value of this is the minimum size cutout.\n",
    "\n",
    "1) Put the conf file in.\n",
    "2) Run the notebook.\n",
    "3) Note the value returned at 'x:'; this is the location of the maximum.\n",
    "4) Note the value returned at 'func:'; this times -1 is the maximum value.\n",
    "5) Test somewhere that setting size equal to this func value works, or one greater. This test is in case scipy got stuck in a local max/min.\n",
    "6) Track the detector value."
   ]
  },
  {
   "cell_type": "markdown",
   "metadata": {},
   "source": [
    "det1: 77  - tested \\\n",
    "det2: 80 \\\n",
    "det3: 88 \\\n",
    "det4: 180 \\\n",
    "det5: 195 \\\n",
    "det6: 209 \\\n",
    "det7: 279 \\\n",
    "det8: 302 \\\n",
    "det9: 328 \\\n",
    "det10: 1 - use compute_size (object based sizing)? \\\n",
    "det11: 2 \\\n",
    "det12: 6 \\\n",
    "det13: 30 \\\n",
    "det14: 18 \\\n",
    "det15: 2 \\\n",
    "det16: 78 \\\n",
    "det17: 49 \\\n",
    "det18: 22"
   ]
  },
  {
   "cell_type": "code",
   "execution_count": 1,
   "metadata": {},
   "outputs": [],
   "source": [
    "import matplotlib.pyplot as plt\n",
    "import numpy as np\n",
    "from scipy.optimize import minimize, Bounds\n",
    "from collections import OrderedDict\n",
    "\n",
    "import os\n",
    "os.chdir(\"/Users/keith/astr/research_astr/roman_configs\")"
   ]
  },
  {
   "cell_type": "code",
   "execution_count": 2,
   "metadata": {},
   "outputs": [],
   "source": [
    "config_file = lambda ii: \"Roman.det%i.07242020.conf\" %ii\n",
    "\n",
    "def read_conf(ii):\n",
    "    config = config_file(ii)\n",
    "    conf = OrderedDict()\n",
    "    lines = open(config).readlines()\n",
    "\n",
    "    for line in lines:\n",
    "        if (line.startswith('#')) | (line.strip() == '') | ('\"' in line):\n",
    "                    continue\n",
    "\n",
    "        if line.startswith(\"DYDX_A_\"):\n",
    "            spl = line.split(';')[0].split('#')[0].split()\n",
    "            param = spl[0]\n",
    "            value = np.cast[float](spl[1:])\n",
    "            conf[param] = value\n",
    "\n",
    "    b = {}\n",
    "    for n, dydx in enumerate(conf.keys()):\n",
    "        for m, coef in enumerate(conf[dydx]):\n",
    "            b[f\"{n},{m}\"] = coef\n",
    "    \n",
    "    return b"
   ]
  },
  {
   "cell_type": "code",
   "execution_count": 3,
   "metadata": {},
   "outputs": [],
   "source": [
    "def function(b):\n",
    "    a_0 = lambda i, j: b[\"0,0\"] + b[\"0,1\"]*i + b[\"0,2\"]*j + b[\"0,3\"]*i**2 + b[\"0,4\"]*i*j + b[\"0,5\"]*j**2\n",
    "    a_1 = lambda i, j: b[\"1,0\"] + b[\"1,1\"]*i + b[\"1,2\"]*j + b[\"1,3\"]*i**2 + b[\"1,4\"]*i*j + b[\"1,5\"]*j**2\n",
    "    a_2 = lambda i, j: b[\"2,0\"] + b[\"2,1\"]*i + b[\"2,2\"]*j + b[\"2,3\"]*i**2 + b[\"2,4\"]*i*j + b[\"2,5\"]*j**2\n",
    "    dy = lambda args: a_0(args[0],args[1]) + a_1(args[0],args[1])*args[2] + a_2(args[0],args[1])*args[2]**2\n",
    "    dy_negated = lambda args: -(a_0(args[0],args[1]) + a_1(args[0],args[1])*args[2] + a_2(args[0],args[1])*args[2]**2)\n",
    "\n",
    "    function_dict = {\"dy\": dy, \"dy_negated\": dy_negated}\n",
    "\n",
    "    return function_dict"
   ]
  },
  {
   "cell_type": "code",
   "execution_count": 4,
   "metadata": {},
   "outputs": [],
   "source": [
    "def find_size(function_dict):\n",
    "    bounds = Bounds([0,0,-800],[4800,4800,800])\n",
    "    minimum = minimize(function_dict[\"dy\"], x0=[4800,4800,800], bounds=bounds).fun\n",
    "    maximum = minimize(function_dict[\"dy_negated\"], x0=[4800,4800,800], bounds=bounds).fun\n",
    "\n",
    "    rec_size = int(max(abs(minimum), abs(maximum)) + 1)\n",
    "\n",
    "    return rec_size"
   ]
  },
  {
   "cell_type": "code",
   "execution_count": 5,
   "metadata": {},
   "outputs": [],
   "source": [
    "def main(ii, q):\n",
    "    b = read_conf(ii)\n",
    "    function_dict = function(b)\n",
    "    rec_size = find_size(function_dict)\n",
    "\n",
    "    q.put(rec_size)\n",
    "    \n",
    "    return None"
   ]
  },
  {
   "cell_type": "code",
   "execution_count": 6,
   "metadata": {},
   "outputs": [],
   "source": [
    "import multiprocess"
   ]
  },
  {
   "cell_type": "code",
   "execution_count": 7,
   "metadata": {},
   "outputs": [],
   "source": [
    "def run():\n",
    "    q = multiprocess.Queue()\n",
    "    processes = [multiprocess.Process(target=main, args=(ii, q)) \n",
    "             for ii in range(1,19)]\n",
    "\n",
    "    for process in processes:\n",
    "        process.start()\n",
    "\n",
    "    for process in processes:\n",
    "        process.join()\n",
    "\n",
    "    for ii in range(1,19):\n",
    "        rec_size = q.get()\n",
    "        print(\"Detector %i size rec: %i\" %(ii, rec_size))\n",
    "\n",
    "    return None"
   ]
  },
  {
   "cell_type": "code",
   "execution_count": 8,
   "metadata": {},
   "outputs": [
    {
     "name": "stdout",
     "output_type": "stream",
     "text": [
      "Detector 1 size rec: 77\n",
      "Detector 2 size rec: 80\n",
      "Detector 3 size rec: 88\n",
      "Detector 4 size rec: 180\n",
      "Detector 5 size rec: 195\n",
      "Detector 6 size rec: 209\n",
      "Detector 7 size rec: 279\n",
      "Detector 8 size rec: 302\n",
      "Detector 9 size rec: 328\n",
      "Detector 10 size rec: 98\n",
      "Detector 11 size rec: 101\n",
      "Detector 12 size rec: 110\n",
      "Detector 13 size rec: 203\n",
      "Detector 14 size rec: 217\n",
      "Detector 15 size rec: 232\n",
      "Detector 16 size rec: 303\n",
      "Detector 17 size rec: 326\n",
      "Detector 18 size rec: 353\n"
     ]
    }
   ],
   "source": [
    "run()"
   ]
  },
  {
   "cell_type": "code",
   "execution_count": 9,
   "metadata": {},
   "outputs": [],
   "source": [
    "def main_2(ii):\n",
    "    b = read_conf(ii)\n",
    "    function_dict = function(b)\n",
    "    rec_size = find_size(function_dict)\n",
    "    \n",
    "    return rec_size"
   ]
  },
  {
   "cell_type": "code",
   "execution_count": 10,
   "metadata": {},
   "outputs": [
    {
     "name": "stdout",
     "output_type": "stream",
     "text": [
      "Detector 1 size rec: 77\n",
      "Detector 2 size rec: 80\n",
      "Detector 3 size rec: 88\n",
      "Detector 4 size rec: 180\n",
      "Detector 5 size rec: 195\n",
      "Detector 6 size rec: 209\n",
      "Detector 7 size rec: 279\n",
      "Detector 8 size rec: 302\n",
      "Detector 9 size rec: 328\n",
      "Detector 10 size rec: 98\n",
      "Detector 11 size rec: 101\n",
      "Detector 12 size rec: 110\n",
      "Detector 13 size rec: 203\n",
      "Detector 14 size rec: 217\n",
      "Detector 15 size rec: 232\n",
      "Detector 16 size rec: 303\n",
      "Detector 17 size rec: 326\n",
      "Detector 18 size rec: 353\n"
     ]
    }
   ],
   "source": [
    "for ii in range(1,19):\n",
    "    rec_size = main_2(ii, )\n",
    "    print(\"Detector %i size rec: %i\" %(ii, rec_size))"
   ]
  }
 ],
 "metadata": {
  "kernelspec": {
   "display_name": "stenv",
   "language": "python",
   "name": "python3"
  },
  "language_info": {
   "codemirror_mode": {
    "name": "ipython",
    "version": 3
   },
   "file_extension": ".py",
   "mimetype": "text/x-python",
   "name": "python",
   "nbconvert_exporter": "python",
   "pygments_lexer": "ipython3",
   "version": "3.12.3"
  }
 },
 "nbformat": 4,
 "nbformat_minor": 2
}
