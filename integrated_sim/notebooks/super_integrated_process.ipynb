{
 "cells": [
  {
   "cell_type": "code",
   "execution_count": 1,
   "metadata": {},
   "outputs": [
    {
     "name": "stderr",
     "output_type": "stream",
     "text": [
      "/Users/keith/miniconda3/envs/grizli-env/lib/python3.12/site-packages/pysynphot/locations.py:46: UserWarning: PYSYN_CDBS is undefined; functionality will be SEVERELY crippled.\n",
      "  warnings.warn(\"PYSYN_CDBS is undefined; functionality will be SEVERELY \"\n",
      "/Users/keith/miniconda3/envs/grizli-env/lib/python3.12/site-packages/pysynphot/locations.py:345: UserWarning: Extinction files not found in extinction\n",
      "  warnings.warn('Extinction files not found in %s' % (extdir, ))\n"
     ]
    }
   ],
   "source": [
    "# General\n",
    "import os\n",
    "import numpy as np\n",
    "from scipy import constants\n",
    "import matplotlib.pyplot as plt\n",
    "from math import floor, ceil\n",
    "\n",
    "# PSF - STAR direct\n",
    "import webbpsf\n",
    "import webbpsf.roman\n",
    "\n",
    "# Gaussian - GALAXY direct\n",
    "from astropy.modeling.functional_models import Gaussian2D as gauss\n",
    "\n",
    "# pysynphot - work with spectra\n",
    "import pysynphot as S\n",
    "\n",
    "# Astropy - read files\n",
    "from astropy.io import fits\n",
    "from astropy.table import Table\n",
    "\n",
    "# Grizli - sim\n",
    "from grizli.model import GrismFLT\n",
    "\n",
    "# Progress bar\n",
    "from tqdm import tqdm\n",
    "from IPython.display import clear_output\n",
    "\n",
    "os.chdir(\"/Users/keith/astr/research_astr/summer-roman-project/4) FOV0_sims/fits/\")"
   ]
  },
  {
   "cell_type": "code",
   "execution_count": 2,
   "metadata": {},
   "outputs": [],
   "source": [
    "# Name all relevant files & load in catalog\n",
    "direct_file = \"ready_direct_GRS_FOV0_roll0_dx0_dy0_SCA1_direct_final.fits\"\n",
    "empty_seg = \"empty_seg.fits\"\n",
    "empty_direct = \"empty_direct.fits\"\n",
    "\n",
    "hlss_tbl = Table.read(\"/Users/keith/astr/research_astr/FOV0/catalogs/MOT_SCA1_roll_0_dither_0x_0y_cut_zcut.txt\",\n",
    "                      format=\"ascii\")\n",
    "hlss_tbl = hlss_tbl.group_by(\"MODIMAGE\")\n",
    "hlss_tbl.groups[0].sort(\"MAG_F1500W\", reverse=True)\n",
    "hlss_tbl.groups[1].sort(\"MAG_F1500W\", reverse=True)\n",
    "\n",
    "\n",
    "# While testing and imporving sim, I'm only using a small cutout\n",
    "x_pos = 2124\n",
    "y_pos = 1223\n",
    "size = 500\n",
    "cutout_condition = (abs(hlss_tbl[\"X_IMAGE\"] - x_pos) < size) & (abs(hlss_tbl[\"Y_IMAGE\"] - y_pos) < size)\n",
    "cutout_tbl = hlss_tbl[np.where(cutout_condition)]"
   ]
  },
  {
   "cell_type": "code",
   "execution_count": 3,
   "metadata": {},
   "outputs": [],
   "source": [
    "# Generate and Save an empty segmentation fits and direct fits\n",
    "zero_data = np.zeros((4088,4088))\n",
    "\n",
    "# Take header info from prepared direct image\n",
    "file = fits.open(direct_file)\n",
    "phdu = file[0]\n",
    "hdr = file[1].header\n",
    "\n",
    "# Structure empty direct fits\n",
    "ihdu = fits.ImageHDU(data=zero_data, header=hdr, name=\"SCI\")\n",
    "errhdu = fits.ImageHDU(data=zero_data, header=hdr, name=\"ERR\")\n",
    "dqhdu = fits.ImageHDU(data=zero_data, header=hdr, name=\"DQ\")\n",
    "hdul = [phdu, ihdu, errhdu, dqhdu]\n",
    "\n",
    "# Save both files\n",
    "fits.HDUList(hdul).writeto(empty_direct, overwrite=True)\n",
    "fits.writeto(empty_seg, data=zero_data, header=hdr, overwrite=True)\n",
    "\n",
    "# I/O and cleaning\n",
    "file.close()\n",
    "del zero_data\n",
    "del phdu\n",
    "del hdr\n",
    "del ihdu\n",
    "del errhdu\n",
    "del dqhdu\n",
    "del hdul"
   ]
  },
  {
   "cell_type": "code",
   "execution_count": 4,
   "metadata": {},
   "outputs": [],
   "source": [
    "# Maybe functional amplitdue functions?\n",
    "f158_lam_center = 1.577 * 10**-6 # micrometer\n",
    "telarea = 2.36**2 * constants.pi # meter ** 2\n",
    "\n",
    "f_0 = 3.7059108273831045e-10 # this is just a number that seems to work; theoretically, this is comparable to an ABZeropoint\n",
    "\n",
    "# Calculate number of counts as a function of magnitude\n",
    "N = lambda mag: telarea * (f158_lam_center / (constants.h * constants.speed_of_light)) * f_0 * 10**(-0.4 * mag)\n",
    "\n",
    "# Calculate 2D Gassian amplitude as a function of galaxy shape and magnitude\n",
    "amplitude_func = lambda x_stddev, y_stddev, mag: N(mag) / (2 * constants.pi * x_stddev * y_stddev)"
   ]
  },
  {
   "cell_type": "code",
   "execution_count": 6,
   "metadata": {},
   "outputs": [
    {
     "name": "stdout",
     "output_type": "stream",
     "text": [
      "\n",
      "\n",
      "Image cutout: x=slice(0, 4088, None), y=slice(0, 4088, None) [Out of range]\n",
      "empty_direct.fits / Pad ref HDU with 264 pixels\n",
      "empty_direct.fits / blot segmentation empty_seg.fits[0]\n",
      "The following task in the stsci.skypac package can be run with TEAL:\n",
      "                                    skymatch                                    \n",
      "The following tasks in the drizzlepac package can be run with TEAL:\n",
      "    astrodrizzle       config_testbed      imagefindpars           mapreg       \n",
      "       photeq            pixreplace           pixtopix            pixtosky      \n",
      "  refimagefindpars       resetbits          runastrodriz          skytopix      \n",
      "     tweakback            tweakreg           updatenpol\n",
      "Using default C-based coordinate transformation...\n",
      "Using default C-based coordinate transformation...\n"
     ]
    }
   ],
   "source": [
    "# Instantiate Grizli\n",
    "pad = 100\n",
    "roman_sim = GrismFLT(direct_file=empty_direct, seg_file=empty_seg, pad=pad)\n",
    "\n",
    "# Instantiate empty segmentation map and direct image\n",
    "# This will be filled with every iteration so you can see at the end what Grizli had to work with\n",
    "# Useful for troubleshooting; can (and probably should) delete eventually to imporve runtime\n",
    "full_seg = np.zeros((4088, 4088))\n",
    "full_direct = np.zeros((4088, 4088))"
   ]
  },
  {
   "cell_type": "code",
   "execution_count": 7,
   "metadata": {},
   "outputs": [
    {
     "name": "stderr",
     "output_type": "stream",
     "text": [
      "100%|██████████| 681/681 [02:35<00:00,  4.39it/s]\n"
     ]
    }
   ],
   "source": [
    "# Define SED directory\n",
    "SED_dir = \"/Users/keith/astr/research_astr/FOV0/FOV0_SEDs\"\n",
    "\n",
    "# Create Bandpass object\n",
    "df = Table.read(\"/Users/keith/astr/research_astr/FOV0/FOV0_SEDs/wfirst_wfi_f158_001_syn.fits\", format='fits')\n",
    "bp = S.ArrayBandpass(df[\"WAVELENGTH\"], df[\"THROUGHPUT\"])\n",
    "\n",
    "error_file = open(\"super_errors.txt\", \"a+\")\n",
    "\n",
    "for object in tqdm(cutout_tbl):\n",
    "\n",
    "    # DIRECT SIMULATION --------------------------\n",
    "\n",
    "    # Take object info\n",
    "    id = object[\"NUMBER\"]\n",
    "    mag = object[\"MAG_F1500W\"]\n",
    "    x_0 = object[\"X_IMAGE\"]\n",
    "    y_0 = object[\"Y_IMAGE\"]\n",
    "    modimage = object[\"MODIMAGE\"]\n",
    "\n",
    "    # STAR\n",
    "    if modimage:\n",
    "        continue\n",
    "\n",
    "    # GALAXY\n",
    "    else:\n",
    "        x_mean = y_0 # x and y are flipped in Gaussian2D\n",
    "        y_mean = x_0 # x and y are flipped in Gaussian2D\n",
    "        x_stddev = object[\"B_IMAGE\"] # Semi-minor is x-axis per testing\n",
    "        y_stddev = object[\"A_IMAGE\"] # Semi-major is y-axis per testing\n",
    "        theta = object[\"THETA_IMAGE\"]\n",
    "\n",
    "        amplitude = amplitude_func(x_stddev, y_stddev, mag)\n",
    "        args = (amplitude, x_mean, y_mean, x_stddev, y_stddev, theta)\n",
    "\n",
    "        dir_array = np.fromfunction(lambda i,j: gauss.evaluate(i, j, *args), shape=(4088,4088))\n",
    "\n",
    "        roman_sim.direct.data[\"SCI\"] = np.rot90(dir_array, k=3).astype(\"float32\")\n",
    "                                        \n",
    "        full_direct += np.rot90(dir_array, k=3).astype(\"float32\")\n",
    "\n",
    "    # SEGMENTATION -------------------------------\n",
    "\n",
    "    temp_seg = np.zeros((4088,4088), dtype=\"float32\")\n",
    "\n",
    "    # # STAR\n",
    "    # if modimage:\n",
    "    #     continue\n",
    "\n",
    "    # # GALAXY\n",
    "    # else:\n",
    "    #     a = object[\"A_IMAGE\"]\n",
    "    #     b = object[\"B_IMAGE\"]\n",
    "    #     theta = object[\"THETA_IMAGE\"]\n",
    "    #     radius = 3\n",
    "\n",
    "    #   # Create meshgrid cutout\n",
    "    #     x_min = max(0, int(x_0 - radius + 1))\n",
    "    #     x_max = min(4087, int(x_0 + radius + 1) + 1)\n",
    "    #     y_min = max(0, int(y_0 - radius + 1))\n",
    "    #     y_max = min(4087, int(y_0 + radius + 1) + 1)\n",
    "    #     x_cutout = np.arange(x_min, x_max)\n",
    "    #     y_cutout = np.arange(y_min, y_max)\n",
    "    #     x_grid, y_grid = np.meshgrid(x_cutout, y_cutout)\n",
    "\n",
    "    #     ellipse = lambda x,y: gen_ellipse(x, y, x_0, y_0, (theta, a, b))\n",
    "    #     condition = ellipse(x_grid, y_grid) <= radius\n",
    "    \n",
    "    condition = (roman_sim.direct.data[\"SCI\"] != 0)\n",
    "    temp_seg[np.where(condition)] = id \n",
    "\n",
    "    if not np.any(temp_seg):\n",
    "        error_file.write(\"ID {0} not in temp_seg \\n\".format(id))\n",
    "        continue\n",
    "    roman_sim.seg = temp_seg\n",
    "    full_seg += temp_seg\n",
    "    # GRISM SIMULATION ---------------------------\n",
    "\n",
    "    # STAR\n",
    "    if object[\"MODIMAGE\"]:\n",
    "        sed_path = \"/Users/keith/astr/research_astr/summer-roman-project/4) FOV0_sims/fits/ukg0v.fits\"\n",
    "        file = fits.open(sed_path)\n",
    "        wave = np.linspace(10000,20000,2000)\n",
    "        flux = file[0].data[1770:3770]\n",
    "        file.close()\n",
    "        z = 0\n",
    "\n",
    "    # GALAXY\n",
    "    else:\n",
    "        sed_path = os.path.join(SED_dir, \"SED:rest:gal.{0}.fits\".format(object[\"SPECTEMP\"]))\n",
    "        spectrum = Table.read(sed_path, format=\"fits\")\n",
    "        wave = spectrum[\"wavelength\"]\n",
    "        flux = spectrum[\"flux\"]\n",
    "        z = object['Z']\n",
    "\n",
    "    spec = S.ArraySpectrum(wave=wave, flux=flux, waveunits=\"angstrom\", fluxunits=\"flam\").redshift(z)\n",
    "    spec = spec.renorm(mag, \"abmag\", bp)\n",
    "    spec.convert(\"flam\")\n",
    "\n",
    "    roman_sim.compute_model_orders(id, mag=mag, compute_size=False, size=77, \n",
    "                                   in_place=True, store=False, spectrum_1d=[spec.wave, spec.flux], is_cgs=True)"
   ]
  },
  {
   "cell_type": "code",
   "execution_count": 8,
   "metadata": {},
   "outputs": [
    {
     "name": "stdout",
     "output_type": "stream",
     "text": [
      "min: 0.0\n",
      "max: 205.95549011238438\n",
      "median: 3.36333567924636e-36\n"
     ]
    }
   ],
   "source": [
    "print(f\"min: {full_direct.min()}\", f\"max: {full_direct.max()}\", f\"median: {np.median(full_direct)}\", sep='\\n')"
   ]
  },
  {
   "cell_type": "code",
   "execution_count": 9,
   "metadata": {},
   "outputs": [
    {
     "data": {
      "text/html": [
       "<div><i>Table length=1</i>\n",
       "<table id=\"table15461437312\" class=\"table-striped table-bordered table-condensed\">\n",
       "<thead><tr><th>NUMBER</th><th>X_IMAGE</th><th>Y_IMAGE</th><th>A_IMAGE</th><th>B_IMAGE</th><th>THETA_IMAGE</th><th>MAG_F1500W</th><th>SPECTEMP</th><th>Z</th><th>MODIMAGE</th><th>MODIMAGE_1</th><th>MODIMAGE_2</th></tr></thead>\n",
       "<thead><tr><th>int64</th><th>float64</th><th>float64</th><th>float64</th><th>float64</th><th>float64</th><th>float64</th><th>int64</th><th>float64</th><th>int64</th><th>float64</th><th>float64</th></tr></thead>\n",
       "<tr><td>30267</td><td>2573.9223</td><td>831.3842</td><td>220.9088</td><td>117.9295</td><td>240.01</td><td>23.21</td><td>30267</td><td>1.635397</td><td>0</td><td>9.4423526</td><td>-0.7739819</td></tr>\n",
       "</table></div>"
      ],
      "text/plain": [
       "<Table length=1>\n",
       "NUMBER  X_IMAGE  Y_IMAGE  A_IMAGE  ...    Z     MODIMAGE MODIMAGE_1 MODIMAGE_2\n",
       "int64   float64  float64  float64  ... float64   int64    float64    float64  \n",
       "------ --------- -------- -------- ... -------- -------- ---------- ----------\n",
       " 30267 2573.9223 831.3842 220.9088 ... 1.635397        0  9.4423526 -0.7739819"
      ]
     },
     "execution_count": 9,
     "metadata": {},
     "output_type": "execute_result"
    }
   ],
   "source": [
    "hlss_tbl[hlss_tbl[\"NUMBER\"] == 30267]"
   ]
  },
  {
   "cell_type": "code",
   "execution_count": 10,
   "metadata": {},
   "outputs": [
    {
     "data": {
      "text/plain": [
       "array([[    0.,     0.,     0., ...,     0.,     0.,     0.],\n",
       "       [    0.,     0.,     0., ...,     0.,     0.,     0.],\n",
       "       [    0.,     0.,     0., ...,     0.,     0.,     0.],\n",
       "       ...,\n",
       "       [    0.,     0.,     0., ..., 30267., 30267., 30267.],\n",
       "       [    0.,     0.,     0., ..., 30267., 30267., 30267.],\n",
       "       [    0.,     0.,     0., ..., 30267., 30267., 30267.]])"
      ]
     },
     "execution_count": 10,
     "metadata": {},
     "output_type": "execute_result"
    }
   ],
   "source": [
    "full_seg"
   ]
  },
  {
   "cell_type": "code",
   "execution_count": 12,
   "metadata": {},
   "outputs": [
    {
     "name": "stdout",
     "output_type": "stream",
     "text": [
      "min: 0.0\n",
      "max: 1.8604341745376587\n",
      "median: 0.0\n"
     ]
    }
   ],
   "source": [
    "sim_min = roman_sim.model.min()\n",
    "sim_max = roman_sim.model.max()\n",
    "sim_median = np.median(roman_sim.model[723:1723, 1624:2624])\n",
    "\n",
    "print(f\"min: {sim_min}\", f\"max: {sim_max}\", f\"median: {sim_median}\", sep='\\n')"
   ]
  },
  {
   "cell_type": "code",
   "execution_count": 13,
   "metadata": {},
   "outputs": [
    {
     "data": {
      "text/plain": [
       "<matplotlib.lines.Line2D at 0x39995be90>"
      ]
     },
     "execution_count": 13,
     "metadata": {},
     "output_type": "execute_result"
    },
    {
     "data": {
      "image/png": "[encoded data removed]",
      "text/plain": [
       "<Figure size 640x480 with 1 Axes>"
      ]
     },
     "metadata": {},
     "output_type": "display_data"
    }
   ],
   "source": [
    "fig, ax = plt.subplots()\n",
    "\n",
    "upright_img = np.rot90(roman_sim.model[pad:-pad,pad:-pad])\n",
    "ax.imshow(upright_img, origin='lower', vmin=0, vmax=0.11738539732765789, cmap='hot')\n",
    "ax.set_title(\"Grism Image\")\n",
    "\n",
    "ax.axvline(1624)\n",
    "ax.axvline(2624)\n",
    "ax.axhline(723)\n",
    "ax.axhline(1723)"
   ]
  }
 ],
 "metadata": {
  "kernelspec": {
   "display_name": "grizli-env",
   "language": "python",
   "name": "python3"
  },
  "language_info": {
   "codemirror_mode": {
    "name": "ipython",
    "version": 3
   },
   "file_extension": ".py",
   "mimetype": "text/x-python",
   "name": "python",
   "nbconvert_exporter": "python",
   "pygments_lexer": "ipython3",
   "version": "3.12.3"
  }
 },
 "nbformat": 4,
 "nbformat_minor": 2
}
