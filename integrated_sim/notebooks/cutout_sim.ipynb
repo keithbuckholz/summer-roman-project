{
 "cells": [
  {
   "cell_type": "code",
   "execution_count": 1,
   "metadata": {},
   "outputs": [
    {
     "name": "stderr",
     "output_type": "stream",
     "text": [
      "/Users/keith/miniconda3/envs/grizli-env/lib/python3.12/site-packages/pysynphot/refs.py:117: UserWarning: No graph or component tables found; functionality will be SEVERELY crippled. No files found for /Users/keith/PYSYN_CDBS/mtab/*_tmg.fits\n",
      "  warnings.warn('No graph or component tables found; '\n",
      "/Users/keith/miniconda3/envs/grizli-env/lib/python3.12/site-packages/pysynphot/refs.py:124: UserWarning: No thermal tables found, no thermal calculations can be performed. No files found for /Users/keith/PYSYN_CDBS/mtab/*_tmt.fits\n",
      "  warnings.warn('No thermal tables found, '\n"
     ]
    }
   ],
   "source": [
    "# General\n",
    "import os\n",
    "import numpy as np\n",
    "import matplotlib.pyplot as plt\n",
    "from math import floor, ceil\n",
    "\n",
    "# pysynphot - work with spectra\n",
    "import pysynphot as S\n",
    "\n",
    "# Astropy - read files\n",
    "from astropy.io import fits\n",
    "from astropy.table import Table\n",
    "\n",
    "# Grizli - sim\n",
    "from grizli.model import GrismFLT\n",
    "\n",
    "# Progress bar\n",
    "from tqdm import tqdm\n",
    "from IPython.display import clear_output\n",
    "\n",
    "os.chdir(\"/Users/keith/astr/research_astr/summer-roman-project/4) FOV0_sims/fits/\")"
   ]
  },
  {
   "cell_type": "code",
   "execution_count": 2,
   "metadata": {},
   "outputs": [],
   "source": [
    "# Name all relevant files & load in catalog\n",
    "direct_file = \"ready_direct_GRS_FOV0_roll0_dx0_dy0_SCA1_direct_final.fits\"\n",
    "empty_seg = \"empty_seg.fits\"\n",
    "\n",
    "hlss_tbl = Table.read(\"/Users/keith/astr/research_astr/FOV0/catalogs/MOT_SCA1_roll_0_dither_0x_0y_cut_zcut.txt\",\n",
    "                      format='ascii')\n",
    "hlss_tbl = hlss_tbl.group_by(\"MODIMAGE\")\n",
    "hlss_tbl.groups[0].sort(\"MAG_F1500W\", reverse=True)\n",
    "hlss_tbl.groups[1].sort(\"MAG_F1500W\", reverse=True)\n",
    "\n",
    "x_pos = 2124\n",
    "y_pos = 1223\n",
    "size = 500\n",
    "cutout_condition = (abs(hlss_tbl[\"X_IMAGE\"] - x_pos) < size) & (abs(hlss_tbl[\"Y_IMAGE\"] - y_pos) < size)\n",
    "cutout_tbl = hlss_tbl[np.where(cutout_condition)]"
   ]
  },
  {
   "cell_type": "code",
   "execution_count": 3,
   "metadata": {},
   "outputs": [],
   "source": [
    "# Prepare shape-defining equations\n",
    "# GALAXY ellipses\n",
    "A = lambda theta, a, b: ((np.sin(theta)**2)/(a**2)) + ((np.cos(theta)**2)/(b**2))\n",
    "B = lambda theta, a, b: 2 * np.sin(theta) * np.cos(theta) * ((1/b**2) - (1/a**2))\n",
    "C = lambda theta, a, b: ((np.sin(theta)**2)/(b**2)) + ((np.cos(theta)**2)/(a**2))\n",
    "\n",
    "gen_ellipse = lambda x,y,x_0,y_0, ell: (A(*ell) * (x - x_0)**2) + (B(*ell) * (x - x_0) * (y - y_0)) + (C(*ell) * (y - y_0)**2)\n",
    "\n",
    "# STAR circle\n",
    "gen_cirl = lambda x,y,x_0,y_0: (x-x_0)**2 + (y-y_0)**2\n",
    "\n",
    "star_radius = lambda mag: 4663 * 10**(-0.1587 * mag) + 1.596 # Roughly sketched in logger pro then doubled"
   ]
  },
  {
   "cell_type": "code",
   "execution_count": 4,
   "metadata": {},
   "outputs": [
    {
     "name": "stdout",
     "output_type": "stream",
     "text": [
      "\n",
      "\n",
      "Image cutout: x=slice(0, 4088, None), y=slice(0, 4088, None) [Out of range]\n",
      "ready_direct_GRS_FOV0_roll0_dx0_dy0_SCA1_direct_final.fits / Pad ref HDU with 264 pixels\n",
      "ready_direct_GRS_FOV0_roll0_dx0_dy0_SCA1_direct_final.fits / blot segmentation empty_seg.fits[0]\n",
      "The following task in the stsci.skypac package can be run with TEAL:\n",
      "                                    skymatch                                    \n",
      "The following tasks in the drizzlepac package can be run with TEAL:\n",
      "    astrodrizzle       config_testbed      imagefindpars           mapreg       \n",
      "       photeq            pixreplace           pixtopix            pixtosky      \n",
      "  refimagefindpars       resetbits          runastrodriz          skytopix      \n",
      "     tweakback            tweakreg           updatenpol\n",
      "Using default C-based coordinate transformation...\n",
      "Using default C-based coordinate transformation...\n"
     ]
    }
   ],
   "source": [
    "pad = 100\n",
    "roman_sim = GrismFLT(direct_file=direct_file, seg_file=empty_seg, pad=pad)"
   ]
  },
  {
   "cell_type": "code",
   "execution_count": 5,
   "metadata": {},
   "outputs": [
    {
     "name": "stderr",
     "output_type": "stream",
     "text": [
      "100%|██████████| 681/681 [00:52<00:00, 12.85it/s]\n"
     ]
    }
   ],
   "source": [
    "# Define SED directory\n",
    "SED_dir = \"/Users/keith/astr/research_astr/FOV0/FOV0_SEDs\"\n",
    "\n",
    "# Create Bandpass object\n",
    "df = Table.read(\"/Users/keith/astr/research_astr/FOV0/FOV0_SEDs/wfirst_wfi_f158_001_syn.fits\", format='fits')\n",
    "bp = S.ArrayBandpass(df[\"WAVELENGTH\"], df[\"THROUGHPUT\"])\n",
    "\n",
    "error_file = open(\"errors.txt\", \"a+\")\n",
    "\n",
    "for object in tqdm(cutout_tbl):\n",
    "    \n",
    "    # SEGMENTATION -------------------------------\n",
    "\n",
    "    temp_seg = np.zeros((4088,4088))\n",
    "\n",
    "    # Take object info\n",
    "    id = object[\"NUMBER\"]\n",
    "    mag = object[\"MAG_F1500W\"]\n",
    "    x_0 = object[\"X_IMAGE\"]\n",
    "    y_0 = object[\"Y_IMAGE\"]\n",
    "    modimage = object[\"MODIMAGE\"]\n",
    "\n",
    "    # STAR\n",
    "    if modimage:\n",
    "        radius = max(star_radius(mag), 8)\n",
    "        circ = lambda x, y: gen_cirl(x, y, x_0, y_0)\n",
    "\n",
    "        # Create meshgrid cutout\n",
    "        x_min = max(0, int(x_0 - radius + 1)) # floor\n",
    "        x_max = min(4087, int(x_0 + radius + 1) + 1) # ceil\n",
    "        y_min = max(0, int(y_0 - radius + 1))\n",
    "        y_max = min(4087, int(y_0 + radius + 1) + 1)\n",
    "        x_cutout = np.arange(x_min, x_max)\n",
    "        y_cutout = np.arange(y_min, y_max)\n",
    "        x_grid, y_grid = np.meshgrid(x_cutout, y_cutout)\n",
    "\n",
    "        condition = circ(x_grid, y_grid) <= radius\n",
    "\n",
    "    # GALAXY\n",
    "    else:\n",
    "        a = object[\"A_IMAGE\"]\n",
    "        b = object[\"B_IMAGE\"]\n",
    "        theta = object[\"THETA_IMAGE\"] * (np.pi / 180)\n",
    "        radius = 3\n",
    "\n",
    "      # Create meshgrid cutout\n",
    "        x_min = max(0, int(x_0 - radius + 1))\n",
    "        x_max = min(4087, int(x_0 + radius + 1) + 1)\n",
    "        y_min = max(0, int(y_0 - radius + 1))\n",
    "        y_max = min(4087, int(y_0 + radius + 1) + 1)\n",
    "        x_cutout = np.arange(x_min, x_max)\n",
    "        y_cutout = np.arange(y_min, y_max)\n",
    "        x_grid, y_grid = np.meshgrid(x_cutout, y_cutout)\n",
    "\n",
    "        ellipse = lambda x,y: gen_ellipse(x, y, x_0, y_0, (theta, a, b))\n",
    "        condition = ellipse(x_grid, y_grid) <= radius\n",
    "\n",
    "    temp_seg[y_min:y_max, x_min:x_max][np.where(condition)] = id \n",
    "\n",
    "    if not np.any(temp_seg):\n",
    "        error_file.write(\"ID {0} not in temp_seg \\n\".format(id))\n",
    "        continue\n",
    "    roman_sim.seg = np.rot90(temp_seg,k=3).astype(\"float32\")\n",
    "\n",
    "    # SIMULATION ---------------------------------\n",
    "\n",
    "    # STAR\n",
    "    if object[\"MODIMAGE\"]:\n",
    "        sed_path = \"/Users/keith/astr/research_astr/summer-roman-project/4) FOV0_sims/fits/ukg0v.fits\"\n",
    "        file = fits.open(sed_path)\n",
    "        wave = np.linspace(10000,20000,2000)\n",
    "        flux = file[0].data[1770:3770]\n",
    "        file.close()\n",
    "        z = 0\n",
    "\n",
    "    # GALAXY\n",
    "    else:\n",
    "        sed_path = os.path.join(SED_dir, \"SED:rest:gal.{0}.fits\".format(object[\"SPECTEMP\"]))\n",
    "        spectrum = Table.read(sed_path, format=\"fits\")\n",
    "        wave = spectrum[\"wavelength\"]\n",
    "        flux = spectrum[\"flux\"]\n",
    "        z = object['Z']\n",
    "\n",
    "    spec = S.ArraySpectrum(wave=wave, flux=flux, waveunits=\"angstrom\", fluxunits=\"flam\").redshift(z)\n",
    "    spec = spec.renorm(mag, \"abmag\", bp)\n",
    "    spec.convert(\"flam\")\n",
    "\n",
    "    roman_sim.compute_model_orders(id, mag=mag, compute_size=False, size=77, \n",
    "                                   in_place=True, store=False, spectrum_1d=[spec.wave, spec.flux], is_cgs=True)"
   ]
  },
  {
   "cell_type": "code",
   "execution_count": 6,
   "metadata": {},
   "outputs": [
    {
     "name": "stdout",
     "output_type": "stream",
     "text": [
      "min: 0.0\n",
      "max: 53.29931640625\n",
      "median: 0.0\n"
     ]
    }
   ],
   "source": [
    "sim_min = roman_sim.model.min()\n",
    "sim_max = roman_sim.model.max()\n",
    "sim_median = np.median(roman_sim.model[723:1723, 1624:2624])\n",
    "\n",
    "print(f\"min: {sim_min}\", f\"max: {sim_max}\", f\"median: {sim_median}\", sep='\\n')"
   ]
  },
  {
   "cell_type": "code",
   "execution_count": 7,
   "metadata": {},
   "outputs": [
    {
     "data": {
      "text/plain": [
       "<matplotlib.lines.Line2D at 0x35930ca10>"
      ]
     },
     "execution_count": 7,
     "metadata": {},
     "output_type": "execute_result"
    },
    {
     "data": {
      "image/png": "[encoded data removed]",
      "text/plain": [
       "<Figure size 640x480 with 1 Axes>"
      ]
     },
     "metadata": {},
     "output_type": "display_data"
    }
   ],
   "source": [
    "fig, ax = plt.subplots()\n",
    "\n",
    "upright_img = np.rot90(roman_sim.model[pad:-pad,pad:-pad])\n",
    "ax.imshow(upright_img, origin='lower', vmin=0, vmax=0.11738539732765789, cmap='hot')\n",
    "\n",
    "\n",
    "\n",
    "ax.axvline(1624)\n",
    "ax.axvline(2624)\n",
    "ax.axhline(723)\n",
    "ax.axhline(1723)"
   ]
  },
  {
   "cell_type": "code",
   "execution_count": 8,
   "metadata": {},
   "outputs": [],
   "source": [
    "save_to_filename = \"cutout_sim.fits\"\n",
    "\n",
    "file = fits.open(direct_file)\n",
    "header = file[1].header\n",
    "PrimaryHDU = file[0]\n",
    "\n",
    "ImageHDU = fits.ImageHDU(data=upright_img, header=header, name=\"SCI\")\n",
    "err_HDU = fits.ImageHDU(data=np.zeros((4088, 4088)), header=header, name=\"ERR\")\n",
    "DQ_HDU = fits.ImageHDU(data=np.zeros((4088, 4088)), header=header, name=\"DQ\")\n",
    "\n",
    "hdul = [PrimaryHDU, ImageHDU, err_HDU, DQ_HDU]\n",
    "\n",
    "fits.HDUList(hdul).writeto(save_to_filename, overwrite=True)\n",
    "\n",
    "file.close()"
   ]
  }
 ],
 "metadata": {
  "kernelspec": {
   "display_name": "grizli-env",
   "language": "python",
   "name": "python3"
  },
  "language_info": {
   "codemirror_mode": {
    "name": "ipython",
    "version": 3
   },
   "file_extension": ".py",
   "mimetype": "text/x-python",
   "name": "python",
   "nbconvert_exporter": "python",
   "pygments_lexer": "ipython3",
   "version": "3.12.3"
  }
 },
 "nbformat": 4,
 "nbformat_minor": 2
}
