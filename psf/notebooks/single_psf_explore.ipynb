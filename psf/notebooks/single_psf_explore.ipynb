{
 "cells": [
  {
   "cell_type": "code",
   "execution_count": 1,
   "metadata": {},
   "outputs": [
    {
     "name": "stderr",
     "output_type": "stream",
     "text": [
      "/Users/keith/miniconda3/envs/grizli-env/lib/python3.12/site-packages/pysynphot/locations.py:46: UserWarning: PYSYN_CDBS is undefined; functionality will be SEVERELY crippled.\n",
      "  warnings.warn(\"PYSYN_CDBS is undefined; functionality will be SEVERELY \"\n",
      "/Users/keith/miniconda3/envs/grizli-env/lib/python3.12/site-packages/pysynphot/locations.py:345: UserWarning: Extinction files not found in extinction\n",
      "  warnings.warn('Extinction files not found in %s' % (extdir, ))\n"
     ]
    }
   ],
   "source": [
    "# General imports\n",
    "import numpy as np\n",
    "import matplotlib.pyplot as plt\n",
    "import os\n",
    "\n",
    "# Seg Map imports\n",
    "from scipy.ndimage import label\n",
    "from astropy.table import Table\n",
    "from astropy.io import fits\n",
    "\n",
    "# grizli imports\n",
    "from grizli.model import GrismFLT\n",
    "import pysynphot as S"
   ]
  },
  {
   "cell_type": "code",
   "execution_count": 2,
   "metadata": {},
   "outputs": [],
   "source": [
    "# Read in Table and sort with highest Z first\n",
    "hlss_tbl = Table.read(\"/Users/keith/astr/research_astr/FOV0/catalogs/MOT_SCA1_roll_0_dither_0x_0y_cut_zcut.txt\",\n",
    "                      format='ascii')\n",
    "hlss_tbl = hlss_tbl.group_by(\"MODIMAGE\")\n",
    "hlss_tbl.groups[0].sort(\"MAG_F1500W\", reverse=True)\n",
    "hlss_tbl.groups[1].sort(\"MAG_F1500W\", reverse=True)\n",
    "\n",
    "# Store len and instantiate empty seg_map\n",
    "total_obj = len(hlss_tbl)\n",
    "seg_map = np.zeros((4088,4088))"
   ]
  },
  {
   "cell_type": "code",
   "execution_count": 28,
   "metadata": {},
   "outputs": [
    {
     "data": {
      "text/html": [
       "<div><i>Table length=1</i>\n",
       "<table id=\"table6271679664\" class=\"table-striped table-bordered table-condensed\">\n",
       "<thead><tr><th>NUMBER</th><th>X_IMAGE</th><th>Y_IMAGE</th><th>A_IMAGE</th><th>B_IMAGE</th><th>THETA_IMAGE</th><th>MAG_F1500W</th><th>SPECTEMP</th><th>Z</th><th>MODIMAGE</th><th>MODIMAGE_1</th><th>MODIMAGE_2</th></tr></thead>\n",
       "<thead><tr><th>int64</th><th>float64</th><th>float64</th><th>float64</th><th>float64</th><th>float64</th><th>float64</th><th>int64</th><th>float64</th><th>int64</th><th>float64</th><th>float64</th></tr></thead>\n",
       "<tr><td>208537</td><td>2337.05</td><td>3992.0297</td><td>8.0</td><td>8.0</td><td>0.0</td><td>27.0</td><td>197363</td><td>0.0</td><td>1</td><td>-1000.0</td><td>-1000.0</td></tr>\n",
       "</table></div>"
      ],
      "text/plain": [
       "<Table length=1>\n",
       "NUMBER X_IMAGE  Y_IMAGE  A_IMAGE ...    Z    MODIMAGE MODIMAGE_1 MODIMAGE_2\n",
       "int64  float64  float64  float64 ... float64  int64    float64    float64  \n",
       "------ ------- --------- ------- ... ------- -------- ---------- ----------\n",
       "208537 2337.05 3992.0297     8.0 ...     0.0        1    -1000.0    -1000.0"
      ]
     },
     "execution_count": 28,
     "metadata": {},
     "output_type": "execute_result"
    }
   ],
   "source": [
    "hlss_tbl[hlss_tbl[\"NUMBER\"] == 208537]"
   ]
  },
  {
   "cell_type": "code",
   "execution_count": 26,
   "metadata": {},
   "outputs": [
    {
     "ename": "IndexError",
     "evalue": "index 208537 out of range for table with length 10763",
     "output_type": "error",
     "traceback": [
      "\u001b[0;31m---------------------------------------------------------------------------\u001b[0m",
      "\u001b[0;31mIndexError\u001b[0m                                Traceback (most recent call last)",
      "Cell \u001b[0;32mIn[26], line 9\u001b[0m\n\u001b[1;32m      5\u001b[0m index \u001b[38;5;241m=\u001b[39m np\u001b[38;5;241m.\u001b[39mwhere(coords)\n\u001b[1;32m      7\u001b[0m index \u001b[38;5;241m=\u001b[39m \u001b[38;5;241m208537\u001b[39m\n\u001b[0;32m----> 9\u001b[0m \u001b[43mhlss_tbl\u001b[49m\u001b[43m[\u001b[49m\u001b[43mindex\u001b[49m\u001b[43m]\u001b[49m\u001b[38;5;241m.\u001b[39mpprint_all()\n",
      "File \u001b[0;32m~/miniconda3/envs/grizli-env/lib/python3.12/site-packages/astropy/table/table.py:2064\u001b[0m, in \u001b[0;36mTable.__getitem__\u001b[0;34m(self, item)\u001b[0m\n\u001b[1;32m   2062\u001b[0m     \u001b[38;5;28;01mreturn\u001b[39;00m \u001b[38;5;28mself\u001b[39m\u001b[38;5;241m.\u001b[39mcolumns[item]\n\u001b[1;32m   2063\u001b[0m \u001b[38;5;28;01melif\u001b[39;00m \u001b[38;5;28misinstance\u001b[39m(item, (\u001b[38;5;28mint\u001b[39m, np\u001b[38;5;241m.\u001b[39minteger)):\n\u001b[0;32m-> 2064\u001b[0m     \u001b[38;5;28;01mreturn\u001b[39;00m \u001b[38;5;28;43mself\u001b[39;49m\u001b[38;5;241;43m.\u001b[39;49m\u001b[43mRow\u001b[49m\u001b[43m(\u001b[49m\u001b[38;5;28;43mself\u001b[39;49m\u001b[43m,\u001b[49m\u001b[43m \u001b[49m\u001b[43mitem\u001b[49m\u001b[43m)\u001b[49m\n\u001b[1;32m   2065\u001b[0m \u001b[38;5;28;01melif\u001b[39;00m (\n\u001b[1;32m   2066\u001b[0m     \u001b[38;5;28misinstance\u001b[39m(item, np\u001b[38;5;241m.\u001b[39mndarray) \u001b[38;5;129;01mand\u001b[39;00m item\u001b[38;5;241m.\u001b[39mshape \u001b[38;5;241m==\u001b[39m () \u001b[38;5;129;01mand\u001b[39;00m item\u001b[38;5;241m.\u001b[39mdtype\u001b[38;5;241m.\u001b[39mkind \u001b[38;5;241m==\u001b[39m \u001b[38;5;124m\"\u001b[39m\u001b[38;5;124mi\u001b[39m\u001b[38;5;124m\"\u001b[39m\n\u001b[1;32m   2067\u001b[0m ):\n\u001b[1;32m   2068\u001b[0m     \u001b[38;5;28;01mreturn\u001b[39;00m \u001b[38;5;28mself\u001b[39m\u001b[38;5;241m.\u001b[39mRow(\u001b[38;5;28mself\u001b[39m, item\u001b[38;5;241m.\u001b[39mitem())\n",
      "File \u001b[0;32m~/miniconda3/envs/grizli-env/lib/python3.12/site-packages/astropy/table/row.py:41\u001b[0m, in \u001b[0;36mRow.__init__\u001b[0;34m(self, table, index)\u001b[0m\n\u001b[1;32m     38\u001b[0m n \u001b[38;5;241m=\u001b[39m \u001b[38;5;28mlen\u001b[39m(table)\n\u001b[1;32m     40\u001b[0m \u001b[38;5;28;01mif\u001b[39;00m index \u001b[38;5;241m<\u001b[39m \u001b[38;5;241m-\u001b[39mn \u001b[38;5;129;01mor\u001b[39;00m index \u001b[38;5;241m>\u001b[39m\u001b[38;5;241m=\u001b[39m n:\n\u001b[0;32m---> 41\u001b[0m     \u001b[38;5;28;01mraise\u001b[39;00m \u001b[38;5;167;01mIndexError\u001b[39;00m(\n\u001b[1;32m     42\u001b[0m         \u001b[38;5;124mf\u001b[39m\u001b[38;5;124m\"\u001b[39m\u001b[38;5;124mindex \u001b[39m\u001b[38;5;132;01m{\u001b[39;00mindex\u001b[38;5;132;01m}\u001b[39;00m\u001b[38;5;124m out of range for table with length \u001b[39m\u001b[38;5;132;01m{\u001b[39;00m\u001b[38;5;28mlen\u001b[39m(table)\u001b[38;5;132;01m}\u001b[39;00m\u001b[38;5;124m\"\u001b[39m\n\u001b[1;32m     43\u001b[0m     )\n\u001b[1;32m     45\u001b[0m \u001b[38;5;66;03m# Finally, ensure the index is positive [#8422] and set Row attributes\u001b[39;00m\n\u001b[1;32m     46\u001b[0m \u001b[38;5;28mself\u001b[39m\u001b[38;5;241m.\u001b[39m_index \u001b[38;5;241m=\u001b[39m index \u001b[38;5;241m%\u001b[39m n\n",
      "\u001b[0;31mIndexError\u001b[0m: index 208537 out of range for table with length 10763"
     ]
    }
   ],
   "source": [
    "x = 2466\n",
    "y = 1166\n",
    "range = 10 # pix\n",
    "coords = (abs(hlss_tbl[\"X_IMAGE\"] - x) < range) & (abs(hlss_tbl[\"Y_IMAGE\"] - y) < range)\n",
    "index = np.where(coords)\n",
    "\n",
    "hlss_tbl[index].pprint_all()"
   ]
  },
  {
   "cell_type": "code",
   "execution_count": 102,
   "metadata": {},
   "outputs": [],
   "source": [
    "star = lambda x, y, x_0, y_0: (x-x_0)**2 + (y-y_0)**2\n",
    "\n",
    "y = np.arange(4088)\n",
    "x = np.arange(4088)\n",
    "x_grid, y_grid = np.meshgrid(x,y)\n",
    "del x\n",
    "del y"
   ]
  },
  {
   "cell_type": "code",
   "execution_count": 103,
   "metadata": {},
   "outputs": [],
   "source": [
    "object = hlss_tbl[index]\n",
    "\n",
    "num = object[\"NUMBER\"][0]\n",
    "x_0 = object[\"X_IMAGE\"][0]\n",
    "y_0 = object[\"Y_IMAGE\"][0]\n",
    "\n",
    "test_star = lambda x, y: star(x, y, x_0, y_0)\n",
    "\n",
    "\n",
    "condition = test_star(x_grid, y_grid) <= 60**2\n",
    "\n",
    "seg_map[np.where(condition)] = num"
   ]
  },
  {
   "cell_type": "code",
   "execution_count": 104,
   "metadata": {},
   "outputs": [],
   "source": [
    "direct_file = \"/Users/keith/astr/research_astr/summer-roman-project/psf/fits/ready_direct_GRS_FOV0_roll0_dx0_dy0_SCA1_direct_final.fits\"\n",
    "seg_file = \"test_seg.fits\"\n",
    "\n",
    "file = fits.open(direct_file)\n",
    "hdr = file[1].header\n",
    "file.close()\n",
    "\n",
    "fits.writeto(seg_file, data=np.rot90(seg_map, k=3), header=hdr, overwrite=True)"
   ]
  },
  {
   "cell_type": "code",
   "execution_count": 105,
   "metadata": {},
   "outputs": [
    {
     "name": "stdout",
     "output_type": "stream",
     "text": [
      "Image cutout: x=slice(0, 4088, None), y=slice(0, 4088, None) [Out of range]\n",
      "/Users/keith/astr/research_astr/summer-roman-project/psf/fits/ready_direct_GRS_FOV0_roll0_dx0_dy0_SCA1_direct_final.fits / Pad ref HDU with 264 pixels\n",
      "/Users/keith/astr/research_astr/summer-roman-project/psf/fits/ready_direct_GRS_FOV0_roll0_dx0_dy0_SCA1_direct_final.fits / blot segmentation test_seg.fits[0]\n",
      "Using default C-based coordinate transformation...\n",
      "Using default C-based coordinate transformation...\n"
     ]
    }
   ],
   "source": [
    "# Create Grizli GrismFLT instance\n",
    "pad=100\n",
    "roman_sim = GrismFLT(direct_file=direct_file, seg_file=seg_file, pad=pad)"
   ]
  },
  {
   "cell_type": "code",
   "execution_count": 106,
   "metadata": {},
   "outputs": [
    {
     "data": {
      "text/plain": [
       "<matplotlib.image.AxesImage at 0x36db69eb0>"
      ]
     },
     "execution_count": 106,
     "metadata": {},
     "output_type": "execute_result"
    },
    {
     "data": {
      "image/png": "[encoded data removed]",
      "text/plain": [
       "<Figure size 640x480 with 1 Axes>"
      ]
     },
     "metadata": {},
     "output_type": "display_data"
    }
   ],
   "source": [
    "plt.imshow(np.rot90(seg_map, k=3), origin='lower')"
   ]
  },
  {
   "cell_type": "code",
   "execution_count": 107,
   "metadata": {},
   "outputs": [
    {
     "data": {
      "text/plain": [
       "<matplotlib.image.AxesImage at 0x3686a6d80>"
      ]
     },
     "execution_count": 107,
     "metadata": {},
     "output_type": "execute_result"
    },
    {
     "data": {
      "image/png": "[encoded data removed]",
      "text/plain": [
       "<Figure size 640x480 with 1 Axes>"
      ]
     },
     "metadata": {},
     "output_type": "display_data"
    }
   ],
   "source": [
    "plt.imshow(roman_sim.seg, origin='lower')"
   ]
  },
  {
   "cell_type": "code",
   "execution_count": 108,
   "metadata": {},
   "outputs": [
    {
     "data": {
      "text/plain": [
       "True"
      ]
     },
     "execution_count": 108,
     "metadata": {},
     "output_type": "execute_result"
    }
   ],
   "source": [
    "# Define SED directory\n",
    "SED_dir = \"/Users/keith/astr/research_astr/FOV0/FOV0_SEDs\"\n",
    "\n",
    "# Create Bandpass object\n",
    "df = Table.read(\"/Users/keith/astr/research_astr/FOV0/FOV0_SEDs/wfirst_wfi_f158_001_syn.fits\", format='fits')\n",
    "bp = S.ArrayBandpass(df[\"WAVELENGTH\"], df[\"THROUGHPUT\"])\n",
    "\n",
    "# Pull object characteristics\n",
    "mag = object[\"MAG_F1500W\"][0]\n",
    "sed = \"SED:rest:gal.{0}.fits\".format(object[\"SPECTEMP\"][0])\n",
    "\n",
    "\n",
    "# Create Spectrum array object\n",
    "sed_path = os.path.join(SED_dir, sed)\n",
    "spectrum = Table.read(sed_path, format=\"fits\")\n",
    "rest_wave = spectrum[\"wavelength\"]\n",
    "flux = spectrum[\"flux\"]\n",
    "\n",
    "z = (10000 / rest_wave.min()) - 1\n",
    "\n",
    "redshift_wave = rest_wave * (z + 1)\n",
    "\n",
    "# Compute pysynphot Spectrum\n",
    "spec = S.ArraySpectrum(wave=redshift_wave, flux=flux, waveunits=\"angstrom\", fluxunits=\"flam\")\n",
    "spec = spec.renorm(mag, \"abmag\", bp) # Redshift lambda and normalize flux with bandpass object\n",
    "\n",
    "roman_sim.compute_model_orders(id=num, mag=mag, compute_size=False, size=77, \n",
    "                                in_place=True, store=False, spectrum_1d=[spec.wave, spec.flux], is_cgs=True)"
   ]
  },
  {
   "cell_type": "code",
   "execution_count": 109,
   "metadata": {},
   "outputs": [
    {
     "data": {
      "text/plain": [
       "(700.0, 1900.0)"
      ]
     },
     "execution_count": 109,
     "metadata": {},
     "output_type": "execute_result"
    },
    {
     "data": {
      "image/png": "[encoded data removed]",
      "text/plain": [
       "<Figure size 640x480 with 1 Axes>"
      ]
     },
     "metadata": {},
     "output_type": "display_data"
    }
   ],
   "source": [
    "upright_img = np.rot90(roman_sim.model)[pad:-pad, pad:-pad]\n",
    "plt.imshow(upright_img, origin='lower', cmap=\"grey\", vmin=0.5, vmax=1.2)\n",
    "plt.xlim(1960, 2015)\n",
    "plt.ylim(700, 1900)"
   ]
  },
  {
   "cell_type": "code",
   "execution_count": 110,
   "metadata": {},
   "outputs": [],
   "source": [
    "# Primary HDU is opened and closed above. Comment out direct_fits.close() if you plan to save here.\n",
    "file = fits.open(direct_file)\n",
    "header = file[1].header\n",
    "PrimaryHDU = file[0]\n",
    "\n",
    "ImageHDU = fits.ImageHDU(data=upright_img, header=header, name='SCI')\n",
    "err_HDU = fits.ImageHDU(data=np.zeros_like(roman_sim.model[pad:-pad, pad:-pad]), header=header, name='ERR')\n",
    "DQ_HDU = fits.ImageHDU(data=np.zeros_like(roman_sim.model[pad:-pad, pad:-pad]), header=header, name='DQ')\n",
    "\n",
    "hdul = [PrimaryHDU, ImageHDU, err_HDU, DQ_HDU]\n",
    "\n",
    "fits.HDUList(hdul).writeto(\"single_object.fits\", overwrite=True)\n",
    "\n",
    "file.close()"
   ]
  }
 ],
 "metadata": {
  "kernelspec": {
   "display_name": "grizli-env",
   "language": "python",
   "name": "python3"
  },
  "language_info": {
   "codemirror_mode": {
    "name": "ipython",
    "version": 3
   },
   "file_extension": ".py",
   "mimetype": "text/x-python",
   "name": "python",
   "nbconvert_exporter": "python",
   "pygments_lexer": "ipython3",
   "version": "3.12.3"
  }
 },
 "nbformat": 4,
 "nbformat_minor": 2
}
