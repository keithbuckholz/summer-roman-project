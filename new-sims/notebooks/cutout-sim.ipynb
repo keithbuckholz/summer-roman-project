{
 "cells": [
  {
   "cell_type": "markdown",
   "metadata": {},
   "source": [
    "## Use phot-griz environment (updated photutils)"
   ]
  },
  {
   "cell_type": "code",
   "execution_count": 1,
   "metadata": {},
   "outputs": [],
   "source": [
    "# General imports\n",
    "import os\n",
    "import numpy as np\n",
    "import matplotlib.pyplot as plt\n",
    "\n",
    "# Segmentation\n",
    "from astropy.io import fits\n",
    "from photutils.segmentation import SourceFinder, make_2dgaussian_kernel, SourceCatalog\n",
    "from photutils.background import Background2D, MedianBackground\n",
    "from astropy.convolution import convolve\n",
    "\n",
    "# grizli\n",
    "from grizli.model import GrismFLT\n",
    "\n",
    "os.chdir(\"/Users/keith/astr/research_astr/summer-roman-project/new-sims/fits\")\n"
   ]
  },
  {
   "cell_type": "code",
   "execution_count": 2,
   "metadata": {},
   "outputs": [
    {
     "data": {
      "application/vnd.jupyter.widget-view+json": {
       "model_id": "0489cbafe2c14481820a604ff1245af5",
       "version_major": 2,
       "version_minor": 0
      },
      "text/plain": [
       "Deblending:   0%|          | 0/6281 [00:00<?, ?it/s]"
      ]
     },
     "metadata": {},
     "output_type": "display_data"
    }
   ],
   "source": [
    "# Process direct image and produce segmentation map\n",
    "\n",
    "# Open image\n",
    "direct_file = \"rotated_GRS_FOV0_roll0_dx0_dy0_SCA1_direct_final.fits\"\n",
    "seg_file = \"seg.fits\"\n",
    "direct_fits = fits.open(direct_file)\n",
    "data, header = (direct_fits[1].data, direct_fits[1].header)\n",
    "\n",
    "\n",
    "# Subtract background\n",
    "bkg_estimator = MedianBackground()\n",
    "bkg = Background2D(data, (511,511), filter_size=(3,3), bkg_estimator=bkg_estimator)\n",
    "data -= bkg.background\n",
    "\n",
    "# Convolve image\n",
    "kernel = make_2dgaussian_kernel(3.0, 5)\n",
    "convolved_data = convolve(data, kernel)\n",
    "\n",
    "# Instantiate the SourceFinder and set threshold\n",
    "finder = SourceFinder(npixels=7, nlevels=32, contrast=0.001)\n",
    "threshold = 2 * bkg.background_rms\n",
    "\n",
    "seg_map = finder(convolved_data, threshold)\n",
    "\n",
    "# Save seg_map as fits\n",
    "fits.writeto(seg_file, seg_map, header=header,overwrite=True)"
   ]
  },
  {
   "cell_type": "code",
   "execution_count": 3,
   "metadata": {},
   "outputs": [],
   "source": [
    "# Create Catalog\n",
    "cat = SourceCatalog(data, seg_map, convolved_data=convolved_data)\n",
    "cat.add_extra_property('id', cat.label, overwrite=True)\n",
    "cat.add_extra_property('mag', cat.segment_flux, overwrite=True)\n",
    "cat.add_extra_property('x_flt', cat.xcentroid, overwrite=True)\n",
    "cat.add_extra_property('y_flt', cat.ycentroid, overwrite=True)\n",
    "\n",
    "columns = ['id', 'x_flt', 'y_flt', 'mag', 'area', 'semimajor_sigma', 'semiminor_sigma',\n",
    "           'orientation', 'eccentricity', 'min_value', 'max_value']\n",
    "tbl = cat.to_table(columns)"
   ]
  },
  {
   "cell_type": "code",
   "execution_count": 4,
   "metadata": {},
   "outputs": [],
   "source": [
    "# Mask a box on the sky\n",
    "mask = (abs(tbl[\"x_flt\"] - 2370) < 100) & (abs(tbl[\"y_flt\"] - 3350) < 100)"
   ]
  },
  {
   "cell_type": "code",
   "execution_count": 5,
   "metadata": {},
   "outputs": [
    {
     "name": "stdout",
     "output_type": "stream",
     "text": [
      "\n",
      "\n",
      "Image cutout: x=slice(0, 4088, None), y=slice(0, 4088, None) [Out of range]\n",
      "rotated_GRS_FOV0_roll0_dx0_dy0_SCA1_direct_final.fits / Pad ref HDU with 576 pixels\n",
      "rotated_GRS_FOV0_roll0_dx0_dy0_SCA1_direct_final.fits / blot segmentation seg.fits[0]\n",
      "The following task in the stsci.skypac package can be run with TEAL:\n",
      "                                    skymatch                                    \n",
      "The following tasks in the drizzlepac package can be run with TEAL:\n",
      "    astrodrizzle       config_testbed      imagefindpars           mapreg       \n",
      "       photeq            pixreplace           pixtopix            pixtosky      \n",
      "  refimagefindpars       resetbits          runastrodriz          skytopix      \n",
      "     tweakback            tweakreg           updatenpol\n",
      "Using default C-based coordinate transformation...\n",
      "Using default C-based coordinate transformation...\n"
     ]
    }
   ],
   "source": [
    "# Instantiate the GrismFLT object\n",
    "sim_fov0 = GrismFLT(direct_file=direct_file, seg_file=seg_file)"
   ]
  },
  {
   "cell_type": "code",
   "execution_count": 6,
   "metadata": {},
   "outputs": [
    {
     "name": "stdout",
     "output_type": "stream",
     "text": [
      "dyc: [16 16 16 ... 10 10 10] \n",
      "self.x0[0]: 25 \n",
      "self.dxpix: [  25   26   27 ... 1622 1623 1624] \n",
      "\n",
      "dyc: [15 15 15 ...  9  9  9] \n",
      "self.x0[0]: 25 \n",
      "self.dxpix: [  25   26   27 ... 1622 1623 1624] \n",
      "\n",
      "dyc: [15 15 15 ...  9  9  9] \n",
      "self.x0[0]: 25 \n",
      "self.dxpix: [  25   26   27 ... 1622 1623 1624] \n",
      "\n",
      "dyc: [15 15 15 ...  9  9  9] \n",
      "self.x0[0]: 25 \n",
      "self.dxpix: [  25   26   27 ... 1622 1623 1624] \n",
      "\n",
      "dyc: [14 14 14 ...  8  8  8] \n",
      "self.x0[0]: 25 \n",
      "self.dxpix: [  25   26   27 ... 1622 1623 1624] \n",
      "\n",
      "dyc: [14 14 14 ...  8  8  8] \n",
      "self.x0[0]: 25 \n",
      "self.dxpix: [  25   26   27 ... 1622 1623 1624] \n",
      "\n",
      "dyc: [14 14 14 ...  9  9  9] \n",
      "self.x0[0]: 25 \n",
      "self.dxpix: [  25   26   27 ... 1622 1623 1624] \n",
      "\n",
      "dyc: [14 14 14 ...  8  8  8] \n",
      "self.x0[0]: 25 \n",
      "self.dxpix: [  25   26   27 ... 1622 1623 1624] \n",
      "\n",
      "dyc: [14 14 14 ...  8  8  8] \n",
      "self.x0[0]: 25 \n",
      "self.dxpix: [  25   26   27 ... 1622 1623 1624] \n",
      "\n",
      "dyc: [13 13 13 ...  8  8  8] \n",
      "self.x0[0]: 25 \n",
      "self.dxpix: [  25   26   27 ... 1622 1623 1624] \n",
      "\n",
      "dyc: [13 13 13 ...  8  8  8] \n",
      "self.x0[0]: 25 \n",
      "self.dxpix: [  25   26   27 ... 1622 1623 1624] \n",
      "\n",
      "dyc: [14 14 14 ...  8  8  8] \n",
      "self.x0[0]: 25 \n",
      "self.dxpix: [  25   26   27 ... 1622 1623 1624] \n",
      "\n",
      "dyc: [13 13 13 ...  8  8  8] \n",
      "self.x0[0]: 25 \n",
      "self.dxpix: [  25   26   27 ... 1622 1623 1624] \n",
      "\n",
      "dyc: [12 12 12 ...  7  7  7] \n",
      "self.x0[0]: 25 \n",
      "self.dxpix: [  25   26   27 ... 1622 1623 1624] \n",
      "\n"
     ]
    }
   ],
   "source": [
    "sim_fov0.compute_full_model(ids=tbl['id'][mask], mags=tbl['mag'][mask], mag_limit=28)\n",
    "# sim_fov0.compute_full_model()"
   ]
  },
  {
   "cell_type": "code",
   "execution_count": 7,
   "metadata": {},
   "outputs": [
    {
     "data": {
      "text/plain": [
       "Text(0.5, 1.0, 'Masked Simulation cutout')"
      ]
     },
     "execution_count": 7,
     "metadata": {},
     "output_type": "execute_result"
    },
    {
     "data": {
      "image/png": "[encoded data removed]",
      "text/plain": [
       "<Figure size 640x480 with 1 Axes>"
      ]
     },
     "metadata": {},
     "output_type": "display_data"
    }
   ],
   "source": [
    "fig, ax = plt.subplots()\n",
    "ax.imshow(sim_fov0.model/1.9e18, interpolation='Nearest', \n",
    "           origin='lower', vmin=-0.01, vmax=1, cmap='hot')\n",
    "ax.set_xlim(2000,3400)\n",
    "ax.set_ylim(3300,3550)\n",
    "ax.set_title(\"Masked Simulation cutout\")"
   ]
  },
  {
   "cell_type": "code",
   "execution_count": 8,
   "metadata": {},
   "outputs": [
    {
     "data": {
      "text/plain": [
       "1.9251001e+18"
      ]
     },
     "execution_count": 8,
     "metadata": {},
     "output_type": "execute_result"
    }
   ],
   "source": [
    "np.max(sim_fov0.model)"
   ]
  }
 ],
 "metadata": {
  "kernelspec": {
   "display_name": "seg-prac",
   "language": "python",
   "name": "python3"
  },
  "language_info": {
   "codemirror_mode": {
    "name": "ipython",
    "version": 3
   },
   "file_extension": ".py",
   "mimetype": "text/x-python",
   "name": "python",
   "nbconvert_exporter": "python",
   "pygments_lexer": "ipython3",
   "version": "3.12.3"
  }
 },
 "nbformat": 4,
 "nbformat_minor": 2
}
