{
 "cells": [
  {
   "cell_type": "code",
   "execution_count": 1,
   "metadata": {},
   "outputs": [
    {
     "name": "stdout",
     "output_type": "stream",
     "text": [
      "HOME_PATH =  /Users/keith/astr/research_astr/summer-roman-project/FOV0_extraction/copying_pipeline\n",
      "root:  FOV0\n"
     ]
    }
   ],
   "source": [
    "import os\n",
    "\n",
    "HOME_PATH = os.getcwd()\n",
    "root = 'FOV0'\n",
    "print('HOME_PATH = ', HOME_PATH)\n",
    "print('root: ', root)"
   ]
  },
  {
   "cell_type": "code",
   "execution_count": 2,
   "metadata": {},
   "outputs": [
    {
     "name": "stdout",
     "output_type": "stream",
     "text": [
      "3.12.3 | packaged by conda-forge | (main, Apr 15 2024, 18:35:20) [Clang 16.0.6 ]\n",
      "\n",
      "              grizli : 1.11.10\n",
      "          grizli_aws : *failed*\n",
      "                eazy : 0.6.8\n",
      "      reprocess_wfc3 : 0.2.3\n",
      "            tristars : 0.1\n",
      "           mastquery : 1.8.2\n",
      "            wfc3dash : 0.1\n",
      "            prospect : 1.3.0\n",
      "                 sep : 1.2.1\n",
      "               numpy : 1.26.4\n",
      "               scipy : 1.13.0\n",
      "             astropy : 6.0.1\n",
      "          astroquery : 0.4.7\n",
      "             shapely : 2.0.4\n",
      "           photutils : 1.12.0\n",
      "\n",
      "\n",
      "The following task in the stsci.skypac package can be run with TEAL:\n",
      "                                    skymatch                                    \n",
      "The following tasks in the drizzlepac package can be run with TEAL:\n",
      "    astrodrizzle       config_testbed      imagefindpars           mapreg       \n",
      "       photeq            pixreplace           pixtopix            pixtosky      \n",
      "  refimagefindpars       resetbits          runastrodriz          skytopix      \n",
      "     tweakback            tweakreg           updatenpol\n",
      "          drizzlepac : 3.6.2\n",
      "           wfc3tools : 1.5.0\n",
      "         stsci.tools : 4.1.0\n"
     ]
    }
   ],
   "source": [
    "import importlib\n",
    "import sys\n",
    "import grizli\n",
    "\n",
    "print(sys.version + \"\\n\")\n",
    "\n",
    "for module in ['grizli','grizli_aws', 'eazy', 'reprocess_wfc3', 'tristars', 'mastquery', \n",
    "               'wfc3dash', 'prospect', 'sep', 'numpy', 'scipy', 'astropy', 'astroquery', \n",
    "               'shapely', 'photutils', 'drizzlepac', 'wfc3tools', 'stsci.tools']:\n",
    "\n",
    "    try:\n",
    "        mod = importlib.import_module(module)\n",
    "        print('{0:>20} : {1}'.format(module, mod.__version__))\n",
    "    except ModuleNotFoundError:\n",
    "        print('{0:>20} : {1}'.format(module, '*failed*'))"
   ]
  },
  {
   "cell_type": "code",
   "execution_count": 3,
   "metadata": {},
   "outputs": [],
   "source": [
    "%matplotlib inline"
   ]
  },
  {
   "cell_type": "code",
   "execution_count": 4,
   "metadata": {},
   "outputs": [],
   "source": [
    "import glob\n",
    "import time\n",
    "import os\n",
    "import sys\n",
    "import yaml\n",
    "\n",
    "import numpy as np\n",
    "import matplotlib.pyplot as plt\n",
    "from IPython.display import Image\n",
    "\n",
    "from astropy.io import fits\n",
    "import drizzlepac\n",
    "\n",
    "import grizli\n",
    "from grizli.pipeline import auto_script\n",
    "from grizli import utils, fitting, multifit, prep\n",
    "utils.set_warnings()\n",
    "\n"
   ]
  },
  {
   "cell_type": "code",
   "execution_count": 5,
   "metadata": {},
   "outputs": [
    {
     "name": "stdout",
     "output_type": "stream",
     "text": [
      "Copied default parameter file to my_params.yml\n"
     ]
    }
   ],
   "source": [
    "default_kwargs = auto_script.get_yml_parameters(local_file='my_params.yml', \n",
    "                                                copy_defaults=True)\n",
    "                        \n",
    "kwargs = auto_script.get_yml_parameters(local_file='my_params.yml', \n",
    "                                        copy_defaults=False)"
   ]
  },
  {
   "cell_type": "code",
   "execution_count": 6,
   "metadata": {},
   "outputs": [
    {
     "name": "stdout",
     "output_type": "stream",
     "text": [
      "/Users/keith/astr/research_astr/summer-roman-project/FOV0_extraction/copying_pipeline \n",
      " FOV0\n"
     ]
    }
   ],
   "source": [
    "print(os.getcwd(), '\\n', root)"
   ]
  },
  {
   "cell_type": "code",
   "execution_count": 7,
   "metadata": {},
   "outputs": [
    {
     "name": "stdout",
     "output_type": "stream",
     "text": [
      "# (2024-07-01 14:13:24.875)\n",
      "\n",
      "auto_script.parse_visits(**{'files': [], 'field_root': 'FOV0', 'RAW_PATH': '../RAW', 'use_visit': True, 'combine_same_pa': True, 'combine_minexp': 2, 'is_dash': False, 'filters': 'D1_', 'max_dt': 0.5, 'visit_split_shift': 1.5, 'file_query': '*'})\n",
      "\n",
      " date-obs \n",
      "----------\n",
      "2021-09-15\n",
      "2021-09-15\n",
      "2021-09-15\n",
      "2021-09-15\n",
      "indef-RS_-FO-000.0-D1_ 2\n",
      "indef-ode-l_-000.0-D1_ 2\n",
      "# (2024-07-01 14:13:24.902)\n",
      "parse_visits(combine_same_pa=True), max_dt=0.5: BEFORE   2 visits\n",
      "# (2024-07-01 14:13:24.904)\n",
      "parse_visits(combine_same_pa=True), max_dt=0.5:  AFTER   2 visits\n",
      "** Combine same PA: **\n",
      "0 irs_-000.0-d1_ 2\n",
      "1 iode-000.0-d1_ 2\n",
      "\n",
      " == Grism groups ==\n",
      "\n"
     ]
    }
   ],
   "source": [
    "os.chdir(os.path.join(HOME_PATH, root, 'Prep'))\n",
    "kwargs['parse_visits_args']['combine_same_pa'] = True\n",
    "\n",
    "visits, all_groups, info = auto_script.parse_visits(field_root=root,\n",
    "                                                    filters=\"D1_\",\n",
    "                                                    **kwargs[\"parse_visits_args\"])"
   ]
  },
  {
   "cell_type": "code",
   "execution_count": 8,
   "metadata": {},
   "outputs": [],
   "source": [
    "# Parameter lists\n",
    "visit_prep_args = kwargs['visit_prep_args']\n",
    "preprocess_args = kwargs['preprocess_args']\n",
    "\n",
    "# Maximum shift for \"tweakshifts\" relative alignment\n",
    "tweak_max_dist = 1\n",
    "if 'tweak_max_dist' not in visit_prep_args:\n",
    "    visit_prep_args['tweak_max_dist'] = tweak_max_dist\n",
    "\n",
    "# Fit and subtract a SExtractor-like background to each visit\n",
    "visit_prep_args['imaging_bkg_params']  = {'bh': 256, 'bw': 256, 'fh': 3, 'fw': 3, \n",
    "                                          'pixel_scale': 0.1, 'get_median': False}\n",
    "\n",
    "# Alignment reference catalogs, searched in this order\n",
    "visit_prep_args['reference_catalogs'] = ['LS_DR9', 'PS1','GAIA','SDSS','WISE']\n",
    "\n",
    "# LS_DR9 is DR9 of the NOAO legacysurveys\n",
    "# https://datalab.noirlab.edu/ls/ls.php"
   ]
  },
  {
   "cell_type": "code",
   "execution_count": 9,
   "metadata": {},
   "outputs": [
    {
     "name": "stdout",
     "output_type": "stream",
     "text": [
      "# (2024-07-01 14:13:24.926)\n",
      "\n",
      "auto_script.preprocess(**{'field_root': 'FOV0', 'HOME_PATH': '/Users/keith/astr/research_astr/summer-roman-project/FOV0_extraction/copying_pipeline', 'PERSIST_PATH': None, 'min_overlap': 0.2, 'make_combined': False, 'catalogs': ['PS1', 'DES', 'NSC', 'SDSS', 'GAIA', 'WISE'], 'use_visit': True, 'master_radec': None, 'parent_radec': None, 'use_first_radec': False, 'skip_imaging': False, 'clean': True, 'skip_single_optical_visits': False, 'visit_prep_args': {'align_thresh': None, 'align_rms_limit': 2, 'align_mag_limits': [14, 24, 0.05], 'align_assume_close': False, 'align_transform': None, 'align_ref_border': 100, 'align_guess': None, 'max_err_percentile': 99, 'align_min_flux_radius': 1.0, 'align_min_nexp': 2, 'align_final_niter': 8, 'catalog_mask_pad': 0.05, 'match_catalog_density': False, 'skymethod': 'localmin', 'drizzle_params': {}, 'single_image_CRs': True, 'run_tweak_align': True, 'tweak_threshold': 3.0, 'tweak_fit_order': -1, 'tweak_max_dist': 100, 'tweak_n_min': 10, 'tweak_ref_exp': 0, 'tweak_mosaic_iters': 2, 'align_simple': False, 'align_clip': 120, 'do_pure_parallel_wcs': True, 'column_average': True, 'sky_iter': 10, 'iter_atol': 0.0001, 'imaging_bkg_params': {'bh': 256, 'bw': 256, 'fh': 3, 'fw': 3, 'pixel_scale': 0.1, 'get_median': False}, 'run_separate_chip_sky': True, 'fix_stars': False, 'reference_catalogs': ['LS_DR9', 'PS1', 'GAIA', 'SDSS', 'WISE'], 'outlier_threshold': 4, 'skip_nircam_grism_sky': True, 'nircam_wisp_kwargs': {'niter': 3, 'update': True}, 'oneoverf_kwargs': {'thresholds': [5, 4, 3], 'dilate_iterations': 3, 'deg_pix': 64, 'other_axis': False}, 'snowball_kwargs': {'snowball_erode': 4, 'snowball_dilate': 18, 'mask_bit': 1024, 'instruments': ['NIRCAM', 'NIRISS'], 'max_fraction': 0.3, 'snowblind_kwargs': {'new_jump_flag': 1024, 'min_radius': 4, 'growth_factor': 1.5, 'unset_first': True}}, 'angle_background_kwargs': {'threshold': 1.8, 'detection_background': True, 'angles': [30.0, -30.0, 0, 90], 'suffix': 'angles', 'niter': 3, 'instruments': []}, 'miri_skyflat': False, 'miri_skyfile': None, 'use_skyflats': True}, 'persistence_args': {'dq_value': 1024, 'err_threshold': 0.5, 'grow_mask': 3, 'verbose': True, 'reset': False}})\n",
      "\n",
      "['d1_', 'd1_']\n",
      "irs_-000.0-d1_\n",
      "\n",
      "\n",
      "\n",
      "irs_-000.0-d1_ radec: None (0.00)\n",
      "\n",
      "\n",
      "\n",
      "# (2024-07-01 14:13:24.931)\n",
      "\n",
      "prep.process_direct_grism_visit(**{'direct': {'files': ['GRS_FOV0_roll0_dx0_dy0_SCA1_direct_final_flt.fits', 'GRS_FOV0_roll5_dx0_dy0_SCA1_direct_final_flt.fits'], 'footprint': <POLYGON ((53.241 -27.844, 53.241 -27.844, 53.241 -27.844, 53.241 -27.844, 5...>, 'footprints': [[<POLYGON ((53.241 -27.843, 53.219 -27.824, 53.246 -27.803, 53.269 -27.822, 5...>], [<POLYGON ((53.241 -27.843, 53.219 -27.824, 53.246 -27.803, 53.269 -27.822, 5...>]], 'product': 'irs_-000.0-d1_'}, 'grism': {}, 'radec': None, 'outlier_threshold': 4, 'align_clip': 120, 'align_thresh': None, 'align_mag_limits': [14, 24, 0.05], 'align_rms_limit': 2, 'align_triangle_ba_max': 0.9, 'align_ref_border': 100, 'align_min_flux_radius': 1.0, 'align_min_nexp': 2, 'align_assume_close': False, 'align_transform': None, 'align_guess': None, 'align_final_niter': 8, 'max_err_percentile': 99, 'catalog_mask_pad': 0.05, 'match_catalog_density': False, 'column_average': True, 'sky_iter': 10, 'run_tweak_align': True, 'tweak_fit_order': -1, 'skip_direct': False, 'fix_stars': False, 'tweak_max_dist': 100, 'tweak_n_min': 10, 'tweak_threshold': 3.0, 'tweak_ref_exp': 0, 'tweak_mosaic_iters': 2, 'align_simple': False, 'single_image_CRs': True, 'skymethod': 'localmin', 'drizzle_params': {}, 'iter_atol': 0.0001, 'static_mask': False, 'imaging_bkg_params': {'bh': 256, 'bw': 256, 'fh': 3, 'fw': 3, 'pixel_scale': 0.1, 'get_median': False}, 'run_separate_chip_sky': True, 'separate_chip_kwargs': {}, 'reference_catalogs': ['LS_DR9', 'PS1', 'GAIA', 'SDSS', 'WISE'], 'use_self_catalog': False, 'nircam_wisp_kwargs': {'niter': 3, 'update': True}, 'skip_nircam_grism_sky': True, 'oneoverf_kwargs': {'thresholds': [5, 4, 3], 'dilate_iterations': 3, 'deg_pix': 64, 'other_axis': False}, 'snowball_kwargs': {'snowball_erode': 4, 'snowball_dilate': 18, 'mask_bit': 1024, 'instruments': ['NIRCAM', 'NIRISS'], 'max_fraction': 0.3, 'snowblind_kwargs': {'new_jump_flag': 1024, 'min_radius': 4, 'growth_factor': 1.5, 'unset_first': True}}, 'angle_background_kwargs': {'threshold': 1.8, 'detection_background': True, 'angles': [30.0, -30.0, 0, 90], 'suffix': 'angles', 'niter': 3, 'instruments': []}, 'miri_skyflat': False, 'miri_skyfile': None, 'use_skyflats': True, 'do_pure_parallel_wcs': True})\n",
      "\n",
      "Set ROOT_PATH=/Users/keith/astr/research_astr/summer-roman-project/FOV0_extraction/copying_pipeline/FOV0/Prep\n",
      "# ../RAW/GRS_FOV0_roll0_dx0_dy0_SCA1_direct_final_flt.fits -> GRS_FOV0_roll0_dx0_dy0_SCA1_direct_final_flt.fits \n",
      "# prep.apply_region_mask_from_db: query failed\n",
      "Warning:  Files without keyword PA_V3 detected\n",
      "Warning:  Removing the following files from input list\n",
      "\t GRS_FOV0_roll0_dx0_dy0_SCA1_direct_final_flt.fits\n",
      "\n",
      "########################################## \n",
      "# ! Exception (2024-07-01 14:13:25.421)\n",
      "#\n",
      "# !Traceback (most recent call last):\n",
      "# !  File \"/Users/keith/miniconda3/envs/grizli_env/lib/python3.12/site-packages/grizli/pipeline/auto_script.py\", line 2407, in preprocess\n",
      "# !    status = prep.process_direct_grism_visit(direct=direct,\n",
      "# !             ^^^^^^^^^^^^^^^^^^^^^^^^^^^^^^^^^^^^^^^^^^^^^^\n",
      "# !  File \"/Users/keith/miniconda3/envs/grizli_env/lib/python3.12/site-packages/grizli/prep.py\", line 4379, in process_direct_grism_visit\n",
      "# !    updatewcs.updatewcs(file, verbose=False, use_db=False)\n",
      "# !KeyError: 'ROMAN'\n",
      "# !\n",
      "######################################### \n",
      "\n",
      "\n",
      "# (2024-07-01 14:13:25.422)\n",
      "\n",
      "prep.process_direct_grism_visit(**{'direct': {'files': ['GRS_FOV0_roll0_dx0_dy0_SCA1_direct_final_flt.fits', 'GRS_FOV0_roll5_dx0_dy0_SCA1_direct_final_flt.fits'], 'footprint': <POLYGON ((53.241 -27.844, 53.241 -27.844, 53.241 -27.844, 53.241 -27.844, 5...>, 'footprints': [[<POLYGON ((53.241 -27.843, 53.219 -27.824, 53.246 -27.803, 53.269 -27.822, 5...>], [<POLYGON ((53.241 -27.843, 53.219 -27.824, 53.246 -27.803, 53.269 -27.822, 5...>]], 'product': 'irs_-000.0-d1_'}, 'grism': {}, 'radec': None, 'outlier_threshold': 4, 'align_clip': 120, 'align_thresh': None, 'align_mag_limits': [14, 24, 0.05], 'align_rms_limit': 2, 'align_triangle_ba_max': 0.9, 'align_ref_border': 100, 'align_min_flux_radius': 1.0, 'align_min_nexp': 2, 'align_assume_close': False, 'align_transform': None, 'align_guess': None, 'align_final_niter': 8, 'max_err_percentile': 99, 'catalog_mask_pad': 0.05, 'match_catalog_density': False, 'column_average': True, 'sky_iter': 10, 'run_tweak_align': False, 'tweak_fit_order': -1, 'skip_direct': False, 'fix_stars': False, 'tweak_max_dist': 100, 'tweak_n_min': 10, 'tweak_threshold': 3.0, 'tweak_ref_exp': 0, 'tweak_mosaic_iters': 2, 'align_simple': False, 'single_image_CRs': True, 'skymethod': 'localmin', 'drizzle_params': {}, 'iter_atol': 0.0001, 'static_mask': False, 'imaging_bkg_params': {'bh': 256, 'bw': 256, 'fh': 3, 'fw': 3, 'pixel_scale': 0.1, 'get_median': False}, 'run_separate_chip_sky': True, 'separate_chip_kwargs': {}, 'reference_catalogs': ['LS_DR9', 'PS1', 'GAIA', 'SDSS', 'WISE'], 'use_self_catalog': False, 'nircam_wisp_kwargs': {'niter': 3, 'update': True}, 'skip_nircam_grism_sky': True, 'oneoverf_kwargs': {'thresholds': [5, 4, 3], 'dilate_iterations': 3, 'deg_pix': 64, 'other_axis': False}, 'snowball_kwargs': {'snowball_erode': 4, 'snowball_dilate': 18, 'mask_bit': 1024, 'instruments': ['NIRCAM', 'NIRISS'], 'max_fraction': 0.3, 'snowblind_kwargs': {'new_jump_flag': 1024, 'min_radius': 4, 'growth_factor': 1.5, 'unset_first': True}}, 'angle_background_kwargs': {'threshold': 1.8, 'detection_background': True, 'angles': [30.0, -30.0, 0, 90], 'suffix': 'angles', 'niter': 3, 'instruments': []}, 'miri_skyflat': False, 'miri_skyfile': None, 'use_skyflats': True, 'do_pure_parallel_wcs': True})\n",
      "\n",
      "# ../RAW/GRS_FOV0_roll0_dx0_dy0_SCA1_direct_final_flt.fits -> GRS_FOV0_roll0_dx0_dy0_SCA1_direct_final_flt.fits \n",
      "# prep.apply_region_mask_from_db: query failed\n",
      "Warning:  Files without keyword PA_V3 detected\n",
      "Warning:  Removing the following files from input list\n",
      "\t GRS_FOV0_roll0_dx0_dy0_SCA1_direct_final_flt.fits\n",
      "iode-000.0-d1_\n",
      "\n",
      "\n",
      "\n",
      "iode-000.0-d1_ radec: None (0.00)\n",
      "\n",
      "\n",
      "\n",
      "# (2024-07-01 14:13:25.634)\n",
      "\n",
      "prep.process_direct_grism_visit(**{'direct': {'files': ['model_slitless_GRS_FOV0_roll0_dx0_dy0_SCA1_direct_final_flt.fits', 'model_slitless_GRS_FOV0_roll5_dx0_dy0_SCA1_direct_final_flt.fits'], 'footprint': <POLYGON ((53.241 -27.844, 53.241 -27.844, 53.241 -27.844, 53.241 -27.844, 5...>, 'footprints': [[<POLYGON ((53.241 -27.843, 53.219 -27.824, 53.246 -27.803, 53.269 -27.822, 5...>], [<POLYGON ((53.241 -27.843, 53.219 -27.824, 53.246 -27.803, 53.269 -27.822, 5...>]], 'product': 'iode-000.0-d1_'}, 'grism': {}, 'radec': None, 'outlier_threshold': 4, 'align_clip': 120, 'align_thresh': None, 'align_mag_limits': [14, 24, 0.05], 'align_rms_limit': 2, 'align_triangle_ba_max': 0.9, 'align_ref_border': 100, 'align_min_flux_radius': 1.0, 'align_min_nexp': 2, 'align_assume_close': False, 'align_transform': None, 'align_guess': None, 'align_final_niter': 8, 'max_err_percentile': 99, 'catalog_mask_pad': 0.05, 'match_catalog_density': False, 'column_average': True, 'sky_iter': 10, 'run_tweak_align': False, 'tweak_fit_order': -1, 'skip_direct': False, 'fix_stars': False, 'tweak_max_dist': 100, 'tweak_n_min': 10, 'tweak_threshold': 3.0, 'tweak_ref_exp': 0, 'tweak_mosaic_iters': 2, 'align_simple': False, 'single_image_CRs': True, 'skymethod': 'localmin', 'drizzle_params': {}, 'iter_atol': 0.0001, 'static_mask': False, 'imaging_bkg_params': {'bh': 256, 'bw': 256, 'fh': 3, 'fw': 3, 'pixel_scale': 0.1, 'get_median': False}, 'run_separate_chip_sky': True, 'separate_chip_kwargs': {}, 'reference_catalogs': ['LS_DR9', 'PS1', 'GAIA', 'SDSS', 'WISE'], 'use_self_catalog': False, 'nircam_wisp_kwargs': {'niter': 3, 'update': True}, 'skip_nircam_grism_sky': True, 'oneoverf_kwargs': {'thresholds': [5, 4, 3], 'dilate_iterations': 3, 'deg_pix': 64, 'other_axis': False}, 'snowball_kwargs': {'snowball_erode': 4, 'snowball_dilate': 18, 'mask_bit': 1024, 'instruments': ['NIRCAM', 'NIRISS'], 'max_fraction': 0.3, 'snowblind_kwargs': {'new_jump_flag': 1024, 'min_radius': 4, 'growth_factor': 1.5, 'unset_first': True}}, 'angle_background_kwargs': {'threshold': 1.8, 'detection_background': True, 'angles': [30.0, -30.0, 0, 90], 'suffix': 'angles', 'niter': 3, 'instruments': []}, 'miri_skyflat': False, 'miri_skyfile': None, 'use_skyflats': True, 'do_pure_parallel_wcs': True})\n",
      "\n",
      "# ../RAW/model_slitless_GRS_FOV0_roll0_dx0_dy0_SCA1_direct_final_flt.fits -> model_slitless_GRS_FOV0_roll0_dx0_dy0_SCA1_direct_final_flt.fits \n",
      "# prep.apply_region_mask_from_db: query failed\n",
      "Warning:  Files without keyword PA_V3 detected\n",
      "Warning:  Removing the following files from input list\n",
      "\t model_slitless_GRS_FOV0_roll0_dx0_dy0_SCA1_direct_final_flt.fits\n",
      "\n",
      "########################################## \n",
      "# ! Exception (2024-07-01 14:13:25.814)\n",
      "#\n",
      "# !Traceback (most recent call last):\n",
      "# !  File \"/Users/keith/miniconda3/envs/grizli_env/lib/python3.12/site-packages/grizli/pipeline/auto_script.py\", line 2407, in preprocess\n",
      "# !    status = prep.process_direct_grism_visit(direct=direct,\n",
      "# !             ^^^^^^^^^^^^^^^^^^^^^^^^^^^^^^^^^^^^^^^^^^^^^^\n",
      "# !  File \"/Users/keith/miniconda3/envs/grizli_env/lib/python3.12/site-packages/grizli/prep.py\", line 4379, in process_direct_grism_visit\n",
      "# !    updatewcs.updatewcs(file, verbose=False, use_db=False)\n",
      "# !KeyError: 'ROMAN'\n",
      "# !\n",
      "######################################### \n",
      "\n",
      "\n",
      "# (2024-07-01 14:13:25.815)\n",
      "\n",
      "prep.process_direct_grism_visit(**{'direct': {'files': ['model_slitless_GRS_FOV0_roll0_dx0_dy0_SCA1_direct_final_flt.fits', 'model_slitless_GRS_FOV0_roll5_dx0_dy0_SCA1_direct_final_flt.fits'], 'footprint': <POLYGON ((53.241 -27.844, 53.241 -27.844, 53.241 -27.844, 53.241 -27.844, 5...>, 'footprints': [[<POLYGON ((53.241 -27.843, 53.219 -27.824, 53.246 -27.803, 53.269 -27.822, 5...>], [<POLYGON ((53.241 -27.843, 53.219 -27.824, 53.246 -27.803, 53.269 -27.822, 5...>]], 'product': 'iode-000.0-d1_'}, 'grism': {}, 'radec': None, 'outlier_threshold': 4, 'align_clip': 120, 'align_thresh': None, 'align_mag_limits': [14, 24, 0.05], 'align_rms_limit': 2, 'align_triangle_ba_max': 0.9, 'align_ref_border': 100, 'align_min_flux_radius': 1.0, 'align_min_nexp': 2, 'align_assume_close': False, 'align_transform': None, 'align_guess': None, 'align_final_niter': 8, 'max_err_percentile': 99, 'catalog_mask_pad': 0.05, 'match_catalog_density': False, 'column_average': True, 'sky_iter': 10, 'run_tweak_align': False, 'tweak_fit_order': -1, 'skip_direct': False, 'fix_stars': False, 'tweak_max_dist': 100, 'tweak_n_min': 10, 'tweak_threshold': 3.0, 'tweak_ref_exp': 0, 'tweak_mosaic_iters': 2, 'align_simple': False, 'single_image_CRs': True, 'skymethod': 'localmin', 'drizzle_params': {}, 'iter_atol': 0.0001, 'static_mask': False, 'imaging_bkg_params': {'bh': 256, 'bw': 256, 'fh': 3, 'fw': 3, 'pixel_scale': 0.1, 'get_median': False}, 'run_separate_chip_sky': True, 'separate_chip_kwargs': {}, 'reference_catalogs': ['LS_DR9', 'PS1', 'GAIA', 'SDSS', 'WISE'], 'use_self_catalog': False, 'nircam_wisp_kwargs': {'niter': 3, 'update': True}, 'skip_nircam_grism_sky': True, 'oneoverf_kwargs': {'thresholds': [5, 4, 3], 'dilate_iterations': 3, 'deg_pix': 64, 'other_axis': False}, 'snowball_kwargs': {'snowball_erode': 4, 'snowball_dilate': 18, 'mask_bit': 1024, 'instruments': ['NIRCAM', 'NIRISS'], 'max_fraction': 0.3, 'snowblind_kwargs': {'new_jump_flag': 1024, 'min_radius': 4, 'growth_factor': 1.5, 'unset_first': True}}, 'angle_background_kwargs': {'threshold': 1.8, 'detection_background': True, 'angles': [30.0, -30.0, 0, 90], 'suffix': 'angles', 'niter': 3, 'instruments': []}, 'miri_skyflat': False, 'miri_skyfile': None, 'use_skyflats': True, 'do_pure_parallel_wcs': True})\n",
      "\n",
      "# ../RAW/model_slitless_GRS_FOV0_roll0_dx0_dy0_SCA1_direct_final_flt.fits -> model_slitless_GRS_FOV0_roll0_dx0_dy0_SCA1_direct_final_flt.fits \n",
      "# prep.apply_region_mask_from_db: query failed\n",
      "Warning:  Files without keyword PA_V3 detected\n",
      "Warning:  Removing the following files from input list\n",
      "\t model_slitless_GRS_FOV0_roll0_dx0_dy0_SCA1_direct_final_flt.fits\n"
     ]
    }
   ],
   "source": [
    "#####################\n",
    "### Alignment & mosaics    \n",
    "os.chdir(os.path.join(HOME_PATH, root, 'Prep'))\n",
    "\n",
    "# This script will do all the preprocessing of the grism *and* imaging visits \n",
    "# found in your archive query.\n",
    "auto_script.preprocess(field_root=root, HOME_PATH=HOME_PATH,\n",
    "                       visit_prep_args=visit_prep_args, **preprocess_args)    "
   ]
  },
  {
   "cell_type": "code",
   "execution_count": 10,
   "metadata": {},
   "outputs": [
    {
     "name": "stdout",
     "output_type": "stream",
     "text": [
      "zsh:1: no matches found: *sci.fits\n"
     ]
    }
   ],
   "source": [
    "!ls *sci.fits # individual drizzled visits"
   ]
  }
 ],
 "metadata": {
  "kernelspec": {
   "display_name": "grizli_env",
   "language": "python",
   "name": "python3"
  },
  "language_info": {
   "codemirror_mode": {
    "name": "ipython",
    "version": 3
   },
   "file_extension": ".py",
   "mimetype": "text/x-python",
   "name": "python",
   "nbconvert_exporter": "python",
   "pygments_lexer": "ipython3",
   "version": "3.12.3"
  }
 },
 "nbformat": 4,
 "nbformat_minor": 2
}
