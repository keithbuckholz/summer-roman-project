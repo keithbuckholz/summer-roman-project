{
 "cells": [
  {
   "cell_type": "markdown",
   "metadata": {},
   "source": [
    "## Use phot-griz environment (updated photutils)"
   ]
  },
  {
   "cell_type": "code",
   "execution_count": 1,
   "metadata": {},
   "outputs": [],
   "source": [
    "# General imports\n",
    "import os\n",
    "import numpy as np\n",
    "import matplotlib.pyplot as plt\n",
    "\n",
    "# Segmentation\n",
    "from astropy.io import fits\n",
    "from photutils.segmentation import SourceFinder, make_2dgaussian_kernel, SourceCatalog\n",
    "from photutils.background import Background2D, MedianBackground\n",
    "from astropy.convolution import convolve\n",
    "from astropy.wcs import WCS as wcs\n",
    "\n",
    "# grizli\n",
    "from grizli.model import GrismFLT\n",
    "import grizli\n",
    "\n",
    "os.chdir(\"/Users/keith/astr/research_astr/summer-roman-project/FOV0_sims/fits\")\n",
    "file_root = \"GRS_FOV0_roll0_dx0_dy0_SCA1_direct_final.fits\" # Change filename with this variable\n",
    "direct_file = \"ready_direct_{0}\".format(file_root)\n",
    "seg_file = \"seg.fits\""
   ]
  },
  {
   "cell_type": "code",
   "execution_count": 2,
   "metadata": {},
   "outputs": [
    {
     "data": {
      "application/vnd.jupyter.widget-view+json": {
       "model_id": "3e5db97481a84c5c952b3e11aa2574f2",
       "version_major": 2,
       "version_minor": 0
      },
      "text/plain": [
       "Deblending:   0%|          | 0/6281 [00:00<?, ?it/s]"
      ]
     },
     "metadata": {},
     "output_type": "display_data"
    }
   ],
   "source": [
    "# Process direct image and produce segmentation map\n",
    "\n",
    "# Open image\n",
    "direct_fits = fits.open(direct_file)\n",
    "PrimaryHDU = direct_fits[0]\n",
    "data, header = (direct_fits[1].data, direct_fits[1].header)\n",
    "\n",
    "\n",
    "# Subtract background\n",
    "bkg_estimator = MedianBackground()\n",
    "bkg = Background2D(data, (511,511), filter_size=(3,3), bkg_estimator=bkg_estimator)\n",
    "data -= bkg.background\n",
    "\n",
    "# Convolve image\n",
    "kernel = make_2dgaussian_kernel(3.0, 5)\n",
    "convolved_data = convolve(data, kernel)\n",
    "\n",
    "# Instantiate the SourceFinder and set threshold\n",
    "finder = SourceFinder(npixels=7, nlevels=32, contrast=0.001)\n",
    "threshold = 2 * bkg.background_rms\n",
    "\n",
    "seg_map = finder(convolved_data, threshold)\n",
    "\n",
    "# Save seg_map as fits\n",
    "fits.writeto(seg_file, seg_map, header=header,overwrite=True)"
   ]
  },
  {
   "cell_type": "code",
   "execution_count": 3,
   "metadata": {},
   "outputs": [],
   "source": [
    "# Create Catalog\n",
    "cat = SourceCatalog(data, seg_map, convolved_data=convolved_data)\n",
    "cat.add_extra_property('id', np.cast[int](cat.label), overwrite=True)\n",
    "cat.add_extra_property('x_flt', cat.xcentroid, overwrite=True)\n",
    "cat.add_extra_property('y_flt', cat.ycentroid, overwrite=True)\n",
    "mag = -2.5 * np.log10(cat.segment_flux)\n",
    "cat.add_extra_property('mag', mag, overwrite=True)\n",
    "ra, dec = wcs(header).all_pix2world(cat.x_flt, cat.y_flt, 1)\n",
    "cat.add_extra_property('ra', ra, overwrite=True)\n",
    "cat.add_extra_property('dec', dec, overwrite=True)\n",
    "\n",
    "\n",
    "columns = ['id', 'ra', 'dec', 'x_flt', 'y_flt', 'mag', 'area', 'semimajor_sigma', 'semiminor_sigma',\n",
    "           'orientation', 'eccentricity', 'min_value', 'max_value']\n",
    "tbl = cat.to_table(columns)\n",
    "\n",
    "# # Uncomment to save catalog\n",
    "seg_cat = \"seg_cat.detect.cat\"\n",
    "\n",
    "if os.path.exists(seg_cat):\n",
    "            os.remove(seg_cat)\n",
    "tbl.write(seg_cat, format='ascii.commented_header')"
   ]
  },
  {
   "cell_type": "code",
   "execution_count": 4,
   "metadata": {},
   "outputs": [
    {
     "name": "stdout",
     "output_type": "stream",
     "text": [
      "\n",
      "\n",
      "Image cutout: x=slice(0, 4088, None), y=slice(0, 4088, None) [Out of range]\n",
      "ready_direct_GRS_FOV0_roll0_dx0_dy0_SCA1_direct_final.fits / Pad ref HDU with 264 pixels\n",
      "ready_direct_GRS_FOV0_roll0_dx0_dy0_SCA1_direct_final.fits / blot segmentation seg.fits[0]\n",
      "The following task in the stsci.skypac package can be run with TEAL:\n",
      "                                    skymatch                                    \n",
      "The following tasks in the drizzlepac package can be run with TEAL:\n",
      "    astrodrizzle       config_testbed      imagefindpars           mapreg       \n",
      "       photeq            pixreplace           pixtopix            pixtosky      \n",
      "  refimagefindpars       resetbits          runastrodriz          skytopix      \n",
      "     tweakback            tweakreg           updatenpol\n",
      "Using default C-based coordinate transformation...\n",
      "Using default C-based coordinate transformation...\n"
     ]
    }
   ],
   "source": [
    "# Instantiate the GrismFLT object\n",
    "pad = 100\n",
    "roman_sim = GrismFLT(direct_file=direct_file, seg_file=seg_file, pad=pad)"
   ]
  },
  {
   "cell_type": "code",
   "execution_count": 5,
   "metadata": {},
   "outputs": [],
   "source": [
    "# Read in SED\n",
    "from astropy.io import fits\n",
    "SED_data = fits.open(\"/Users/keith/astr/research_astr/FOV0/SEDs/SED:rest:gal.107381.fits\")[1].data"
   ]
  },
  {
   "cell_type": "code",
   "execution_count": 6,
   "metadata": {},
   "outputs": [],
   "source": [
    "# Extract wavelength and flux\n",
    "wavelength = np.asarray([(tuple[0]*3) for tuple in SED_data])\n",
    "flux = np.asarray([tuple[1] for tuple in SED_data])"
   ]
  },
  {
   "cell_type": "code",
   "execution_count": 7,
   "metadata": {},
   "outputs": [],
   "source": [
    "# Compute Flat vs 1D Spectra\n",
    "model_orders = roman_sim.compute_model_orders(id=24, compute_size=False, size=77, in_place=False, spectrum_1d=[wavelength, flux])\n",
    "flat_orders = roman_sim.compute_model_orders(id=24, compute_size=False, size=77, in_place=False)"
   ]
  },
  {
   "cell_type": "code",
   "execution_count": 8,
   "metadata": {},
   "outputs": [
    {
     "data": {
      "image/png": "[encoded data removed]",
      "text/plain": [
       "<Figure size 640x480 with 2 Axes>"
      ]
     },
     "metadata": {},
     "output_type": "display_data"
    }
   ],
   "source": [
    "# Display comparison image\n",
    "fig, (ax1, ax2) = plt.subplots(1, 2)\n",
    "\n",
    "ax1.imshow(flat_orders[1], origin=\"lower\", cmap='hot')\n",
    "ax1.set_xlim(600, 1750)\n",
    "ax1.set_ylim(0, 400)\n",
    "ax1.set_title(\"Flat Spectrum\")\n",
    "\n",
    "ax2.imshow(model_orders[1], origin=\"lower\", cmap='hot')\n",
    "ax2.set_xlim(600, 1750)\n",
    "ax2.set_ylim(0, 400)\n",
    "ax2.set_title(\"SED from IRSA/IPAC files\")\n",
    "ax2.set_yticklabels([])\n",
    "\n",
    "fig.tight_layout()"
   ]
  },
  {
   "cell_type": "code",
   "execution_count": 9,
   "metadata": {},
   "outputs": [
    {
     "ename": "Exception",
     "evalue": "Pause before saving",
     "output_type": "error",
     "traceback": [
      "\u001b[0;31m---------------------------------------------------------------------------\u001b[0m",
      "\u001b[0;31mException\u001b[0m                                 Traceback (most recent call last)",
      "Cell \u001b[0;32mIn[9], line 1\u001b[0m\n\u001b[0;32m----> 1\u001b[0m \u001b[38;5;28;01mraise\u001b[39;00m \u001b[38;5;167;01mException\u001b[39;00m(\u001b[38;5;124m\"\u001b[39m\u001b[38;5;124mPause before saving\u001b[39m\u001b[38;5;124m\"\u001b[39m)\n",
      "\u001b[0;31mException\u001b[0m: Pause before saving"
     ]
    }
   ],
   "source": [
    "raise Exception(\"Pause before saving\")"
   ]
  },
  {
   "cell_type": "code",
   "execution_count": null,
   "metadata": {},
   "outputs": [],
   "source": [
    "ImageHDU = fits.ImageHDU(data=roman_sim.model[pad:-pad, pad:-pad], header=header, name='SCI')\n",
    "err_HDU = fits.ImageHDU(data=np.zeros_like(roman_sim.model[pad:-pad, pad:-pad]), header=header, name='ERR')\n",
    "DQ_HDU = fits.ImageHDU(data=np.zeros_like(roman_sim.model[pad:-pad, pad:-pad]), header=header, name='DQ')\n",
    "\n",
    "\n",
    "hdul = [PrimaryHDU, ImageHDU, err_HDU, DQ_HDU]\n",
    "\n",
    "fits.HDUList(hdul).writeto(\"model_slitless_{0}\".format(file_root), overwrite=True)"
   ]
  }
 ],
 "metadata": {
  "kernelspec": {
   "display_name": "seg-prac",
   "language": "python",
   "name": "python3"
  },
  "language_info": {
   "codemirror_mode": {
    "name": "ipython",
    "version": 3
   },
   "file_extension": ".py",
   "mimetype": "text/x-python",
   "name": "python",
   "nbconvert_exporter": "python",
   "pygments_lexer": "ipython3",
   "version": "3.12.3"
  }
 },
 "nbformat": 4,
 "nbformat_minor": 2
}
