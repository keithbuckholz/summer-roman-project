{
 "cells": [
  {
   "cell_type": "markdown",
   "metadata": {},
   "source": [
    "## Changing SED headers for pysynphot\n",
    "\n",
    "pysynphot.FileSpectrum needs a few key-value pairs in the header to read SED fits files:\n",
    "TUNIT1 - Wavelength units\n",
    "TUNIT2 - Flux units\n",
    "TTYPE1 - \"WAVELENGTH\"\n",
    "TTYPE2 - \"FLUX\""
   ]
  },
  {
   "cell_type": "code",
   "execution_count": 1,
   "metadata": {},
   "outputs": [],
   "source": [
    "from astropy.io import fits\n",
    "import os\n",
    "from roman_fits_utils import modify_hdr\n",
    "\n",
    "os.chdir(\"/Users/keith/astr/research_astr/FOV0/SEDs\")"
   ]
  },
  {
   "cell_type": "code",
   "execution_count": 4,
   "metadata": {},
   "outputs": [],
   "source": [
    "hdr_dict = {\n",
    "    \"TUNIT1\": \"1;angstrom\",\n",
    "    \"TUNIT2\": \"1;flam\",\n",
    "    \"TTYPE1\": \"1;WAVELENGTH\",\n",
    "    \"TTYPE2\": \"1;FLUX\"\n",
    "}\n",
    "\n",
    "new_filename = lambda filename: \"pysynphot_ready_{0}\".format(filename)"
   ]
  },
  {
   "cell_type": "code",
   "execution_count": 5,
   "metadata": {},
   "outputs": [],
   "source": [
    "for file in os.listdir(\"/Users/keith/astr/research_astr/FOV0/SEDs\"):\n",
    "    new_file = new_filename(file)\n",
    "\n",
    "    spec = fits.open(file)\n",
    "    modify_hdr(file, new_file, hdr_dict)\n",
    "    spec.close()"
   ]
  },
  {
   "cell_type": "markdown",
   "metadata": {},
   "source": [
    "## Rewrite data to match endianness\n",
    "\n",
    "It seems the fits were written using Big-endian. My machine is little-endian. Reformatting, then rewriting the data should fix this?"
   ]
  },
  {
   "cell_type": "code",
   "execution_count": 4,
   "metadata": {},
   "outputs": [],
   "source": [
    "from glob import glob\n",
    "from astropy.table import Table\n",
    "import pandas as pd"
   ]
  },
  {
   "cell_type": "code",
   "execution_count": 5,
   "metadata": {},
   "outputs": [
    {
     "name": "stderr",
     "output_type": "stream",
     "text": [
      "/Users/keith/miniconda3/envs/grizli_env/lib/python3.12/site-packages/astropy/units/core.py:2126: UnitsWarning: 'flam' did not parse as fits unit: At col 0, Unit 'flam' not supported by the FITS standard. Did you mean flm? If this is meant to be a custom unit, define it with 'u.def_unit'. To have it recognized inside a file reader or other code, enable it with 'u.add_enabled_units'. For details, see https://docs.astropy.org/en/latest/units/combining_and_defining.html\n",
      "  warnings.warn(msg, UnitsWarning)\n"
     ]
    },
    {
     "ename": "TypeError",
     "evalue": "Table data has incorrect type.",
     "output_type": "error",
     "traceback": [
      "\u001b[0;31m---------------------------------------------------------------------------\u001b[0m",
      "\u001b[0;31mTypeError\u001b[0m                                 Traceback (most recent call last)",
      "Cell \u001b[0;32mIn[5], line 5\u001b[0m\n\u001b[1;32m      3\u001b[0m data \u001b[38;5;241m=\u001b[39m temp_table\u001b[38;5;241m.\u001b[39mto_pandas()\n\u001b[1;32m      4\u001b[0m spec \u001b[38;5;241m=\u001b[39m fits\u001b[38;5;241m.\u001b[39mopen(file)\n\u001b[0;32m----> 5\u001b[0m \u001b[43mspec\u001b[49m\u001b[43m[\u001b[49m\u001b[38;5;241;43m1\u001b[39;49m\u001b[43m]\u001b[49m\u001b[38;5;241;43m.\u001b[39;49m\u001b[43mdata\u001b[49m \u001b[38;5;241m=\u001b[39m data\n\u001b[1;32m      6\u001b[0m spec\u001b[38;5;241m.\u001b[39mclose()\n",
      "File \u001b[0;32m~/miniconda3/envs/grizli_env/lib/python3.12/site-packages/astropy/utils/decorators.py:848\u001b[0m, in \u001b[0;36mlazyproperty.__set__\u001b[0;34m(self, obj, val)\u001b[0m\n\u001b[1;32m    846\u001b[0m obj_dict \u001b[38;5;241m=\u001b[39m obj\u001b[38;5;241m.\u001b[39m\u001b[38;5;18m__dict__\u001b[39m\n\u001b[1;32m    847\u001b[0m \u001b[38;5;28;01mif\u001b[39;00m \u001b[38;5;28mself\u001b[39m\u001b[38;5;241m.\u001b[39mfset:\n\u001b[0;32m--> 848\u001b[0m     ret \u001b[38;5;241m=\u001b[39m \u001b[38;5;28;43mself\u001b[39;49m\u001b[38;5;241;43m.\u001b[39;49m\u001b[43mfset\u001b[49m\u001b[43m(\u001b[49m\u001b[43mobj\u001b[49m\u001b[43m,\u001b[49m\u001b[43m \u001b[49m\u001b[43mval\u001b[49m\u001b[43m)\u001b[49m\n\u001b[1;32m    849\u001b[0m     \u001b[38;5;28;01mif\u001b[39;00m ret \u001b[38;5;129;01mis\u001b[39;00m \u001b[38;5;129;01mnot\u001b[39;00m \u001b[38;5;28;01mNone\u001b[39;00m \u001b[38;5;129;01mand\u001b[39;00m obj_dict\u001b[38;5;241m.\u001b[39mget(\u001b[38;5;28mself\u001b[39m\u001b[38;5;241m.\u001b[39m_key) \u001b[38;5;129;01mis\u001b[39;00m ret:\n\u001b[1;32m    850\u001b[0m         \u001b[38;5;66;03m# By returning the value set the setter signals that it\u001b[39;00m\n\u001b[1;32m    851\u001b[0m         \u001b[38;5;66;03m# took over setting the value in obj.__dict__; this\u001b[39;00m\n\u001b[1;32m    852\u001b[0m         \u001b[38;5;66;03m# mechanism allows it to override the input value\u001b[39;00m\n\u001b[1;32m    853\u001b[0m         \u001b[38;5;28;01mreturn\u001b[39;00m\n",
      "File \u001b[0;32m~/miniconda3/envs/grizli_env/lib/python3.12/site-packages/astropy/io/fits/hdu/table.py:467\u001b[0m, in \u001b[0;36m_TableBaseHDU.data\u001b[0;34m(self, data)\u001b[0m\n\u001b[1;32m    465\u001b[0m     \u001b[38;5;28;01mpass\u001b[39;00m\n\u001b[1;32m    466\u001b[0m \u001b[38;5;28;01melse\u001b[39;00m:\n\u001b[0;32m--> 467\u001b[0m     \u001b[38;5;28;01mraise\u001b[39;00m \u001b[38;5;167;01mTypeError\u001b[39;00m(\u001b[38;5;124m\"\u001b[39m\u001b[38;5;124mTable data has incorrect type.\u001b[39m\u001b[38;5;124m\"\u001b[39m)\n\u001b[1;32m    469\u001b[0m \u001b[38;5;66;03m# returning the data signals to lazyproperty that we've already handled\u001b[39;00m\n\u001b[1;32m    470\u001b[0m \u001b[38;5;66;03m# setting self.__dict__['data']\u001b[39;00m\n\u001b[1;32m    471\u001b[0m \u001b[38;5;28;01mreturn\u001b[39;00m data\n",
      "\u001b[0;31mTypeError\u001b[0m: Table data has incorrect type."
     ]
    }
   ],
   "source": [
    "for file in glob(\"pysynphot_ready*\"):\n",
    "    temp_table = Table.read(file, format='fits')\n",
    "    data = temp_table.to_pandas()\n",
    "    spec = fits.open(file)\n",
    "    spec[1].data = data\n",
    "    spec.close()"
   ]
  }
 ],
 "metadata": {
  "kernelspec": {
   "display_name": "grizli_env",
   "language": "python",
   "name": "python3"
  },
  "language_info": {
   "codemirror_mode": {
    "name": "ipython",
    "version": 3
   },
   "file_extension": ".py",
   "mimetype": "text/x-python",
   "name": "python",
   "nbconvert_exporter": "python",
   "pygments_lexer": "ipython3",
   "version": "3.12.3"
  }
 },
 "nbformat": 4,
 "nbformat_minor": 2
}
