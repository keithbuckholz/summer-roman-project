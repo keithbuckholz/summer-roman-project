{
 "cells": [
  {
   "cell_type": "markdown",
   "metadata": {},
   "source": [
    "# Tutorial Notebooks\n",
    "This is the first in a series of how-to notebooks that walk through producing simulated slitless spectroscopy images using Grizli. This notebook goes through installing Grizli."
   ]
  },
  {
   "cell_type": "markdown",
   "metadata": {},
   "source": [
    "## Outline\n",
    "1) Create an environment for Grizli\n",
    "2) pip install grizli\n",
    "3) Install Grizli dependencies (optional) \n",
    "4) Create Grizli directories\n",
    "5) Export Grizli environment variables\n",
    "6) Run Grizli's fetch commands in Python"
   ]
  },
  {
   "cell_type": "markdown",
   "metadata": {},
   "source": [
    "#### 1) Create an Environment for Grizli\n",
    "Grizli was designed to work in AstroConda. AstroConda has been replaced by the Space Telescope Environment (stenv). We'll want to install Grizli in stenv. Follow the link and select the right .yaml file for your system: https://github.com/spacetelescope/stenv/releases.\n",
    "\n",
    "Once you've downloaded the right file, create a conda environment with the command `conda env create -n [ENV NAME] --file [YAML FILEPATH]`."
   ]
  },
  {
   "cell_type": "markdown",
   "metadata": {},
   "source": [
    "#### 2) pip install grizli\n",
    "Activate your newly created environment and `pip install grizli`."
   ]
  },
  {
   "cell_type": "markdown",
   "metadata": {},
   "source": [
    "#### 3) Install Grizli Dependencies (optional)\n",
    "Grizli has five different sets of dependencies: jwst, hst, aws, test, and docs. To avoid conflicts, they reccomend install only what dependecies are needed. We do not require any of these for Roman sims. We can safely skip this step.\n",
    "\n",
    "If you did want to install dependecies, do like so: `pip install \"grizli[hst]\"`\n",
    "\n",
    "If you install the hst dependcies, you will also need to run `conda install hstcal`"
   ]
  },
  {
   "cell_type": "markdown",
   "metadata": {},
   "source": [
    "#### 4) Create Grizli directories\n",
    "In your home directory, create a directory: \\\n",
    "`mkdir GRIZLI` \n",
    "\n",
    "Inside this new directory, create four more directories: \\\n",
    "`mkdir CONF templates iref jref`"
   ]
  },
  {
   "cell_type": "markdown",
   "metadata": {},
   "source": [
    "#### 5) Export Grizli environment variables\n",
    "Grizli needs three environment variables so it knows where to find the directories we created in the last step. You can do this by putting  these three lines in your bashrc or zshrc: \\\n",
    "`export GRIZLI=\"${HOME}/grizli\"` \\\n",
    "`export iref=\"${GRIZLI}/iref/\"` \\\n",
    "`export jref=\"${GRIZLI}/jref/\"`"
   ]
  },
  {
   "cell_type": "markdown",
   "metadata": {},
   "source": [
    "#### 6) Run Grizli's fetch commands in Python\n",
    "Grizli needs various config files and templates to run. With the directories we created above and the evironment variables we exported, Grizli know how to retrieve those files and where to put them. So we run the commands contained in the next cell: "
   ]
  },
  {
   "cell_type": "code",
   "execution_count": null,
   "metadata": {},
   "outputs": [],
   "source": [
    "grizli.utils.fetch_default_calibs(get_acs=False)\n",
    "grizli.utils.fetch_config_files(get_acs=False, get_jwst=False)\n",
    "grizli.utils.symlink_templates(force=True)"
   ]
  }
 ],
 "metadata": {
  "language_info": {
   "name": "python"
  }
 },
 "nbformat": 4,
 "nbformat_minor": 2
}
