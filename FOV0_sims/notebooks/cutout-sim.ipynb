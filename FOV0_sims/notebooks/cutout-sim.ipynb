{
 "cells": [
  {
   "cell_type": "markdown",
   "metadata": {},
   "source": [
    "## Use phot-griz environment (updated photutils)"
   ]
  },
  {
   "cell_type": "code",
   "execution_count": 1,
   "metadata": {},
   "outputs": [],
   "source": [
    "# General imports\n",
    "import os\n",
    "import numpy as np\n",
    "import matplotlib.pyplot as plt\n",
    "\n",
    "# Segmentation\n",
    "from astropy.io import fits\n",
    "from photutils.segmentation import SourceFinder, make_2dgaussian_kernel, SourceCatalog\n",
    "from photutils.background import Background2D, MedianBackground\n",
    "from astropy.convolution import convolve\n",
    "\n",
    "# grizli\n",
    "from grizli.model import GrismFLT\n",
    "import grizli\n",
    "\n",
    "os.chdir(\"/Users/keith/astr/research_astr/summer-roman-project/FOV0_sims/fits\")\n"
   ]
  },
  {
   "cell_type": "code",
   "execution_count": 2,
   "metadata": {},
   "outputs": [
    {
     "data": {
      "application/vnd.jupyter.widget-view+json": {
       "model_id": "118dc8dd14ba46dd94325a69fca51d5c",
       "version_major": 2,
       "version_minor": 0
      },
      "text/plain": [
       "Deblending:   0%|          | 0/6281 [00:00<?, ?it/s]"
      ]
     },
     "metadata": {},
     "output_type": "display_data"
    }
   ],
   "source": [
    "# Process direct image and produce segmentation map\n",
    "\n",
    "# Open image\n",
    "direct_file = \"rotated_GRS_FOV0_roll0_dx0_dy0_SCA1_direct_final.fits\"\n",
    "seg_file = \"seg.fits\"\n",
    "direct_fits = fits.open(direct_file)\n",
    "data, header = (direct_fits[1].data, direct_fits[1].header)\n",
    "\n",
    "\n",
    "# Subtract background\n",
    "bkg_estimator = MedianBackground()\n",
    "bkg = Background2D(data, (511,511), filter_size=(3,3), bkg_estimator=bkg_estimator)\n",
    "data -= bkg.background\n",
    "\n",
    "# Convolve image\n",
    "kernel = make_2dgaussian_kernel(3.0, 5)\n",
    "convolved_data = convolve(data, kernel)\n",
    "\n",
    "# Instantiate the SourceFinder and set threshold\n",
    "finder = SourceFinder(npixels=7, nlevels=32, contrast=0.001)\n",
    "threshold = 2 * bkg.background_rms\n",
    "\n",
    "seg_map = finder(convolved_data, threshold)\n",
    "\n",
    "# Save seg_map as fits\n",
    "fits.writeto(seg_file, seg_map, header=header,overwrite=True)"
   ]
  },
  {
   "cell_type": "code",
   "execution_count": 3,
   "metadata": {},
   "outputs": [],
   "source": [
    "# Create Catalog\n",
    "cat = SourceCatalog(data, seg_map, convolved_data=convolved_data)\n",
    "cat.add_extra_property('id', cat.label, overwrite=True)\n",
    "cat.add_extra_property('x_flt', cat.xcentroid, overwrite=True)\n",
    "cat.add_extra_property('y_flt', cat.ycentroid, overwrite=True)\n",
    "mag = -2.5 * np.log10(cat.segment_flux)\n",
    "cat.add_extra_property('mag', mag, overwrite=True)\n",
    "\n",
    "columns = ['id', 'x_flt', 'y_flt', 'mag', 'area', 'semimajor_sigma', 'semiminor_sigma',\n",
    "           'orientation', 'eccentricity', 'min_value', 'max_value']\n",
    "tbl = cat.to_table(columns)"
   ]
  },
  {
   "cell_type": "code",
   "execution_count": 4,
   "metadata": {},
   "outputs": [
    {
     "name": "stdout",
     "output_type": "stream",
     "text": [
      "17\n"
     ]
    },
    {
     "data": {
      "text/plain": [
       "-2.5230022221505544"
      ]
     },
     "execution_count": 4,
     "metadata": {},
     "output_type": "execute_result"
    }
   ],
   "source": [
    "# Mask a box on the sky\n",
    "mask = (abs(tbl[\"x_flt\"] - 1000) < 100) & (abs(tbl[\"y_flt\"] - 1050) < 100)\n",
    "print(np.sum(mask))\n",
    "# print(np.min(tbl['mag'][mask]), np.max(tbl['mag'][mask]))\n",
    "tbl[id==2]['mag']"
   ]
  },
  {
   "cell_type": "code",
   "execution_count": 5,
   "metadata": {},
   "outputs": [
    {
     "name": "stdout",
     "output_type": "stream",
     "text": [
      "\n",
      "\n",
      "Image cutout: x=slice(0, 4088, None), y=slice(0, 4088, None)\n",
      "rotated_GRS_FOV0_roll0_dx0_dy0_SCA1_direct_final.fits / Pad ref HDU with 64 pixels\n",
      "rotated_GRS_FOV0_roll0_dx0_dy0_SCA1_direct_final.fits / blot segmentation seg.fits[0]\n",
      "The following task in the stsci.skypac package can be run with TEAL:\n",
      "                                    skymatch                                    \n",
      "The following tasks in the drizzlepac package can be run with TEAL:\n",
      "    astrodrizzle       config_testbed      imagefindpars           mapreg       \n",
      "       photeq            pixreplace           pixtopix            pixtosky      \n",
      "  refimagefindpars       resetbits          runastrodriz          skytopix      \n",
      "     tweakback            tweakreg           updatenpol\n",
      "Using default C-based coordinate transformation...\n",
      "Using default C-based coordinate transformation...\n"
     ]
    }
   ],
   "source": [
    "# Instantiate the GrismFLT object\n",
    "sim_fov0 = GrismFLT(direct_file=direct_file, seg_file=seg_file, pad=(0,0), force_grism=\"None\")"
   ]
  },
  {
   "cell_type": "code",
   "execution_count": 6,
   "metadata": {},
   "outputs": [],
   "source": [
    "dis_test = grizli.model.GrismDisperser(id=2).cutout_from_full_image(data)"
   ]
  },
  {
   "cell_type": "code",
   "execution_count": 12,
   "metadata": {},
   "outputs": [
    {
     "data": {
      "text/plain": [
       "<matplotlib.image.AxesImage at 0x36cb7b410>"
      ]
     },
     "execution_count": 12,
     "metadata": {},
     "output_type": "execute_result"
    },
    {
     "data": {
      "image/png": "[encoded data removed]",
      "text/plain": [
       "<Figure size 640x480 with 1 Axes>"
      ]
     },
     "metadata": {},
     "output_type": "display_data"
    }
   ],
   "source": [
    "plt.imshow(dis_test, origin='lower')"
   ]
  },
  {
   "cell_type": "code",
   "execution_count": 7,
   "metadata": {},
   "outputs": [],
   "source": [
    "# Set the size sufficiently large that the calculated thumbnail for each object has enough from for the dispersion.\n",
    "sim_fov0.compute_full_model(ids=[2], mags=[tbl[id==2]['mag']], min_size=0, compute_size=False)"
   ]
  },
  {
   "cell_type": "code",
   "execution_count": 8,
   "metadata": {},
   "outputs": [
    {
     "data": {
      "text/plain": [
       "0.0"
      ]
     },
     "execution_count": 8,
     "metadata": {},
     "output_type": "execute_result"
    }
   ],
   "source": [
    "np.max(sim_fov0.model)"
   ]
  },
  {
   "cell_type": "code",
   "execution_count": 9,
   "metadata": {},
   "outputs": [
    {
     "data": {
      "text/plain": [
       "Text(0.5, 1.0, 'Masked Simulation cutout')"
      ]
     },
     "execution_count": 9,
     "metadata": {},
     "output_type": "execute_result"
    },
    {
     "data": {
      "image/png": "[encoded data removed]",
      "text/plain": [
       "<Figure size 640x480 with 1 Axes>"
      ]
     },
     "metadata": {},
     "output_type": "display_data"
    }
   ],
   "source": [
    "fig, ax = plt.subplots()\n",
    "ax.imshow(sim_fov0.model, interpolation='Nearest', \n",
    "           origin='lower', vmin=-0.01, vmax=1, cmap='hot')\n",
    "# ax.set_xlim(500,1500)\n",
    "# ax.set_ylim(500,1500)\n",
    "ax.set_title(\"Masked Simulation cutout\")"
   ]
  }
 ],
 "metadata": {
  "kernelspec": {
   "display_name": "seg-prac",
   "language": "python",
   "name": "python3"
  },
  "language_info": {
   "codemirror_mode": {
    "name": "ipython",
    "version": 3
   },
   "file_extension": ".py",
   "mimetype": "text/x-python",
   "name": "python",
   "nbconvert_exporter": "python",
   "pygments_lexer": "ipython3",
   "version": "3.12.3"
  }
 },
 "nbformat": 4,
 "nbformat_minor": 2
}
