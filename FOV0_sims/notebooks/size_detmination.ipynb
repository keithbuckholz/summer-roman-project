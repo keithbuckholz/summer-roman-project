{
 "cells": [
  {
   "cell_type": "markdown",
   "metadata": {},
   "source": [
    "# Cutout Size Determination by detector\n",
    "\n",
    "Cutout size varies with max dy, which varies by detector. This notebook can read a conf file and determine the max dy. Specifically, the scipy.optimize function minimize returns the minimum -dy (negative dy) and it's location (the negative of the minimum -dy is the maximum). The absolute value of this is the minimum size cutout.\n",
    "\n",
    "1) Put the conf file in.\n",
    "2) Run the notebook.\n",
    "3) Note the value returned at 'x:'; this is the location of the maximum.\n",
    "4) Note the value returned at 'func:'; this times -1 is the maximum value.\n",
    "5) Test somewhere that setting size equal to this func value works, or one greater. This test is in case scipy got stuck in a local max/min.\n",
    "6) Track the detector value."
   ]
  },
  {
   "cell_type": "markdown",
   "metadata": {},
   "source": [
    "det1: 77  - tested \\\n",
    "det2: 80 \\\n",
    "det3: 88 \\\n",
    "det4: 180 \\\n",
    "det5: 195 \\\n",
    "det6: 209 \\\n",
    "det7: 279 \\\n",
    "det8: 302 \\\n",
    "det9: 328 \\\n",
    "det10: 1 - use compute_size (object based sizing)? \\\n",
    "det11: 2 \\\n",
    "det12: 6 \\\n",
    "det13: 30 \\\n",
    "det14: 18 \\\n",
    "det15: 2 \\\n",
    "det16: 78 \\\n",
    "det17: 49 \\\n",
    "det18: 22"
   ]
  },
  {
   "cell_type": "code",
   "execution_count": 1,
   "metadata": {},
   "outputs": [],
   "source": [
    "import matplotlib.pyplot as plt\n",
    "import numpy as np\n",
    "from scipy.optimize import minimize, Bounds\n",
    "\n",
    "import os\n",
    "os.chdir(\"/Users/keith/astr/research_astr/roman_configs\")"
   ]
  },
  {
   "cell_type": "code",
   "execution_count": 2,
   "metadata": {},
   "outputs": [],
   "source": [
    "from collections import OrderedDict\n",
    "config_file = \"Roman.det1.07242020.conf\"\n",
    "\n",
    "conf = OrderedDict()\n",
    "lines = open(config_file).readlines()\n",
    "\n",
    "for line in lines:\n",
    "    if (line.startswith('#')) | (line.strip() == '') | ('\"' in line):\n",
    "                continue\n",
    "\n",
    "    if line.startswith(\"DYDX_A_\"):\n",
    "        spl = line.split(';')[0].split('#')[0].split()\n",
    "        param = spl[0]\n",
    "        value = np.cast[float](spl[1:])\n",
    "        conf[param] = value\n",
    "\n",
    "b = {}\n",
    "for n, dydx in enumerate(conf.keys()):\n",
    "    for m, coef in enumerate(conf[dydx]):\n",
    "        b[f\"{n},{m}\"] = coef"
   ]
  },
  {
   "cell_type": "code",
   "execution_count": 3,
   "metadata": {},
   "outputs": [],
   "source": [
    "a_0 = lambda i, j: b[\"0,0\"] + b[\"0,1\"]*i + b[\"0,2\"]*j + b[\"0,3\"]*i**2 + b[\"0,4\"]*i*j + b[\"0,5\"]*j**2\n",
    "a_1 = lambda i, j: b[\"1,0\"] + b[\"1,1\"]*i + b[\"1,2\"]*j + b[\"1,3\"]*i**2 + b[\"1,4\"]*i*j + b[\"1,5\"]*j**2\n",
    "a_2 = lambda i, j: b[\"2,0\"] + b[\"2,1\"]*i + b[\"2,2\"]*j + b[\"2,3\"]*i**2 + b[\"2,4\"]*i*j + b[\"2,5\"]*j**2\n",
    "\n",
    "\n",
    "dy = lambda args: -(a_0(args[0],args[1]) + a_1(args[0],args[1])*args[2] + a_2(args[0],args[1])*args[2]**2)"
   ]
  },
  {
   "cell_type": "code",
   "execution_count": 4,
   "metadata": {},
   "outputs": [
    {
     "data": {
      "text/plain": [
       "  message: CONVERGENCE: NORM_OF_PROJECTED_GRADIENT_<=_PGTOL\n",
       "  success: True\n",
       "   status: 0\n",
       "      fun: -76.00948368\n",
       "        x: [ 0.000e+00  0.000e+00 -8.000e+02]\n",
       "      nit: 5\n",
       "      jac: [ 5.051e-03  1.451e-02  1.134e-02]\n",
       "     nfev: 36\n",
       "     njev: 9\n",
       " hess_inv: <3x3 LbfgsInvHessProduct with dtype=float64>"
      ]
     },
     "execution_count": 4,
     "metadata": {},
     "output_type": "execute_result"
    }
   ],
   "source": [
    "bounds = Bounds([0,0,-800],[4800,4800,800])\n",
    "minimize(dy, x0=[4800,4800,800], bounds=bounds)"
   ]
  }
 ],
 "metadata": {
  "kernelspec": {
   "display_name": "stenv",
   "language": "python",
   "name": "python3"
  },
  "language_info": {
   "codemirror_mode": {
    "name": "ipython",
    "version": 3
   },
   "file_extension": ".py",
   "mimetype": "text/x-python",
   "name": "python",
   "nbconvert_exporter": "python",
   "pygments_lexer": "ipython3",
   "version": "3.12.3"
  }
 },
 "nbformat": 4,
 "nbformat_minor": 2
}
