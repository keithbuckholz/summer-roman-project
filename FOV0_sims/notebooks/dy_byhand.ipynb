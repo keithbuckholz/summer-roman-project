{
 "cells": [
  {
   "cell_type": "markdown",
   "metadata": {},
   "source": [
    "### TODO: Check bounds on dx. is dx_max withn those bounds?"
   ]
  },
  {
   "cell_type": "code",
   "execution_count": 1,
   "metadata": {},
   "outputs": [],
   "source": [
    "import numpy as np\n",
    "import matplotlib.pyplot as plt"
   ]
  },
  {
   "cell_type": "raw",
   "metadata": {
    "vscode": {
     "languageId": "raw"
    }
   },
   "source": [
    "BEAMA -800 800\n",
    "\n",
    "DYDX_A_0 \t66.4449  -0.00579476   -0.0124014      0.00000 -1.86114e-08      0.00000 \n",
    "DYDX_A_1    -0.0125705 -8.97764e-07  2.83491e-06      0.00000  2.07533e-10      0.00000 \n",
    "DYDX_A_2  -7.68463e-07  3.99010e-11  2.54744e-10      0.00000 -2.19269e-14      0.00000"
   ]
  },
  {
   "cell_type": "code",
   "execution_count": 2,
   "metadata": {},
   "outputs": [],
   "source": [
    "a_0 = lambda ii, jj: 66.4449 + (-0.00579476 * ii) + (-0.0124014 * jj) + (-1.86114e-08 * ii * jj)\n",
    "a_1 = lambda ii, jj: -0.0125705 + (-8.97764e-07 * ii) + (2.83491e-06 * jj) + (2.07533e-10 * ii * jj)\n",
    "a_2 = lambda ii, jj: -7.68463e-07 + (3.99010e-11 * ii) + (2.54744e-10 * jj) + (-2.19269e-14 * ii * jj)\n",
    "\n",
    "dx_max = lambda ii, jj: -a_1(ii, jj) / (2 * a_2(ii, jj))\n",
    "\n",
    "\n",
    "# dy_int = lambda ii, jj: a_0(ii, jj) + a_1(ii, jj) * dx_max + a_2(ii, jj) * dx_max**2"
   ]
  },
  {
   "cell_type": "code",
   "execution_count": 3,
   "metadata": {},
   "outputs": [],
   "source": [
    "i_max = -0.0124014 / -1.86114e-08\n",
    "j_max = -0.00579476 / -1.86114e-08\n",
    "dy_max = a_0(i_max, j_max) + a_1(i_max, j_max) * dx_max(i_max, j_max) + a_2(i_max, j_max) * dx_max(i_max, j_max)**2"
   ]
  },
  {
   "cell_type": "code",
   "execution_count": 4,
   "metadata": {},
   "outputs": [
    {
     "name": "stdout",
     "output_type": "stream",
     "text": [
      "Global Maximums\n",
      " max i: 666333.5375092685 \n",
      " max j: 311355.4058265365 \n",
      " max dy: 94093.33812694301\n"
     ]
    }
   ],
   "source": [
    "print(\"Global Maximums\\n max i: %s \\n max j: %s \\n max dy: %s\" %(i_max, j_max, dy_max))"
   ]
  },
  {
   "cell_type": "code",
   "execution_count": 5,
   "metadata": {},
   "outputs": [],
   "source": [
    "def dy(ii, jj):\n",
    "    dx = dx_max(ii, jj)\n",
    "    if not -800 <= dx <= np.min(800, ii-800):\n",
    "        if dx < -800:\n",
    "            dx = np.max([-800, ii-800])\n",
    "        elif dx > 800:\n",
    "            dx = np.min([800, 800-ii])\n",
    "\n",
    "    return a_0(ii, jj) + a_1(ii, jj) * dx + a_2(ii, jj) * dx**2\n",
    "    "
   ]
  },
  {
   "cell_type": "code",
   "execution_count": 6,
   "metadata": {},
   "outputs": [],
   "source": [
    "i_test = 2417.150137928873   \n",
    "j_test = 8.64976198177808\n",
    "\n",
    "val = dy(i_test, j_test)"
   ]
  },
  {
   "cell_type": "code",
   "execution_count": 7,
   "metadata": {},
   "outputs": [
    {
     "name": "stdout",
     "output_type": "stream",
     "text": [
      "test i: 2417.150137928873 \n",
      "test j: 8.64976198177808 \n",
      "test dy: 26.786581219314083\n"
     ]
    }
   ],
   "source": [
    "print(\"test i: %s \\ntest j: %s \\ntest dy: %s\" %(i_test, j_test, val))"
   ]
  }
 ],
 "metadata": {
  "kernelspec": {
   "display_name": "stenv",
   "language": "python",
   "name": "python3"
  },
  "language_info": {
   "codemirror_mode": {
    "name": "ipython",
    "version": 3
   },
   "file_extension": ".py",
   "mimetype": "text/x-python",
   "name": "python",
   "nbconvert_exporter": "python",
   "pygments_lexer": "ipython3",
   "version": "3.12.3"
  }
 },
 "nbformat": 4,
 "nbformat_minor": 2
}
