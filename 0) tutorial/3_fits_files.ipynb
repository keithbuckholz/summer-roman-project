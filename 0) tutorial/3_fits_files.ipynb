{
 "cells": [
  {
   "cell_type": "markdown",
   "metadata": {},
   "source": [
    "# Tutorial Notebooks\n",
    "This is the third in a series of how-to notebooks that walk through producing simulated slitless spectroscopy images using Grizli. This notebook describes a few things you may need to modify in your direct image fits files before giving them to Grizli for simulation work."
   ]
  },
  {
   "cell_type": "markdown",
   "metadata": {},
   "source": [
    "## Outline\n",
    "1) Header\n",
    "2) Image Rotation\n",
    "3) Bonus: Disperion Trace and Cutout Size"
   ]
  },
  {
   "cell_type": "code",
   "execution_count": 1,
   "metadata": {},
   "outputs": [],
   "source": [
    "# Let's work in the tutorial/fits_files folder to make our files easy to access\n",
    "import os\n",
    "os.chdir('/Users/keith/astr/research_astr/summer-roman-project/tutorial/fits_files') # Hardcoded  \n",
    "# os.chdir(os.path.join(os.getcwd(), 'fits_files')) # Generalized"
   ]
  },
  {
   "cell_type": "markdown",
   "metadata": {},
   "source": [
    "#### 1) Header\n",
    "Grizli expects details in the header that may not be there in fake fits files. Specifically, it expects instrument and filter information. Addittionally, if you're using a grism config file that is not built-in to Grizli, you need to include that filepath in the header."
   ]
  },
  {
   "cell_type": "code",
   "execution_count": 2,
   "metadata": {},
   "outputs": [],
   "source": [
    "from astropy.io import fits\n",
    "\n",
    "# Set filenames\n",
    "original_file = \"GRS_FOV0_roll0_dx0_dy0_SCA1_direct_final.fits\"\n",
    "modified_header_filename = \"Modified_Header_GRS_FOV0_roll0_dx0_dy0_SCA1_direct_final.fits\"\n",
    "\n",
    "# Open fits\n",
    "direct_fits = fits.open(original_file)\n",
    "\n",
    "# Grizli looks for INSTRUME and FILTER in the Primary HDU\n",
    "direct_fits[0].header[\"INSTRUME\"] = \"ROMAN\"\n",
    "direct_fits[0].header[\"FILTER\"] = \"det1\" # There is no filter, but one is required. I've been putting the detector instead\n",
    "\n",
    "# Grizli looks for CONFFILE filepath in the Image HDU\n",
    "direct_fits[1].header[\"CONFFILE\"] = \"/Users/keith/astr/research_astr/FOV0/Roman.det1.07242020.conf\"\n",
    "\n",
    "# Write new fits file with modified headers\n",
    "direct_fits.writeto(modified_header_filename, overwrite=True)"
   ]
  },
  {
   "cell_type": "markdown",
   "metadata": {},
   "source": [
    "#### 2) Image Rotation\n",
    "The Roman Space Telescope Grism disperses in the y direction. aXeSim disperses in the x direction. To correct for this, we rotate 270 degrees clockwise before dispersion and 90 degrees clockwise afte dispersion."
   ]
  },
  {
   "cell_type": "code",
   "execution_count": 3,
   "metadata": {},
   "outputs": [],
   "source": [
    "import numpy as np\n",
    "\n",
    "# Set filenames\n",
    "rotated_image_filename = \"Rotated_GRS_FOV0_roll0_dx0_dy0_SCA1_direct_final.fits\"\n",
    "\n",
    "# Open fits\n",
    "direct_fits = fits.open(modified_header_filename)\n",
    "\n",
    "# Before dispersion rotation; k is the number of clockwise 90 degree rotations\n",
    "direct_fits[1].data = np.rot90(direct_fits[1].data, k=3)\n",
    "\n",
    "# Write new fits file with rotate image data\n",
    "direct_fits.writeto(rotated_image_filename, overwrite=True)"
   ]
  },
  {
   "cell_type": "markdown",
   "metadata": {},
   "source": [
    "#### 3) Bonus: Dispersion Trace and Cutout Size\n",
    "When dispersing an object, Grizli takes a cutout around that object and disperses within that cutout. By default, the cutout size is determined by the size of the object alone. However, the Roman Grism's trace is sometimes larger than the cutout size. This will cause objects to fail to disperse. To prevent this, we can set a size manually. Smaller cutout sizes reduce compute times, so we want to choose the smallest neccessary cutout size. \n",
    "\n",
    "One way to find this size is using the Scipy Optimize module as shown below. We want the largest displacement within our bounds. So, we need to compare the absolute values of the min and max. Scipy can only find the min. So, we run Scipy twice: once with the dy function and once with a negated dy function. We compare those two values for maximum absolute value. The manually set cutout size must be an integer larger than that float value."
   ]
  },
  {
   "cell_type": "code",
   "execution_count": 4,
   "metadata": {},
   "outputs": [],
   "source": [
    "# Import and set config_file\n",
    "from scipy.optimize import minimize, Bounds\n",
    "from collections import OrderedDict\n",
    "config_file = \"Roman.det1.07242020.conf\"\n",
    "\n",
    "# Parse config file\n",
    "conf = OrderedDict()\n",
    "lines = open(config_file).readlines()\n",
    "\n",
    "for line in lines:\n",
    "    if (line.startswith('#')) | (line.strip() == '') | ('\"' in line):\n",
    "                continue\n",
    "\n",
    "    if line.startswith(\"DYDX_A_\"):\n",
    "        spl = line.split(';')[0].split('#')[0].split()\n",
    "        param = spl[0]\n",
    "        value = np.cast[float](spl[1:])\n",
    "        conf[param] = value\n",
    "\n",
    "# Pull out the coefficients\n",
    "b = {}\n",
    "for n, dydx in enumerate(conf.keys()):\n",
    "    for m, coef in enumerate(conf[dydx]):\n",
    "        b[f\"{n},{m}\"] = coef"
   ]
  },
  {
   "cell_type": "code",
   "execution_count": 5,
   "metadata": {},
   "outputs": [],
   "source": [
    "# Define dispersion trace functions\n",
    "\n",
    "# Field Dependence \n",
    "a_0 = lambda i, j: b[\"0,0\"] + b[\"0,1\"]*i + b[\"0,2\"]*j + b[\"0,3\"]*i**2 + b[\"0,4\"]*i*j + b[\"0,5\"]*j**2\n",
    "a_1 = lambda i, j: b[\"1,0\"] + b[\"1,1\"]*i + b[\"1,2\"]*j + b[\"1,3\"]*i**2 + b[\"1,4\"]*i*j + b[\"1,5\"]*j**2\n",
    "a_2 = lambda i, j: b[\"2,0\"] + b[\"2,1\"]*i + b[\"2,2\"]*j + b[\"2,3\"]*i**2 + b[\"2,4\"]*i*j + b[\"2,5\"]*j**2\n",
    "\n",
    "# The Negated Trace \n",
    "dy = lambda args: a_0(args[0],args[1]) + a_1(args[0],args[1])*args[2] + a_2(args[0],args[1])*args[2]**2\n",
    "dy_negated = lambda args: -(a_0(args[0],args[1]) + a_1(args[0],args[1])*args[2] + a_2(args[0],args[1])*args[2]**2)"
   ]
  },
  {
   "cell_type": "code",
   "execution_count": 6,
   "metadata": {},
   "outputs": [
    {
     "name": "stdout",
     "output_type": "stream",
     "text": [
      "Cutout Size must be greater than or equal to 77.\n"
     ]
    }
   ],
   "source": [
    "# Set bounds of the chip (0:4088, 0:4800), and dx (-800:800)\n",
    "bounds = Bounds([0,0,-800],[4800,4800,800])\n",
    "\n",
    "# Scipy Optimize\n",
    "local_minimum = minimize(dy, x0=[4800,4800,800], bounds=bounds)\n",
    "local_maximum_negated = minimize(dy_negated, x0=[4800,4800,800], bounds=bounds)\n",
    "\n",
    "# Compare\n",
    "max_displacement = max(abs(local_minimum.fun), abs(local_maximum_negated.fun))\n",
    "\n",
    "print(\"Cutout Size must be greater than or equal to %i.\" %(int(max_displacement)+1))"
   ]
  }
 ],
 "metadata": {
  "kernelspec": {
   "display_name": "phot-griz",
   "language": "python",
   "name": "python3"
  },
  "language_info": {
   "codemirror_mode": {
    "name": "ipython",
    "version": 3
   },
   "file_extension": ".py",
   "mimetype": "text/x-python",
   "name": "python",
   "nbconvert_exporter": "python",
   "pygments_lexer": "ipython3",
   "version": "3.12.3"
  }
 },
 "nbformat": 4,
 "nbformat_minor": 2
}
