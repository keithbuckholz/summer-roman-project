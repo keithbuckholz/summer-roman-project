{
 "cells": [
  {
   "cell_type": "markdown",
   "metadata": {},
   "source": [
    "# Tutorial Notebooks\n",
    "\n",
    "This tutorial series uses a direct image and the config files from Roman HLSS Grism Simulation Products (Wang et al. 2022a).\n",
    "\n",
    "1) https://irsa.ipac.caltech.edu/data/theory/Roman/Wang2022a/products/FOV0/roll_0/dither_0x_0y/SCA1/GRS_FOV0_roll0_dx0_dy0_SCA1_direct_final.fits\n",
    "2) https://irsa.ipac.caltech.edu/data/theory/Roman/Wang2022a/products/configuration/Roman.det1.07242020.conf\n",
    "3) https://irsa.ipac.caltech.edu/data/theory/Roman/Wang2022a/products/configuration/sens_0720_2020.fits"
   ]
  },
  {
   "cell_type": "code",
   "execution_count": null,
   "metadata": {},
   "outputs": [],
   "source": [
    "import os\n",
    "os.chdir(\"filepath\")\n",
    "# os.chdir(os.path.join(os.getcwd(), 'fits_files')) # Relative path\n",
    "\n",
    "files = [\"https://irsa.ipac.caltech.edu/data/theory/Roman/Wang2022a/products/FOV0/roll_0/dither_0x_0y/SCA1/GRS_FOV0_roll0_dx0_dy0_SCA1_direct_final.fits\",\n",
    "         \"https://irsa.ipac.caltech.edu/data/theory/Roman/Wang2022a/products/configuration/Roman.det1.07242020.conf\",\n",
    "         \"https://irsa.ipac.caltech.edu/data/theory/Roman/Wang2022a/products/configuration/sens_0720_2020.fits\"]\n",
    "\n",
    "for url in files:\n",
    "    os.system(f\"wget {url}\")"
   ]
  }
 ],
 "metadata": {
  "kernelspec": {
   "display_name": "fresh_grizli",
   "language": "python",
   "name": "python3"
  },
  "language_info": {
   "codemirror_mode": {
    "name": "ipython",
    "version": 3
   },
   "file_extension": ".py",
   "mimetype": "text/x-python",
   "name": "python",
   "nbconvert_exporter": "python",
   "pygments_lexer": "ipython3",
   "version": "3.12.3"
  }
 },
 "nbformat": 4,
 "nbformat_minor": 2
}
